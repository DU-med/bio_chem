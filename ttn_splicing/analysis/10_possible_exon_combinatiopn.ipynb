{
 "cells": [
  {
   "cell_type": "markdown",
   "metadata": {},
   "source": [
    "# NCBIに登録されているバリアントをもとに、存在するイントロンととし得ないものの2群に分けてXGboostで特徴を抽出する\n",
    "**目的**<br>\n",
    "スプライスによって切り出され得るイントロンとそうではないイントロンの2群に分ける<br>\n",
    "それぞれのイントロンの両端n塩基を抽出する<br>\n",
    "XGboostを使用し、2群を分けるような特徴的な配列の抽出を試みる"
   ]
  },
  {
   "cell_type": "code",
   "execution_count": null,
   "metadata": {},
   "outputs": [],
   "source": [
    "# オリジナルモジュールのインポート\n",
    "from lib.gbkparse import Seq_count\n",
    "from lib.geneinfo import gene_id\n",
    "\n",
    "# モジュールのインポート\n",
    "import logomaker\n",
    "import numpy as np\n",
    "import pandas as pd\n",
    "import matplotlib.pyplot as plt\n",
    "import seaborn as sns\n",
    "import plotly.express as px\n",
    "\n",
    "from xgboost import XGBClassifier\n",
    "from sklearn.model_selection import train_test_split\n",
    "\n",
    "import warnings\n",
    "warnings.simplefilter(action='ignore', category=FutureWarning)"
   ]
  },
  {
   "cell_type": "markdown",
   "metadata": {},
   "source": [
    "**変数の設定**"
   ]
  },
  {
   "cell_type": "code",
   "execution_count": null,
   "metadata": {},
   "outputs": [],
   "source": [
    "# 解析する塩基数を指定\n",
    "n = 10\n",
    "\n",
    "# XGBoostに関する変数の設定\n",
    "early_stopping_rounds = 10\n",
    "learning_rate = 0.01\n",
    "max_depth = 8\n",
    "x_random_state = 1\n",
    "s_random_state =  0\n",
    "test_size = 0.2\n",
    "\n",
    "# 解析範囲の設定\n",
    "exon_start = 40\n",
    "exon_end = 230"
   ]
  },
  {
   "cell_type": "code",
   "execution_count": null,
   "metadata": {},
   "outputs": [],
   "source": [
    "gene_id('TTN')"
   ]
  },
  {
   "cell_type": "markdown",
   "metadata": {},
   "source": [
    "**配列情報の取得**"
   ]
  },
  {
   "cell_type": "code",
   "execution_count": null,
   "metadata": {},
   "outputs": [],
   "source": [
    "# クラスのインスタンス化\n",
    "gbk = Seq_count()\n",
    "\n",
    "# gbkファイルの読み込み\n",
    "# gbk.read_gbk('../data/gbk/human_ttn.gb')\n",
    "gbk.get_gbk('7273')\n",
    "\n",
    "# 各種バリアントの可視化\n",
    "# gbk.transcript_variants()"
   ]
  },
  {
   "cell_type": "code",
   "execution_count": null,
   "metadata": {},
   "outputs": [],
   "source": [
    "# バリアントのリストを作成 \n",
    "var = gbk.get_mrna_ids()\n",
    "\n",
    "# 特殊なバリアントを除外する\n",
    "rm_list = [\"XM_024453100.2\",\"NM_133379.5\", \"XM_024453099.1\", \"NM_003319.4\", \"XM_017004823.1\", \"NM_133432.3\", \"NM_133437.4\"]\n",
    "for i in rm_list:\n",
    "    var.remove(i)"
   ]
  },
  {
   "cell_type": "markdown",
   "metadata": {},
   "source": [
    "**２群の作成**"
   ]
  },
  {
   "cell_type": "code",
   "execution_count": null,
   "metadata": {},
   "outputs": [],
   "source": [
    "# すべてのエクソンの配列をvalueとする辞書を作成\n",
    "# エクソン番号は、バリアントに関わらず統一的なナンバリングにする\n",
    "\n",
    "all_exon_list = []\n",
    "for i in var:\n",
    "    gbk.set_mrna_id(i)\n",
    "    for j in gbk.exon_list():\n",
    "        if j not in all_exon_list:\n",
    "            all_exon_list.append(j)\n",
    "\n",
    "all_exon_list.sort(key=lambda x: x[0])\n",
    "\n",
    "exon_dic = {}\n",
    "for i in range(len(all_exon_list)):\n",
    "    exon_dic[i+1] = all_exon_list[i]"
   ]
  },
  {
   "cell_type": "code",
   "execution_count": null,
   "metadata": {},
   "outputs": [],
   "source": [
    "# 各バリンアントのおける統一的エクソンナンバーの組み合わせを作成\n",
    "def get_key(value):\n",
    "    for i in exon_dic.keys():\n",
    "        if exon_dic[i] == value:\n",
    "            return i\n",
    "\n",
    "variant_dic = {}\n",
    "for v in var:\n",
    "    gbk.set_mrna_id(v)\n",
    "    tmp_list = []\n",
    "    for i in gbk.exon_list():\n",
    "            tmp_list.append(get_key(i))\n",
    "    variant_dic[v] = tmp_list\n"
   ]
  },
  {
   "cell_type": "code",
   "execution_count": null,
   "metadata": {},
   "outputs": [],
   "source": [
    "# 存在しうるエクソンの組み合わせを作成\n",
    "exon_comb = []\n",
    "for i in var:\n",
    "    ls = variant_dic[i]\n",
    "    for i in range(len(ls)-1):\n",
    "        exon_comb.append((ls[i], ls[i+1]))\n",
    "exon_comb = set(exon_comb)"
   ]
  },
  {
   "cell_type": "code",
   "execution_count": null,
   "metadata": {},
   "outputs": [],
   "source": [
    "# exon40からexon230までの範囲に解析を限定する\n",
    "exon_comb_ltd = []\n",
    "for i,j in exon_comb:\n",
    "    if i >= exon_start and j <= exon_end:\n",
    "        exon_comb_ltd.append((i,j))\n",
    "\n",
    "existent_comb = sorted(exon_comb_ltd)\n",
    "print(\"exon_comb_ltdの要素数:\", len(existent_comb))\n",
    "# exon_comb_ltd"
   ]
  },
  {
   "cell_type": "code",
   "execution_count": null,
   "metadata": {},
   "outputs": [],
   "source": [
    "#  特殊なスプライスを受けるエクソン\n",
    "for i in exon_dic.keys():\n",
    "    if i < len(exon_dic.keys())-1:\n",
    "        if exon_dic[i][1] > exon_dic[i+1][0]:\n",
    "            print(i)"
   ]
  },
  {
   "cell_type": "code",
   "execution_count": null,
   "metadata": {},
   "outputs": [],
   "source": [
    "# エクソンを一つ以上飛ばす組み合わせを作成\n",
    "exon_distant_comb = []\n",
    "for i,j in existent_comb:\n",
    "    if j - i > 1:\n",
    "        exon_distant_comb.append((i,j))\n",
    "# exon_distant_comb"
   ]
  },
  {
   "cell_type": "code",
   "execution_count": null,
   "metadata": {},
   "outputs": [],
   "source": [
    "# スキップされるエクソンの組み合わせを作成\n",
    "space_filling_comb = []\n",
    "for i,j in exon_distant_comb:\n",
    "    for k in range(j-i):\n",
    "        space_filling_comb.append((i,i+k+1))\n",
    "\n",
    "space_filling_comb = set(space_filling_comb)\n",
    "\n",
    "# 存在し得ないイントロンの組み合わせを作成\n",
    "non_existent_comb = []\n",
    "for i in space_filling_comb:\n",
    "    if i not in existent_comb:\n",
    "        non_existent_comb.append(i)\n",
    "non_existent_comb = sorted(non_existent_comb)"
   ]
  },
  {
   "cell_type": "code",
   "execution_count": null,
   "metadata": {},
   "outputs": [],
   "source": [
    "# エクソンの組み合わせがあるイントロンの始点と終点のリスト\n",
    "existent_comb_region = []\n",
    "for i,j in existent_comb:\n",
    "    existent_comb_region.append((exon_dic[i][1], exon_dic[j][0]))\n",
    "# existent_comb_region\n",
    "\n",
    "# エクソンの組み合わせが無いイントロンの始点と終点のリスト\n",
    "non_existent_comb_region = []\n",
    "for i,j in non_existent_comb:\n",
    "    non_existent_comb_region.append((exon_dic[i][1], exon_dic[j][0]))\n",
    "# non_existent_comb_region"
   ]
  },
  {
   "cell_type": "code",
   "execution_count": null,
   "metadata": {},
   "outputs": [],
   "source": [
    "# TTN遺伝子全長配列\n",
    "seq = str(gbk.gDNA_seq())\n",
    "\n",
    "# existent_comb_regionのイントロン両端のn塩基の配列を取得\n",
    "existent_comb_region_edges = []\n",
    "for i,j in existent_comb_region:\n",
    "    left = seq[i:i+n]\n",
    "    right = seq[j-n:j]\n",
    "    existent_comb_region_edges.append((left+right))\n",
    "# existent_comb_region_edges\n",
    "\n",
    "# non_existent_comb_regionのイントロン両端のn塩基の配列を取得\n",
    "non_existent_comb_region_edges = []\n",
    "for i,j in non_existent_comb_region:\n",
    "    left = seq[i:i+n]\n",
    "    right = seq[j-n:j]\n",
    "    non_existent_comb_region_edges.append((left+right))\n",
    "# non_existent_comb_region_edges"
   ]
  },
  {
   "cell_type": "markdown",
   "metadata": {},
   "source": [
    "**XGboostで特徴を抽出**"
   ]
  },
  {
   "cell_type": "code",
   "execution_count": null,
   "metadata": {},
   "outputs": [],
   "source": [
    "# ワンホットエンコーディングを行う関数\n",
    "def one_hot_encode(seq):\n",
    "    mapping = {'A': [1, 0, 0, 0], 'T': [0, 1, 0, 0], 'G': [0, 0, 1, 0], 'C': [0, 0, 0, 1]}\n",
    "    return np.array([mapping[s] for s in seq]).flatten()\n",
    "\n",
    "# エンコーディングされた配列を準備\n",
    "existent_comb_region_edges_arr = np.array([one_hot_encode(seq) for seq in existent_comb_region_edges])\n",
    "non_existent_comb_region_edges_arr = np.array([one_hot_encode(seq) for seq in non_existent_comb_region_edges])\n",
    "\n",
    "# 学習データとしてワンホとエンコーディングされた配列を結合しXとする\n",
    "# ラベルをyとして結合する\n",
    "X = pd.DataFrame(np.concatenate([existent_comb_region_edges_arr, non_existent_comb_region_edges_arr]))\n",
    "y = pd.DataFrame(np.concatenate([np.ones(len(existent_comb_region_edges_arr)), np.zeros(len(non_existent_comb_region_edges_arr))]))\n",
    "\n",
    "# XGboostのインスタンス化\n",
    "model = XGBClassifier(early_stopping_rounds=early_stopping_rounds, learning_rate=learning_rate, max_depth=max_depth, random_state=x_random_state)\n",
    "\n",
    "# データの分割\n",
    "X_train, X_test, y_train, y_test = train_test_split(X, y, test_size=test_size, random_state=s_random_state)\n",
    "\n",
    "# データをモデルにfitさせる\n",
    "eval_set = [(X_test, y_test)]\n",
    "model.fit(X_train, y_train, eval_set=eval_set, verbose=False)    "
   ]
  },
  {
   "cell_type": "markdown",
   "metadata": {},
   "source": [
    "**特徴の可視化**"
   ]
  },
  {
   "cell_type": "code",
   "execution_count": null,
   "metadata": {},
   "outputs": [],
   "source": [
    "# logomakerを用いてモチーフを可視化\n",
    "df = pd.DataFrame(model.feature_importances_.reshape(n*2,4))\n",
    "df.columns = ['A','T','G','C']\n",
    "crp_logo = logomaker.Logo(df, shade_below=.5, fade_below=.5)"
   ]
  },
  {
   "cell_type": "code",
   "execution_count": null,
   "metadata": {},
   "outputs": [],
   "source": [
    "# 範囲の指定\n",
    "vmin, vmax = 0, 1\n",
    "\n",
    "# ヒートマップの描画\n",
    "fig, (ax1, ax2) = plt.subplots(ncols=2, figsize=(12, 2))\n",
    "\n",
    "# 最初のヒートマップ\n",
    "e_df = pd.DataFrame([list(i) for i in existent_comb_region_edges])\n",
    "sns.heatmap(e_df.apply(pd.Series.value_counts).fillna(0).astype(int)/len(existent_comb_region_edges), ax=ax1, cmap=\"viridis\", vmin=vmin, vmax=vmax, cbar=False)\n",
    "ax1.set_title(\"existent_comb_region_edges\")\n",
    "\n",
    "# 2つ目のヒートマップ\n",
    "n_df = pd.DataFrame([list(i) for i in non_existent_comb_region_edges])\n",
    "cax = fig.add_axes([0.92, 0.12, 0.02, 0.76])  # カラーバーの位置とサイズを調整\n",
    "sns.heatmap(n_df.apply(pd.Series.value_counts).fillna(0).astype(int)/len(non_existent_comb_region_edges), ax=ax2, cmap=\"viridis\",vmin=vmin, vmax=vmax, cbar_ax=cax)\n",
    "ax2.set_title(\"non_existent_comb_region_edges\")"
   ]
  },
  {
   "cell_type": "code",
   "execution_count": null,
   "metadata": {},
   "outputs": [],
   "source": [
    "# 3'側から3塩基目が\"A\"である割合を算出\n",
    "pos = -3\n",
    "base = \"A\"\n",
    "\n",
    "e_count = 0\n",
    "for i in existent_comb_region_edges:\n",
    "    if i[pos] == base:\n",
    "        e_count += 1\n",
    "print(\"existent combination: \", round(e_count/len(existent_comb_region_edges),2))\n",
    "        \n",
    "n_count = 0\n",
    "for i in non_existent_comb_region_edges:\n",
    "    if i[pos] == base:\n",
    "        n_count += 1\n",
    "print(\"non existent combination: \", round(n_count/len(non_existent_comb_region_edges),2))\n"
   ]
  },
  {
   "cell_type": "markdown",
   "metadata": {},
   "source": []
  }
 ],
 "metadata": {
  "kernelspec": {
   "display_name": "Python 3 (ipykernel)",
   "language": "python",
   "name": "python3"
  },
  "language_info": {
   "codemirror_mode": {
    "name": "ipython",
    "version": 3
   },
   "file_extension": ".py",
   "mimetype": "text/x-python",
   "name": "python",
   "nbconvert_exporter": "python",
   "pygments_lexer": "ipython3",
   "version": "3.10.13"
  }
 },
 "nbformat": 4,
 "nbformat_minor": 2
}
