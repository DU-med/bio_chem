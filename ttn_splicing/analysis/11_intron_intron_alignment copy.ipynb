{
 "cells": [
  {
   "cell_type": "markdown",
   "metadata": {},
   "source": [
    "# TTN遺伝子のイントロン同士の配列相同性をBLASTで評価する"
   ]
  },
  {
   "cell_type": "markdown",
   "metadata": {},
   "source": [
    "**目的**\n",
    "イントロン同士の配列を比較して、相同性を確認する<br>\n",
    "相同性とスプライシングパターンの関連がないかを検証"
   ]
  },
  {
   "cell_type": "code",
   "execution_count": null,
   "metadata": {},
   "outputs": [],
   "source": [
    "# オリジナルモジュールのインポート\n",
    "from lib.gbkparse import Seq_count\n",
    "import matplotlib.pyplot as plt\n",
    "import pandas as pd\n",
    "\n",
    "from Bio import pairwise2\n",
    "from Bio.pairwise2 import format_alignment\n",
    "\n",
    "import subprocess\n",
    "import glob\n",
    "\n",
    "import warnings\n",
    "warnings.simplefilter(action='ignore', category=FutureWarning)"
   ]
  },
  {
   "cell_type": "markdown",
   "metadata": {},
   "source": [
    "## 準備"
   ]
  },
  {
   "cell_type": "code",
   "execution_count": null,
   "metadata": {},
   "outputs": [],
   "source": [
    "# ディレクトリのリセット\n",
    "cmd1 = \"rm -rf ../data/blast\"\n",
    "cmd2 = \"mkdir -p ../data/blast/db/ ../data/blast/fasta/ ../data/blast/result/\"\n",
    "subprocess.call(cmd1.split())\n",
    "subprocess.call(cmd2.split())"
   ]
  },
  {
   "cell_type": "code",
   "execution_count": null,
   "metadata": {},
   "outputs": [],
   "source": [
    "# クラスのインスタンス化\n",
    "human = Seq_count()\n",
    "\n",
    "# gbkファイルの読み込み\n",
    "human.read_gbk('../data/gbk/human_ttn.gb')\n",
    "\n",
    "# 遺伝子全長配列\n",
    "seq = human.gDNA_seq()"
   ]
  },
  {
   "cell_type": "markdown",
   "metadata": {},
   "source": [
    "## BLASTの設定"
   ]
  },
  {
   "cell_type": "code",
   "execution_count": null,
   "metadata": {},
   "outputs": [],
   "source": [
    "# すべてのイントロン配列をfasta形式で保存\n",
    "with open(\"../data/blast/fasta/ttn_intron.fasta\",\"w\") as f:\n",
    "    for n,i in enumerate(human.intron_list()):\n",
    "        f.write(f\">intron{str(n+1).zfill(3)}\\n\")\n",
    "        f.write(\"\".join(seq[i[0]:i[1]]))\n",
    "        f.write(\"\\n\")\n",
    "\n",
    "# すべてのイントロン配列を個別にfasta形式で保存\n",
    "for n,i in enumerate(human.intron_list()):\n",
    "    with open(f\"../data/blast/fasta/ttn_intron{str(n+1).zfill(3)}.fasta\",\"w\") as f:\n",
    "        f.write(f\">intron{str(n+1).zfill(3)}\\n\")\n",
    "        f.write(\"\".join(seq[i[0]:i[1]]))"
   ]
  },
  {
   "cell_type": "code",
   "execution_count": null,
   "metadata": {},
   "outputs": [],
   "source": [
    "# BLASTデータベースの作成\n",
    "cmd = \"makeblastdb -in ../data/blast/fasta/ttn_intron.fasta -dbtype nucl -parse_seqids -out ../data/blast/db/ttn_intron\"\n",
    "subprocess.run(cmd.split())"
   ]
  },
  {
   "cell_type": "markdown",
   "metadata": {},
   "source": [
    "## BLASTの実行"
   ]
  },
  {
   "cell_type": "code",
   "execution_count": null,
   "metadata": {},
   "outputs": [],
   "source": [
    "# すべてのイントロンに対してBLASTを実行\n",
    "for i in range(human.intron_num()):\n",
    "    fmt = 6\n",
    "    cmd = f\"blastn -query ../data/blast/fasta/ttn_intron{str(i+1).zfill(3)}.fasta -db ../data/blast/db/ttn_intron -out ../data/blast/result/ttn_intron{str(i+1).zfill(3)}.txt -outfmt {fmt}\"\n",
    "    subprocess.run(cmd.split())"
   ]
  },
  {
   "cell_type": "markdown",
   "metadata": {},
   "source": [
    "## BLASTの結果の整理"
   ]
  },
  {
   "cell_type": "code",
   "execution_count": null,
   "metadata": {},
   "outputs": [],
   "source": [
    "# BLAST結果のファイルリスト\n",
    "ls = glob.glob(\"../data/blast/result/ttn_intron*.txt\")\n",
    "ls.sort(key = lambda x: int(x.split(\"/\")[-1].split(\".\")[0].split(\"n\")[-1]))"
   ]
  },
  {
   "cell_type": "code",
   "execution_count": null,
   "metadata": {},
   "outputs": [],
   "source": [
    "# BLAST結果ファイルの読み込みと結合\n",
    "df = pd.read_csv(ls[0], sep='\\t', header=None)\n",
    "for i in ls[1:]:\n",
    "    tmp = pd.read_csv(i, sep='\\t', header=None)\n",
    "    df = pd.concat([df, tmp])\n",
    "df.columns = [\"qseqid\", \"sseqid\", \"pident\", \"length\", \"mismatch\", \"gapopen\", \"qstart\", \"qend\", \"sstart\", \"send\", \"evalue\", \"bitscore\"]\n",
    "df"
   ]
  },
  {
   "cell_type": "code",
   "execution_count": null,
   "metadata": {},
   "outputs": [],
   "source": [
    "df.to_csv('../data/blast/blast.csv')"
   ]
  }
 ],
 "metadata": {
  "kernelspec": {
   "display_name": "Python 3 (ipykernel)",
   "language": "python",
   "name": "python3"
  },
  "language_info": {
   "codemirror_mode": {
    "name": "ipython",
    "version": 3
   },
   "file_extension": ".py",
   "mimetype": "text/x-python",
   "name": "python",
   "nbconvert_exporter": "python",
   "pygments_lexer": "ipython3",
   "version": "3.10.13"
  }
 },
 "nbformat": 4,
 "nbformat_minor": 2
}
