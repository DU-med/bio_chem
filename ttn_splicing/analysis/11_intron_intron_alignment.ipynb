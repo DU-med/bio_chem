{
 "cells": [
  {
   "cell_type": "markdown",
   "metadata": {},
   "source": [
    "# TTN遺伝子のイントロン同士の配列相同性をBLASTで評価する"
   ]
  },
  {
   "cell_type": "markdown",
   "metadata": {},
   "source": [
    "**目的**\n",
    "イントロン同士の配列を比較して、相同性を確認する<br>\n",
    "相同性とスプライシングパターンの関連がないかを検証"
   ]
  },
  {
   "cell_type": "code",
   "execution_count": 15,
   "metadata": {},
   "outputs": [],
   "source": [
    "# オリジナルモジュールのインポート\n",
    "from lib.gbkparse import Seq_count\n",
    "import matplotlib.pyplot as plt\n",
    "import pandas as pd\n",
    "\n",
    "from Bio import pairwise2\n",
    "from Bio.pairwise2 import format_alignment\n",
    "\n",
    "import subprocess\n",
    "import glob\n",
    "\n",
    "import warnings\n",
    "warnings.simplefilter(action='ignore', category=FutureWarning)"
   ]
  },
  {
   "cell_type": "markdown",
   "metadata": {},
   "source": [
    "## 準備"
   ]
  },
  {
   "cell_type": "code",
   "execution_count": 16,
   "metadata": {},
   "outputs": [
    {
     "data": {
      "text/plain": [
       "0"
      ]
     },
     "execution_count": 16,
     "metadata": {},
     "output_type": "execute_result"
    }
   ],
   "source": [
    "# ディレクトリのリセット\n",
    "cmd1 = \"rm -rf ../data/blast\"\n",
    "cmd2 = \"mkdir -p ../data/blast/db/ ../data/blast/fasta/ ../data/blast/result/\"\n",
    "subprocess.call(cmd1.split())\n",
    "subprocess.call(cmd2.split())"
   ]
  },
  {
   "cell_type": "code",
   "execution_count": 17,
   "metadata": {},
   "outputs": [
    {
     "name": "stdout",
     "output_type": "stream",
     "text": [
      "デフォルト値として、最もエクソンの多いNM_001267550.2を設定\n"
     ]
    }
   ],
   "source": [
    "# クラスのインスタンス化\n",
    "human = Seq_count()\n",
    "\n",
    "# gbkファイルの読み込み\n",
    "human.read_gbk('../data/gbk/human_ttn.gb')\n",
    "\n",
    "# 遺伝子全長配列\n",
    "seq = human.gDNA_seq()"
   ]
  },
  {
   "cell_type": "markdown",
   "metadata": {},
   "source": [
    "## BLASTの設定"
   ]
  },
  {
   "cell_type": "code",
   "execution_count": 18,
   "metadata": {},
   "outputs": [],
   "source": [
    "# すべてのイントロン配列をfasta形式で保存\n",
    "with open(\"../data/blast/fasta/ttn_intron.fasta\",\"w\") as f:\n",
    "    for n,i in enumerate(human.intron_list()):\n",
    "        f.write(f\">intron{str(n+1).zfill(3)}\\n\")\n",
    "        f.write(\"\".join(seq[i[0]:i[1]]))\n",
    "        f.write(\"\\n\")\n",
    "\n",
    "# すべてのイントロン配列を個別にfasta形式で保存\n",
    "for n,i in enumerate(human.intron_list()):\n",
    "    with open(f\"../data/blast/fasta/ttn_intron{str(n+1).zfill(3)}.fasta\",\"w\") as f:\n",
    "        f.write(f\">intron{str(n+1).zfill(3)}\\n\")\n",
    "        f.write(\"\".join(seq[i[0]:i[1]]))"
   ]
  },
  {
   "cell_type": "code",
   "execution_count": 19,
   "metadata": {},
   "outputs": [
    {
     "name": "stdout",
     "output_type": "stream",
     "text": [
      "\n",
      "\n",
      "Building a new DB, current time: 11/14/2023 09:14:35\n",
      "New DB name:   /home/du/GitHub/bio_chem/ttn_splicing/data/blast/db/ttn_intron\n",
      "New DB title:  ../data/blast/fasta/ttn_intron.fasta\n",
      "Sequence type: Nucleotide\n",
      "Keep MBits: T\n",
      "Maximum file size: 3000000000B\n",
      "Adding sequences from FASTA; added 362 sequences in 0.13954 seconds.\n",
      "\n",
      "\n"
     ]
    },
    {
     "data": {
      "text/plain": [
       "CompletedProcess(args=['makeblastdb', '-in', '../data/blast/fasta/ttn_intron.fasta', '-dbtype', 'nucl', '-parse_seqids', '-out', '../data/blast/db/ttn_intron'], returncode=0)"
      ]
     },
     "execution_count": 19,
     "metadata": {},
     "output_type": "execute_result"
    }
   ],
   "source": [
    "# BLASTデータベースの作成\n",
    "cmd = \"makeblastdb -in ../data/blast/fasta/ttn_intron.fasta -dbtype nucl -parse_seqids -out ../data/blast/db/ttn_intron\"\n",
    "subprocess.run(cmd.split())"
   ]
  },
  {
   "cell_type": "markdown",
   "metadata": {},
   "source": [
    "## BLASTの実行"
   ]
  },
  {
   "cell_type": "code",
   "execution_count": 20,
   "metadata": {},
   "outputs": [],
   "source": [
    "# すべてのイントロンに対してBLASTを実行\n",
    "for i in range(human.intron_num()):\n",
    "    fmt = 6\n",
    "    cmd = f\"blastn -query ../data/blast/fasta/ttn_intron{str(i+1).zfill(3)}.fasta -db ../data/blast/db/ttn_intron -out ../data/blast/result/ttn_intron{str(i+1).zfill(3)}.txt -outfmt {fmt}\"\n",
    "    subprocess.run(cmd.split())"
   ]
  },
  {
   "cell_type": "markdown",
   "metadata": {},
   "source": [
    "## BLASTの結果の整理"
   ]
  },
  {
   "cell_type": "code",
   "execution_count": 21,
   "metadata": {},
   "outputs": [],
   "source": [
    "# BLAST結果のファイルリスト\n",
    "ls = glob.glob(\"../data/blast/result/ttn_intron*.txt\")\n",
    "ls.sort(key = lambda x: int(x.split(\"/\")[-1].split(\".\")[0].split(\"n\")[-1]))"
   ]
  },
  {
   "cell_type": "code",
   "execution_count": 22,
   "metadata": {},
   "outputs": [
    {
     "data": {
      "text/html": [
       "<div>\n",
       "<style scoped>\n",
       "    .dataframe tbody tr th:only-of-type {\n",
       "        vertical-align: middle;\n",
       "    }\n",
       "\n",
       "    .dataframe tbody tr th {\n",
       "        vertical-align: top;\n",
       "    }\n",
       "\n",
       "    .dataframe thead th {\n",
       "        text-align: right;\n",
       "    }\n",
       "</style>\n",
       "<table border=\"1\" class=\"dataframe\">\n",
       "  <thead>\n",
       "    <tr style=\"text-align: right;\">\n",
       "      <th></th>\n",
       "      <th>qseqid</th>\n",
       "      <th>sseqid</th>\n",
       "      <th>pident</th>\n",
       "      <th>length</th>\n",
       "      <th>mismatch</th>\n",
       "      <th>gapopen</th>\n",
       "      <th>qstart</th>\n",
       "      <th>qend</th>\n",
       "      <th>sstart</th>\n",
       "      <th>send</th>\n",
       "      <th>evalue</th>\n",
       "      <th>bitscore</th>\n",
       "    </tr>\n",
       "  </thead>\n",
       "  <tbody>\n",
       "    <tr>\n",
       "      <th>0</th>\n",
       "      <td>intron001</td>\n",
       "      <td>intron001</td>\n",
       "      <td>100.000</td>\n",
       "      <td>2556</td>\n",
       "      <td>0</td>\n",
       "      <td>0</td>\n",
       "      <td>1</td>\n",
       "      <td>2556</td>\n",
       "      <td>1</td>\n",
       "      <td>2556</td>\n",
       "      <td>0.000000e+00</td>\n",
       "      <td>4721.0</td>\n",
       "    </tr>\n",
       "    <tr>\n",
       "      <th>1</th>\n",
       "      <td>intron001</td>\n",
       "      <td>intron294</td>\n",
       "      <td>85.666</td>\n",
       "      <td>293</td>\n",
       "      <td>40</td>\n",
       "      <td>2</td>\n",
       "      <td>1848</td>\n",
       "      <td>2139</td>\n",
       "      <td>1551</td>\n",
       "      <td>1260</td>\n",
       "      <td>1.010000e-84</td>\n",
       "      <td>307.0</td>\n",
       "    </tr>\n",
       "    <tr>\n",
       "      <th>2</th>\n",
       "      <td>intron001</td>\n",
       "      <td>intron127</td>\n",
       "      <td>84.444</td>\n",
       "      <td>315</td>\n",
       "      <td>44</td>\n",
       "      <td>4</td>\n",
       "      <td>1838</td>\n",
       "      <td>2151</td>\n",
       "      <td>2002</td>\n",
       "      <td>1692</td>\n",
       "      <td>3.640000e-84</td>\n",
       "      <td>305.0</td>\n",
       "    </tr>\n",
       "    <tr>\n",
       "      <th>3</th>\n",
       "      <td>intron001</td>\n",
       "      <td>intron049</td>\n",
       "      <td>81.699</td>\n",
       "      <td>306</td>\n",
       "      <td>46</td>\n",
       "      <td>8</td>\n",
       "      <td>1839</td>\n",
       "      <td>2141</td>\n",
       "      <td>791</td>\n",
       "      <td>493</td>\n",
       "      <td>2.240000e-66</td>\n",
       "      <td>246.0</td>\n",
       "    </tr>\n",
       "    <tr>\n",
       "      <th>0</th>\n",
       "      <td>intron002</td>\n",
       "      <td>intron002</td>\n",
       "      <td>100.000</td>\n",
       "      <td>2210</td>\n",
       "      <td>0</td>\n",
       "      <td>0</td>\n",
       "      <td>1</td>\n",
       "      <td>2210</td>\n",
       "      <td>1</td>\n",
       "      <td>2210</td>\n",
       "      <td>0.000000e+00</td>\n",
       "      <td>4082.0</td>\n",
       "    </tr>\n",
       "    <tr>\n",
       "      <th>...</th>\n",
       "      <td>...</td>\n",
       "      <td>...</td>\n",
       "      <td>...</td>\n",
       "      <td>...</td>\n",
       "      <td>...</td>\n",
       "      <td>...</td>\n",
       "      <td>...</td>\n",
       "      <td>...</td>\n",
       "      <td>...</td>\n",
       "      <td>...</td>\n",
       "      <td>...</td>\n",
       "      <td>...</td>\n",
       "    </tr>\n",
       "    <tr>\n",
       "      <th>0</th>\n",
       "      <td>intron358</td>\n",
       "      <td>intron358</td>\n",
       "      <td>100.000</td>\n",
       "      <td>124</td>\n",
       "      <td>0</td>\n",
       "      <td>0</td>\n",
       "      <td>1</td>\n",
       "      <td>124</td>\n",
       "      <td>1</td>\n",
       "      <td>124</td>\n",
       "      <td>9.690000e-63</td>\n",
       "      <td>230.0</td>\n",
       "    </tr>\n",
       "    <tr>\n",
       "      <th>0</th>\n",
       "      <td>intron359</td>\n",
       "      <td>intron359</td>\n",
       "      <td>100.000</td>\n",
       "      <td>740</td>\n",
       "      <td>0</td>\n",
       "      <td>0</td>\n",
       "      <td>1</td>\n",
       "      <td>740</td>\n",
       "      <td>1</td>\n",
       "      <td>740</td>\n",
       "      <td>0.000000e+00</td>\n",
       "      <td>1367.0</td>\n",
       "    </tr>\n",
       "    <tr>\n",
       "      <th>0</th>\n",
       "      <td>intron360</td>\n",
       "      <td>intron360</td>\n",
       "      <td>100.000</td>\n",
       "      <td>100</td>\n",
       "      <td>0</td>\n",
       "      <td>0</td>\n",
       "      <td>1</td>\n",
       "      <td>100</td>\n",
       "      <td>1</td>\n",
       "      <td>100</td>\n",
       "      <td>1.650000e-49</td>\n",
       "      <td>185.0</td>\n",
       "    </tr>\n",
       "    <tr>\n",
       "      <th>0</th>\n",
       "      <td>intron361</td>\n",
       "      <td>intron361</td>\n",
       "      <td>100.000</td>\n",
       "      <td>525</td>\n",
       "      <td>0</td>\n",
       "      <td>0</td>\n",
       "      <td>1</td>\n",
       "      <td>525</td>\n",
       "      <td>1</td>\n",
       "      <td>525</td>\n",
       "      <td>0.000000e+00</td>\n",
       "      <td>970.0</td>\n",
       "    </tr>\n",
       "    <tr>\n",
       "      <th>0</th>\n",
       "      <td>intron362</td>\n",
       "      <td>intron362</td>\n",
       "      <td>100.000</td>\n",
       "      <td>138</td>\n",
       "      <td>0</td>\n",
       "      <td>0</td>\n",
       "      <td>1</td>\n",
       "      <td>138</td>\n",
       "      <td>1</td>\n",
       "      <td>138</td>\n",
       "      <td>1.810000e-70</td>\n",
       "      <td>255.0</td>\n",
       "    </tr>\n",
       "  </tbody>\n",
       "</table>\n",
       "<p>535 rows × 12 columns</p>\n",
       "</div>"
      ],
      "text/plain": [
       "       qseqid     sseqid   pident  length  mismatch  gapopen  qstart  qend  \\\n",
       "0   intron001  intron001  100.000    2556         0        0       1  2556   \n",
       "1   intron001  intron294   85.666     293        40        2    1848  2139   \n",
       "2   intron001  intron127   84.444     315        44        4    1838  2151   \n",
       "3   intron001  intron049   81.699     306        46        8    1839  2141   \n",
       "0   intron002  intron002  100.000    2210         0        0       1  2210   \n",
       "..        ...        ...      ...     ...       ...      ...     ...   ...   \n",
       "0   intron358  intron358  100.000     124         0        0       1   124   \n",
       "0   intron359  intron359  100.000     740         0        0       1   740   \n",
       "0   intron360  intron360  100.000     100         0        0       1   100   \n",
       "0   intron361  intron361  100.000     525         0        0       1   525   \n",
       "0   intron362  intron362  100.000     138         0        0       1   138   \n",
       "\n",
       "    sstart  send        evalue  bitscore  \n",
       "0        1  2556  0.000000e+00    4721.0  \n",
       "1     1551  1260  1.010000e-84     307.0  \n",
       "2     2002  1692  3.640000e-84     305.0  \n",
       "3      791   493  2.240000e-66     246.0  \n",
       "0        1  2210  0.000000e+00    4082.0  \n",
       "..     ...   ...           ...       ...  \n",
       "0        1   124  9.690000e-63     230.0  \n",
       "0        1   740  0.000000e+00    1367.0  \n",
       "0        1   100  1.650000e-49     185.0  \n",
       "0        1   525  0.000000e+00     970.0  \n",
       "0        1   138  1.810000e-70     255.0  \n",
       "\n",
       "[535 rows x 12 columns]"
      ]
     },
     "execution_count": 22,
     "metadata": {},
     "output_type": "execute_result"
    }
   ],
   "source": [
    "# BLAST結果ファイルの読み込みと結合\n",
    "df = pd.read_csv(ls[0], sep='\\t', header=None)\n",
    "for i in ls[1:]:\n",
    "    tmp = pd.read_csv(i, sep='\\t', header=None)\n",
    "    df = pd.concat([df, tmp])\n",
    "df.columns = [\"qseqid\", \"sseqid\", \"pident\", \"length\", \"mismatch\", \"gapopen\", \"qstart\", \"qend\", \"sstart\", \"send\", \"evalue\", \"bitscore\"]\n",
    "df"
   ]
  },
  {
   "cell_type": "code",
   "execution_count": 23,
   "metadata": {},
   "outputs": [],
   "source": [
    "df.to_csv('../data/blast/blast.csv')"
   ]
  },
  {
   "cell_type": "code",
   "execution_count": null,
   "metadata": {},
   "outputs": [],
   "source": []
  }
 ],
 "metadata": {
  "kernelspec": {
   "display_name": "Python 3 (ipykernel)",
   "language": "python",
   "name": "python3"
  },
  "language_info": {
   "codemirror_mode": {
    "name": "ipython",
    "version": 3
   },
   "file_extension": ".py",
   "mimetype": "text/x-python",
   "name": "python",
   "nbconvert_exporter": "python",
   "pygments_lexer": "ipython3",
   "version": "3.10.13"
  }
 },
 "nbformat": 4,
 "nbformat_minor": 2
}
