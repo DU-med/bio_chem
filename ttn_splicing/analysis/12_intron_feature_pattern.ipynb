{
 "cells": [
  {
   "cell_type": "markdown",
   "metadata": {},
   "source": [
    "# NCBIのintron_featureのBEDファイルを取得し、可視化を行う\n",
    "**目的**<br>\n",
    "スプライスによって切り出され得るイントロンの遺伝子上での分布を確認<br>\n",
    "イントロンの起点と終点などの情報とともに可視化<br>\n",
    "他の諸情報も同時に表示<br>"
   ]
  },
  {
   "cell_type": "markdown",
   "metadata": {},
   "source": [
    "## 準備"
   ]
  },
  {
   "cell_type": "code",
   "execution_count": null,
   "metadata": {},
   "outputs": [],
   "source": [
    "# オリジナルモジュールのインポート\n",
    "from lib.gbkparse import Seq_count\n",
    "from lib.geneinfo import gene_id\n",
    "\n",
    "# モジュールのインポート\n",
    "import logomaker\n",
    "import numpy as np\n",
    "import pandas as pd\n",
    "import matplotlib.pyplot as plt\n",
    "import seaborn as sns\n",
    "import plotly.express as px\n",
    "import plotly.graph_objs as go\n",
    "\n",
    "from plotly.subplots import make_subplots\n",
    "\n",
    "import warnings\n",
    "warnings.simplefilter(action='ignore', category=FutureWarning)"
   ]
  },
  {
   "cell_type": "code",
   "execution_count": null,
   "metadata": {},
   "outputs": [],
   "source": [
    "gene_id('TTN')"
   ]
  },
  {
   "cell_type": "code",
   "execution_count": null,
   "metadata": {},
   "outputs": [],
   "source": [
    "gene_id = '7273'"
   ]
  },
  {
   "cell_type": "code",
   "execution_count": null,
   "metadata": {},
   "outputs": [],
   "source": [
    "# intron_file = '../data/intron/mouse_ttn_intron.tsv'\n",
    "# gbk_file = '../data/gbk/mouse_ttn.gb'\n",
    "intron_file = '../data/intron/human_ttn_intron.tsv'\n",
    "gbk_file = f'../data/gbk/{gene_id}.gb'"
   ]
  },
  {
   "cell_type": "markdown",
   "metadata": {},
   "source": [
    "## 変数の設定"
   ]
  },
  {
   "cell_type": "code",
   "execution_count": null,
   "metadata": {},
   "outputs": [],
   "source": [
    "# クラスのインスタンス化\n",
    "gbk = Seq_count()\n",
    "\n",
    "# gbkファイルの読み込み\n",
    "# gbk.read_gbk(gbk_file)\n",
    "gbk.get_gbk('7273')"
   ]
  },
  {
   "cell_type": "code",
   "execution_count": null,
   "metadata": {},
   "outputs": [],
   "source": [
    "# 当該遺伝子の染色体上の位置を確認\n",
    "with open(gbk_file,'r') as f:\n",
    "    for line in f:\n",
    "        if \"ACCESSION\" in line:\n",
    "            acc = line.split()[3]\n",
    "            break\n",
    "start, end = map(int, (acc.replace(\"complement(\",\"\").replace(\")\",\"\")).split(\"..\"))\n",
    "print(start, end)"
   ]
  },
  {
   "cell_type": "markdown",
   "metadata": {},
   "source": [
    "## intron_featurファイルを読み込み、データフレーム化"
   ]
  },
  {
   "cell_type": "code",
   "execution_count": null,
   "metadata": {},
   "outputs": [],
   "source": [
    "# データの読み込み\n",
    "bed = pd.read_csv(intron_file, sep='\\t', header=None, usecols=[1,2,5])\n",
    "\n",
    "# メジャーなストランドの確認\n",
    "major_strand = bed[5].value_counts().idxmax()\n",
    "\n",
    "# メジャーなストランドのみを抽出\n",
    "bed = bed[bed[5] == major_strand]\n",
    "bed = bed.loc[:,[1,2]]\n",
    "\n",
    "# 遺伝子領域外のイントロンを除外\n",
    "bed = bed[(start < bed[1]) & (bed[2] < end)]\n",
    "\n",
    "#\n",
    "if major_strand == '-':\n",
    "    bed = bed.apply(lambda x: end-x)\n",
    "    bed = bed.loc[:,[2,1]]\n",
    "    bed.columns = [\"start\",\"end\"]\n",
    "    bed = bed.sort_values('start')\n",
    "else:\n",
    "    bed = bed.apply(lambda x: x-start+1)\n",
    "    bed.columns = [\"start\",\"end\"]\n",
    "    bed = bed.sort_values('start')"
   ]
  },
  {
   "cell_type": "code",
   "execution_count": null,
   "metadata": {},
   "outputs": [],
   "source": [
    "# イントロンの位置の辞書を作成\n",
    "intron_dic = {}\n",
    "for n,l in enumerate(gbk.intron_list()):\n",
    "    intron_dic[n+1] = l"
   ]
  },
  {
   "cell_type": "code",
   "execution_count": null,
   "metadata": {},
   "outputs": [],
   "source": [
    "# イントロの位置情報をもとに、イントロン番号を取得\n",
    "def start_pos(x):\n",
    "    for k,v in intron_dic.items():\n",
    "        if x == v[0]:\n",
    "            return k\n",
    "def end_pos(x):\n",
    "    for k,v in intron_dic.items():\n",
    "        if x == v[1]:\n",
    "            return k"
   ]
  },
  {
   "cell_type": "markdown",
   "metadata": {},
   "source": [
    "## 上記情報をもとにデータフレームの作成"
   ]
  },
  {
   "cell_type": "code",
   "execution_count": null,
   "metadata": {},
   "outputs": [],
   "source": [
    "bed['start_pos'] = bed['start'].apply(start_pos)\n",
    "bed['end_pos'] = bed['end'].apply(end_pos)\n",
    "bed = bed.dropna()\n",
    "bed['start_pos'].astype(int)\n",
    "bed['end_pos'].astype(int)\n",
    "bed['intron_skip'] = bed['end_pos'] - bed['start_pos']"
   ]
  },
  {
   "cell_type": "code",
   "execution_count": null,
   "metadata": {},
   "outputs": [],
   "source": [
    "# 5'側を起点にイントロンの組み合わせの数をカウント\n",
    "s = bed.value_counts('start_pos').to_dict()\n",
    "for i in range(gbk.intron_num()):\n",
    "    if i+1 not in s.keys():\n",
    "        s[i+1] = 0\n",
    "sdf = pd.DataFrame.from_dict(s, orient='index').sort_index()\n",
    "\n",
    "# 3'側を起点にイントロンの組み合わせの数をカウント\n",
    "e = bed.value_counts('end_pos').to_dict()\n",
    "for i in range(gbk.intron_num()):\n",
    "    if i+1 not in e.keys():\n",
    "        e[i+1] = 0\n",
    "edf = pd.DataFrame.from_dict(e, orient='index').sort_index()\n",
    "\n",
    "# エクソン配列が3の倍数であるエクソンの表示\n",
    "exon_3x = []\n",
    "for i in range(gbk.exon_num()):\n",
    "    if len(gbk.exon_seq(i+1)) % 3 == 0:\n",
    "        exon_3x.append(1)\n",
    "    else:\n",
    "        exon_3x.append(0)\n",
    "df_3x = pd.DataFrame({\"exon\":[i+1 for i in range(gbk.exon_num())], \n",
    "                   \"existence\":exon_3x, \n",
    "                   \"length\":[len(gbk.exon_seq(i+1)) for i in range(gbk.exon_num())], \n",
    "                   \"bar\": [1 for i in range(gbk.exon_num())]})\n",
    "\n",
    "# イントロンのスプライスバリアントの作成\n",
    "skip_bed = bed[bed['intron_skip'] > 1]\n",
    "skip_bed = skip_bed.sort_values('intron_skip', ascending=False)\n",
    "skip_bed = skip_bed.sort_values('start_pos')\n",
    "\n",
    "numlst = [[i,j] for i,j in zip(skip_bed['start_pos'], skip_bed['end_pos'])]\n",
    "result = {0:[numlst[0]]}\n",
    "\n",
    "for i in numlst[1:]:\n",
    "    for j in range(len(result.keys())):\n",
    "        if result[j][-1][1] < i[0]:\n",
    "            result[j].append(i)\n",
    "            break\n",
    "    else:\n",
    "        result.setdefault(max(result.keys())+1,[i])           \n",
    "x_arr = np.array([])\n",
    "y_arr = np.array([])\n",
    "for i in range(len(result.keys())):\n",
    "    x_arr = np.concatenate([x_arr, np.array( [i + [None] for i in result[i]]).flatten()])\n",
    "    y_arr = np.concatenate([y_arr, np.full(3*len(result[i]), i)])"
   ]
  },
  {
   "cell_type": "markdown",
   "metadata": {},
   "source": [
    "## 上記情報の可視化"
   ]
  },
  {
   "cell_type": "code",
   "execution_count": null,
   "metadata": {},
   "outputs": [],
   "source": [
    "# グラフ作成\n",
    "fig = make_subplots(rows=4, cols=1, shared_xaxes=True, vertical_spacing=0.1)\n",
    "fig.add_trace(go.Bar(x=df_3x['exon'], y=df_3x['existence'], hovertemplate='Intron%{x}<extra></extra>'), row=1, col=1)\n",
    "fig.add_trace(go.Bar(x=sdf.index, y=sdf[0], hovertemplate='Intron%{x}<extra></extra>'), row=2, col=1)\n",
    "fig.add_trace(go.Scatter(x=x_arr, y=y_arr, hovertemplate='Intron edge: Intron%{x}<extra></extra>'), row=3, col=1)\n",
    "fig.add_trace(go.Bar(x=edf.index, y=edf[0], hovertemplate='Intron%{x}<extra></extra>'), row=4, col=1)\n",
    "\n",
    "# 各サブプロットのタイトルを追加\n",
    "x = 0\n",
    "titles = [\"3の倍数の塩基数のエクソン\", \"スプライスされたイントロンの起点の数\", \"スプライスされたイントロンの長さ\", \"スプライスされたイントロンの終点の数\"]\n",
    "y_pos = [1.03, 0.755, 0.465, 0.175]\n",
    "for t, y in zip(titles, y_pos):\n",
    "    fig.add_annotation(text=f\"{t}\", xref=\"paper\", yref=\"paper\", x=x, y=y, showarrow=False, font=dict(size=12))\n",
    "fig.update_layout(width=1200, height=800, title_text=f\"各種情報の比較 (NM_001267550.2)\", showlegend=False)\n",
    "\n",
    "fig.show()"
   ]
  }
 ],
 "metadata": {
  "kernelspec": {
   "display_name": "Python 3 (ipykernel)",
   "language": "python",
   "name": "python3"
  },
  "language_info": {
   "codemirror_mode": {
    "name": "ipython",
    "version": 3
   },
   "file_extension": ".py",
   "mimetype": "text/x-python",
   "name": "python",
   "nbconvert_exporter": "python",
   "pygments_lexer": "ipython3",
   "version": "3.10.13"
  }
 },
 "nbformat": 4,
 "nbformat_minor": 2
}
