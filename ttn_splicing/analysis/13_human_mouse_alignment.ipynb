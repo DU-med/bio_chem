{
 "cells": [
  {
   "cell_type": "markdown",
   "metadata": {},
   "source": [
    "# ２つの生物種のTTN遺伝子のイントロン同士の配列相同性をBLASTで評価する"
   ]
  },
  {
   "cell_type": "markdown",
   "metadata": {},
   "source": [
    "**目的**\n",
    "イントロン同士の配列を比較して、相同性を確認する<br>\n",
    "相同性とスプライシングパターンの関連がないかを検証"
   ]
  },
  {
   "cell_type": "code",
   "execution_count": null,
   "metadata": {},
   "outputs": [],
   "source": [
    "# オリジナルモジュールのインポート\n",
    "from lib.gbkparse import Seq_count\n",
    "import matplotlib.pyplot as plt\n",
    "import pandas as pd\n",
    "\n",
    "from Bio import pairwise2\n",
    "from Bio.pairwise2 import format_alignment\n",
    "\n",
    "import subprocess\n",
    "import glob\n",
    "\n",
    "import warnings\n",
    "warnings.simplefilter(action='ignore', category=FutureWarning)"
   ]
  },
  {
   "cell_type": "markdown",
   "metadata": {},
   "source": [
    "## 準備"
   ]
  },
  {
   "cell_type": "code",
   "execution_count": null,
   "metadata": {},
   "outputs": [],
   "source": [
    "# 生物種の指定\n",
    "specie1 = \"human\"\n",
    "specie2 = \"mouse\"\n",
    "\n",
    "# ディレクトリのリセット\n",
    "cmd1 = \"rm -rf ../data/blast\"\n",
    "cmd2 = f\"mkdir -p ../data/blast/db/{specie1}/ ../data/blast/fasta/{specie1}/ ../data/blast/fasta/{specie2}/ ../result/blast/{specie1}_{specie2}/\"\n",
    "subprocess.call(cmd1.split())\n",
    "subprocess.call(cmd2.split())\n",
    "\n",
    "# クラスのインスタンス化\n",
    "s1 = Seq_count()\n",
    "s2 = Seq_count()\n",
    "\n",
    "# gbkファイルの読み込み\n",
    "s1.read_gbk(f\"../data/gbk/{specie1}_ttn.gb\")\n",
    "s2.read_gbk(f\"../data/gbk/{specie2}_ttn.gb\")\n",
    "\n",
    "# 遺伝子全長配列\n",
    "seq1 = s1.gDNA_seq()\n",
    "seq2 = s2.gDNA_seq()"
   ]
  },
  {
   "cell_type": "markdown",
   "metadata": {},
   "source": [
    "## BLASTの設定"
   ]
  },
  {
   "cell_type": "code",
   "execution_count": null,
   "metadata": {},
   "outputs": [],
   "source": [
    "# specie1のすべてのイントロン配列をfasta形式で保存\n",
    "with open(f\"../data/blast/fasta/{specie1}/ttn_intron.fasta\",\"w\") as f:\n",
    "    for n,i in enumerate(s1.intron_list()):\n",
    "        f.write(f\">{specie1}_intron{str(n+1).zfill(3)}\\n\")\n",
    "        f.write(\"\".join(seq1[i[0]:i[1]]))\n",
    "        f.write(\"\\n\")\n",
    "\n",
    "# specie2すべてのイントロン配列を個別にfasta形式で保存\n",
    "for n,i in enumerate(s2.intron_list()):\n",
    "    with open(f\"../data/blast/fasta/{specie2}/ttn_intron{str(n+1).zfill(3)}.fasta\",\"w\") as f:\n",
    "        f.write(f\">{specie2}_intron{str(n+1).zfill(3)}\\n\")\n",
    "        f.write(\"\".join(seq2[i[0]:i[1]]))\n",
    "\n",
    "# BLASTデータベースの作成\n",
    "cmd = f\"makeblastdb -in ../data/blast/fasta/{specie1}/ttn_intron.fasta -dbtype nucl -parse_seqids -out ../data/blast/db/{specie1}/ttn_intron\"\n",
    "subprocess.run(cmd.split())"
   ]
  },
  {
   "cell_type": "markdown",
   "metadata": {},
   "source": [
    "## BLASTの実行"
   ]
  },
  {
   "cell_type": "code",
   "execution_count": null,
   "metadata": {},
   "outputs": [],
   "source": [
    "# すべてのイントロンに対してBLASTを実行\n",
    "for i in range(s2.intron_num()):\n",
    "    fmt = 6\n",
    "    cmd = f\"blastn -query ../data/blast/fasta/{specie2}/ttn_intron{str(i+1).zfill(3)}.fasta -db ../data/blast/db/{specie1}/ttn_intron -out ../result/blast/{specie1}_{specie2}/ttn_intron{str(i+1).zfill(3)}.txt -outfmt {fmt}\"\n",
    "    subprocess.run(cmd.split())"
   ]
  }
 ],
 "metadata": {
  "kernelspec": {
   "display_name": "Python 3 (ipykernel)",
   "language": "python",
   "name": "python3"
  },
  "language_info": {
   "codemirror_mode": {
    "name": "ipython",
    "version": 3
   },
   "file_extension": ".py",
   "mimetype": "text/x-python",
   "name": "python",
   "nbconvert_exporter": "python",
   "pygments_lexer": "ipython3",
   "version": "3.10.13"
  }
 },
 "nbformat": 4,
 "nbformat_minor": 2
}
