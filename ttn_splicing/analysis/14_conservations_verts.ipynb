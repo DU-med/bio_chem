{
 "cells": [
  {
   "cell_type": "markdown",
   "metadata": {},
   "source": [
    "# ヒトTTN遺伝子のイントロンの5'、3'側末端の塩基の保存性の評価"
   ]
  },
  {
   "cell_type": "markdown",
   "metadata": {},
   "source": [
    "**目的**\n",
    "イントロン同士の配列を比較して、相同性を確認する<br>\n",
    "相同性とスプライシングパターンの関連がないかを検証"
   ]
  },
  {
   "cell_type": "code",
   "execution_count": null,
   "metadata": {},
   "outputs": [],
   "source": [
    "# オリジナルモジュールのインポート\n",
    "from lib.gbkparse import Seq_count\n",
    "import matplotlib.pyplot as plt\n",
    "import pandas as pd\n",
    "import numpy as np\n",
    "import seaborn as sns\n",
    "import plotly.express as px\n",
    "\n",
    "import plotly.graph_objects as go\n",
    "from plotly.subplots import make_subplots\n",
    "\n",
    "import subprocess\n",
    "import glob\n",
    "\n",
    "import warnings\n",
    "warnings.simplefilter(action='ignore', category=FutureWarning)"
   ]
  },
  {
   "cell_type": "markdown",
   "metadata": {},
   "source": [
    "## 準備"
   ]
  },
  {
   "cell_type": "code",
   "execution_count": null,
   "metadata": {},
   "outputs": [],
   "source": [
    "# クラスのインスタンス化\n",
    "gbk = Seq_count()\n",
    "\n",
    "# gbkファイルの読み込み\n",
    "gbk.read_gbk('../data/gbk/human_ttn.gb')"
   ]
  },
  {
   "cell_type": "code",
   "execution_count": null,
   "metadata": {},
   "outputs": [],
   "source": [
    "with open('../data/gbk/human_ttn.gb') as f:\n",
    "    lines = f.readlines()\n",
    "    for i in lines[:10]:\n",
    "        for j in i.split():\n",
    "            if \"complement\" in j:\n",
    "                start, end = j.replace(\"complement(\", \"\").replace(\")\", \"\").split(\"..\")\n",
    "start = int(start)\n",
    "end = int(end)\n",
    "print(start, end)"
   ]
  },
  {
   "cell_type": "markdown",
   "metadata": {},
   "source": [
    "## UCSCのTbale BrowserからダウンロードしたphastCons100wayのデータの読み込み"
   ]
  },
  {
   "cell_type": "code",
   "execution_count": null,
   "metadata": {},
   "outputs": [],
   "source": [
    "# 3分割したファイルの読み込みと統合\n",
    "ttn1 = pd.read_csv('../data/ucsc/ucsc_ttn1.txt', sep='\\t', skiprows=9, nrows=100000, header=None)\n",
    "ttn2 = pd.read_csv('../data/ucsc/ucsc_ttn2.txt', sep='\\t', skiprows=9, nrows=100000, header=None)\n",
    "ttn3 = pd.read_csv('../data/ucsc/ucsc_ttn3.txt', sep='\\t', skiprows=9, nrows=100000, header=None)\n",
    "ttn = pd.concat([ttn1, ttn2, ttn3])\n",
    "\n",
    "# TTN遺伝子範囲のみ抽出\n",
    "ucsc_ttn = ttn[(ttn[0] >= start) & (ttn[0] <= end)]\n",
    "ucsc_ttn.columns = ['pos','cons' ]\n",
    "\n",
    "# 読み込んだデータに一部欠損があるために、欠損箇所を埋める\n",
    "tmp = pd.DataFrame({\"pos\": np.arange(178525989, 178807423)})\n",
    "df = pd.merge(tmp, ucsc_ttn, left_on='pos', right_on='pos', how='left')"
   ]
  },
  {
   "cell_type": "markdown",
   "metadata": {},
   "source": [
    "## 各イントロンとエクソンの塩基ごとの保存性の平均値を求める"
   ]
  },
  {
   "cell_type": "code",
   "execution_count": null,
   "metadata": {},
   "outputs": [],
   "source": [
    "#　TTNのmRNAは逆鎖にあるため、反転させる\n",
    "df = df.sort_values('pos', ascending=False)\n",
    "df['pos'] = df['pos'].apply(lambda x: 178807422-x)\n",
    "df = df.set_index('pos', drop=True)\n",
    "\n",
    "# エクソンのごとの保存性の平均値を求める\n",
    "exon_cons_ave = {}\n",
    "for i in range(gbk.exon_num()):\n",
    "    r = gbk.exon_list()[i]\n",
    "    ave = round(df.iloc[r[0]:r[1], 0].mean(),2)\n",
    "    exon_cons_ave[i+1] = ave\n",
    "\n",
    "# イントロンのごとの保存性の平均値を求める\n",
    "intron_cons_ave = {}\n",
    "for i in range(gbk.intron_num()):\n",
    "    r = gbk.intron_list()[i]\n",
    "    ave = round(df.iloc[r[0]:r[1], 0].mean(),2)\n",
    "    intron_cons_ave[i+1] = ave"
   ]
  },
  {
   "cell_type": "code",
   "execution_count": null,
   "metadata": {},
   "outputs": [],
   "source": [
    "# 上記のデータの可視化\n",
    "exon_hovertxt = 'Exon: %{x}<br>Conservation: %{y}<extra></extra>'\n",
    "intron_hovertxt = 'Intron: %{x}<br>Conservation: %{y}<extra></extra>'\n",
    "fig = make_subplots(rows=2, cols=1, subplot_titles=(\"各エクソンの塩基の保存性の平均\", \"各イントロンの塩基の保存性の平均\"))\n",
    "fig.add_trace(go.Bar(x=list(exon_cons_ave.keys()), y=list(exon_cons_ave.values()), hovertemplate=exon_hovertxt), row=1, col=1)\n",
    "fig.add_trace(go.Bar(x=list(intron_cons_ave.keys()), y=list(intron_cons_ave.values()), hovertemplate=intron_hovertxt), row=2, col=1)\n",
    "fig.update_yaxes(range=[0, 1], row=1, col=1)\n",
    "fig.update_yaxes(range=[0, 1], row=2, col=1)\n",
    "fig.update_layout(height=500, width=1200, title_text=\"塩基の保存性の平均値\")\n",
    "fig.show()"
   ]
  },
  {
   "cell_type": "markdown",
   "metadata": {},
   "source": [
    "## 各イントロン末端からnum塩基の各塩基の保存性を可視化"
   ]
  },
  {
   "cell_type": "code",
   "execution_count": null,
   "metadata": {},
   "outputs": [],
   "source": [
    "# 検討するイントロン末端からの塩基数\n",
    "num = 500\n",
    "\n",
    "# 5'側のイントロンn塩基の保存性の平均\n",
    "left_intron_cons = {} \n",
    "for n, i in enumerate(gbk.intron_list()):\n",
    "    left_intron_cons[n+1] = list(df.iloc[i[0]:i[0]+num,0])\n",
    "left_intron_cons_ave_df = pd.DataFrame.from_dict(left_intron_cons).T\n",
    "left_intron_cons_ave_df.columns = [i for i in range(1, num+1)]\n",
    "left_intron_cons_ave_df = left_intron_cons_ave_df.apply(lambda x: round(x,2))\n",
    "# 5'側のイントロンn塩基の保存性の平均\n",
    "right_intron_cons = {} \n",
    "for n, i in enumerate(gbk.intron_list()):\n",
    "    right_intron_cons[n+1] = list(df.iloc[i[1]-num:i[1],0])\n",
    "right_intron_cons_ave_df = pd.DataFrame.from_dict(right_intron_cons).T\n",
    "right_intron_cons_ave_df.columns = [-i for i in range(num, 0, -1)]\n",
    "right_intron_cons_ave_df = right_intron_cons_ave_df.apply(lambda x: round(x,2))"
   ]
  },
  {
   "cell_type": "code",
   "execution_count": null,
   "metadata": {},
   "outputs": [],
   "source": [
    "# 上記データの可視化\n",
    "fig = make_subplots(rows=1, cols=2, subplot_titles=(f\"各イントロンの5'側の{num}塩基の保存性\", f\"各イントロンの3'側の{num}塩基の保存性\"))\n",
    "left_hovertxt = 'Intron: %{y}<br>Base: %{x}<br>Conservation: %{z}<extra></extra>'\n",
    "right_hovertxt = 'Intron: %{y}<br>Base: %{x}<br>Conservation: %{z}<extra></extra>'\n",
    "fig.add_trace(go.Heatmap(x=left_intron_cons_ave_df.columns, y=left_intron_cons_ave_df.index, z=left_intron_cons_ave_df.values, colorscale='Viridis', hovertemplate=left_hovertxt), row=1, col=1)\n",
    "fig.add_trace(go.Heatmap(x=right_intron_cons_ave_df.columns, y=right_intron_cons_ave_df.index, z=right_intron_cons_ave_df.values, colorscale='Viridis', hovertemplate=right_hovertxt), row=1, col=2)\n",
    "fig.update_yaxes(autorange=\"reversed\")\n",
    "fig.update_layout(height=750, width=1200, title_text=\"サブプロットの例\")\n",
    "fig.show()"
   ]
  },
  {
   "cell_type": "code",
   "execution_count": null,
   "metadata": {},
   "outputs": [],
   "source": []
  }
 ],
 "metadata": {
  "kernelspec": {
   "display_name": "Python 3 (ipykernel)",
   "language": "python",
   "name": "python3"
  },
  "language_info": {
   "codemirror_mode": {
    "name": "ipython",
    "version": 3
   },
   "file_extension": ".py",
   "mimetype": "text/x-python",
   "name": "python",
   "nbconvert_exporter": "python",
   "pygments_lexer": "ipython3",
   "version": "3.10.13"
  }
 },
 "nbformat": 4,
 "nbformat_minor": 2
}
