{
 "cells": [
  {
   "cell_type": "markdown",
   "metadata": {},
   "source": [
    "# ２つの生物種のTTN遺伝子のイントロン同士の配列相同性をBLASTで評価する"
   ]
  },
  {
   "cell_type": "markdown",
   "metadata": {},
   "source": [
    "**目的**\n",
    "イントロン同士の配列を比較して、相同性を確認する<br>\n",
    "相同性とスプライシングパターンの関連がないかを検証"
   ]
  },
  {
   "cell_type": "code",
   "execution_count": null,
   "metadata": {},
   "outputs": [],
   "source": [
    "# オリジナルモジュールのインポート\n",
    "from lib.gbkparse import Seq_count\n",
    "import matplotlib.pyplot as plt\n",
    "import pandas as pd\n",
    "import numpy as np\n",
    "import seaborn as sns\n",
    "import plotly.express as px\n",
    "\n",
    "from Bio import pairwise2\n",
    "from Bio.pairwise2 import format_alignment\n",
    "\n",
    "import subprocess\n",
    "import glob\n",
    "\n",
    "import warnings\n",
    "warnings.simplefilter(action='ignore', category=FutureWarning)"
   ]
  },
  {
   "cell_type": "markdown",
   "metadata": {},
   "source": [
    "## 準備"
   ]
  },
  {
   "cell_type": "code",
   "execution_count": null,
   "metadata": {},
   "outputs": [],
   "source": [
    "# クラスのインスタンス化\n",
    "gbk = Seq_count()\n",
    "\n",
    "# gbkファイルの読み込み\n",
    "gbk.read_gbk('../data/gbk/human_ttn.gb')"
   ]
  },
  {
   "cell_type": "code",
   "execution_count": null,
   "metadata": {},
   "outputs": [],
   "source": [
    "with open('../data/gbk/human_ttn.gb') as f:\n",
    "    lines = f.readlines()\n",
    "    for i in lines[:10]:\n",
    "        for j in i.split():\n",
    "            if \"complement\" in j:\n",
    "                start, end = j.replace(\"complement(\", \"\").replace(\")\", \"\").split(\"..\")\n",
    "start = int(start)\n",
    "end = int(end)\n",
    "print(start, end)"
   ]
  },
  {
   "cell_type": "code",
   "execution_count": null,
   "metadata": {},
   "outputs": [],
   "source": [
    "ttn1 = pd.read_csv('../data/ucsc/ucsc_ttn1.txt', sep='\\t', skiprows=9, nrows=100000, header=None)\n",
    "ttn2 = pd.read_csv('../data/ucsc/ucsc_ttn2.txt', sep='\\t', skiprows=9, nrows=100000, header=None)\n",
    "ttn3 = pd.read_csv('../data/ucsc/ucsc_ttn3.txt', sep='\\t', skiprows=9, nrows=100000, header=None)\n",
    "ttn = pd.concat([ttn1, ttn2, ttn3])"
   ]
  },
  {
   "cell_type": "code",
   "execution_count": null,
   "metadata": {},
   "outputs": [],
   "source": [
    "ucsc_ttn = ttn[(ttn[0] >= start) & (ttn[0] <= end)]\n",
    "ucsc_ttn.columns = ['pos','cons' ]\n",
    "ucsc_ttn"
   ]
  },
  {
   "cell_type": "code",
   "execution_count": null,
   "metadata": {},
   "outputs": [],
   "source": [
    "tmp = pd.DataFrame({\"pos\": np.arange(178525989, 178807423)})\n"
   ]
  },
  {
   "cell_type": "code",
   "execution_count": null,
   "metadata": {},
   "outputs": [],
   "source": [
    "df = pd.merge(tmp, ucsc_ttn, left_on='pos', right_on='pos', how='left')\n",
    "df"
   ]
  },
  {
   "cell_type": "code",
   "execution_count": null,
   "metadata": {},
   "outputs": [],
   "source": [
    "fig = px.bar(x=df['pos'], y=df['cons'])\n",
    "fig.show()"
   ]
  },
  {
   "cell_type": "code",
   "execution_count": null,
   "metadata": {},
   "outputs": [],
   "source": []
  }
 ],
 "metadata": {
  "kernelspec": {
   "display_name": "Python 3 (ipykernel)",
   "language": "python",
   "name": "python3"
  },
  "language_info": {
   "codemirror_mode": {
    "name": "ipython",
    "version": 3
   },
   "file_extension": ".py",
   "mimetype": "text/x-python",
   "name": "python",
   "nbconvert_exporter": "python",
   "pygments_lexer": "ipython3",
   "version": "3.10.13"
  }
 },
 "nbformat": 4,
 "nbformat_minor": 2
}
