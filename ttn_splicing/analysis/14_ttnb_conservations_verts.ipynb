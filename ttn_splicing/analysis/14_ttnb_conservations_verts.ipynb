{
 "cells": [
  {
   "cell_type": "markdown",
   "metadata": {},
   "source": [
    "# ヒトTTN遺伝子のイントロンの5'、3'側末端の塩基の保存性の評価"
   ]
  },
  {
   "cell_type": "markdown",
   "metadata": {},
   "source": [
    "**目的**\n",
    "イントロン同士の配列を比較して、相同性を確認する<br>\n",
    "相同性とスプライシングパターンの関連がないかを検証"
   ]
  },
  {
   "cell_type": "code",
   "execution_count": null,
   "metadata": {},
   "outputs": [],
   "source": [
    "# オリジナルモジュールのインポート\n",
    "from lib.gbkparse import Seq_count\n",
    "from lib.geneinfo import gene_id\n",
    "\n",
    "import matplotlib.pyplot as plt\n",
    "import pandas as pd\n",
    "import numpy as np\n",
    "import seaborn as sns\n",
    "import plotly.express as px\n",
    "\n",
    "import plotly.graph_objects as go\n",
    "from plotly.subplots import make_subplots\n",
    "\n",
    "import subprocess\n",
    "import glob\n",
    "import requests\n",
    "\n",
    "import warnings\n",
    "warnings.simplefilter(action='ignore', category=FutureWarning)"
   ]
  },
  {
   "cell_type": "markdown",
   "metadata": {},
   "source": [
    "## 準備"
   ]
  },
  {
   "cell_type": "code",
   "execution_count": null,
   "metadata": {},
   "outputs": [],
   "source": [
    "gid= str(gene_id('TTN').iloc[0,0])\n",
    "gid"
   ]
  },
  {
   "cell_type": "code",
   "execution_count": null,
   "metadata": {},
   "outputs": [],
   "source": [
    "# クラスのインスタンス化\n",
    "gbk = Seq_count()\n",
    "\n",
    "# gbkファイルの読み込み\n",
    "# gbk.read_gbk('../data/gbk/human_ttn.gb')\n",
    "gbk.get_gbk(gid)"
   ]
  },
  {
   "cell_type": "markdown",
   "metadata": {},
   "source": [
    "## UCSCのTbale BrowserからダウンロードしたphastCons100wayのデータの読み込み"
   ]
  },
  {
   "cell_type": "code",
   "execution_count": null,
   "metadata": {},
   "outputs": [],
   "source": [
    "# UCSCのデータベースからphastCons100wayの情報を取得\n",
    "api_url = \"https://api.genome.ucsc.edu/getData/track\"\n",
    "params = {\n",
    "    \"genome\": \"hg38\",\n",
    "    \"track\": \"phastCons100way\",  # 適切なトラック名を使用\n",
    "    \"chrom\": f\"{gbk.chrom}\",  # 対象の染色体\n",
    "    \"start\": f\"{gbk.start}\",  # 指定する領域の開始位置\n",
    "    \"end\": f\"{gbk.end}\"  # 指定する領域の終了位置\n",
    "}\n",
    "\n",
    "response = requests.get(api_url, params=params)\n",
    "if response.ok:\n",
    "    cons_verts_data = response.json()\n",
    "else:\n",
    "    print(\"Error: Unable to fetch data\")"
   ]
  },
  {
   "cell_type": "code",
   "execution_count": null,
   "metadata": {},
   "outputs": [],
   "source": [
    "# プラス鎖の場合\n",
    "if gbk.strand == 1:\n",
    "    cons_df = pd.DataFrame(cons_verts_data[f'chr{gbk.chrom}']) # 保存性のJSONデータをデータフレームに変換\n",
    "    cons_df = cons_df.loc[:,['start','value']] # 必要な情報のみを抽出\n",
    "    cons_df.columns = ['pos','cons'] # カラム名を変更\n",
    "    cons_df = cons_df.sort_values('pos') # 位置情報順にソート\n",
    "    cons_df['pos'] = cons_df['pos'] - cons_df['pos'].min() # 遺伝子の5'側末端を0として位置情報を変換\n",
    "    cons_df = cons_df.set_index('pos') # 位置情報をインデックスとして変換\n",
    "    tmp = pd.DataFrame({'pos':[i for i in range(gbk.length)]}) # 上記情報は一部欠落があるので穴埋めようのデータフレームを用意\n",
    "    cons_df = pd.merge(tmp, cons_df, left_index=True, right_index=True, how='outer') # 上記のtmpとcons_dfを外部結合\n",
    "    cons_df = cons_df.set_index('pos', drop=True) # 'pos'情報をインデックスに\n",
    "\n",
    "# マイナス鎖の場合\n",
    "elif gbk.strand == 2:\n",
    "    cons_df = pd.DataFrame(cons_verts_data[f'chr{gbk.chrom}']) # 保存性のJSONデータをデータフレームに変換\n",
    "    cons_df = cons_df.loc[:,['start','value']] # 必要な情報のみを抽出\n",
    "    cons_df.columns = ['pos','cons'] # カラム名を変更\n",
    "    cons_df = cons_df.sort_values('pos') # 位置情報順にソート\n",
    "    cons_df['pos'] = cons_df['pos'].max() - cons_df['pos'] # マイナス鎖であることを考慮しながら、遺伝子の5'側末端を0として位置情報を変換\n",
    "    cons_df = cons_df.set_index('pos') # 位置情報をインデックスとして変換\n",
    "    tmp = pd.DataFrame({'pos':[i for i in range(gbk.length)]}) # 上記情報は一部欠落があるので穴埋めようのデータフレームを用意\n",
    "    cons_df = pd.merge(tmp, cons_df, left_index=True, right_index=True, how='outer') # 上記のtmpとcons_dfを外部結合\n",
    "    cons_df = cons_df.set_index('pos', drop=True) # 'pos'情報をインデックスに\n",
    "cons_df"
   ]
  },
  {
   "cell_type": "markdown",
   "metadata": {},
   "source": [
    "## 各イントロンとエクソンの塩基ごとの保存性の平均値を求める"
   ]
  },
  {
   "cell_type": "code",
   "execution_count": null,
   "metadata": {},
   "outputs": [],
   "source": [
    "# エクソンのごとの保存性の平均値を求める\n",
    "exon_cons_ave = {}\n",
    "for i in range(gbk.exon_num()):\n",
    "    r = gbk.exon_list()[i]\n",
    "    ave = round(cons_df.iloc[r[0]:r[1], 0].mean(),2)\n",
    "    exon_cons_ave[i+1] = ave\n",
    "\n",
    "# イントロンのごとの保存性の平均値を求める\n",
    "intron_cons_ave = {}\n",
    "for i in range(gbk.intron_num()):\n",
    "    r = gbk.intron_list()[i]\n",
    "    ave = round(cons_df.iloc[r[0]:r[1], 0].mean(),2)\n",
    "    intron_cons_ave[i+1] = ave"
   ]
  },
  {
   "cell_type": "code",
   "execution_count": null,
   "metadata": {},
   "outputs": [],
   "source": [
    "# 上記のデータの可視化\n",
    "exon_hovertxt = 'Exon: %{x}<br>Conservation: %{y}<extra></extra>'\n",
    "intron_hovertxt = 'Intron: %{x}<br>Conservation: %{y}<extra></extra>'\n",
    "fig = make_subplots(rows=2, cols=1, subplot_titles=(\"各エクソンの塩基の保存性の平均\", \"各イントロンの塩基の保存性の平均\"))\n",
    "fig.add_trace(go.Bar(x=list(exon_cons_ave.keys()), y=list(exon_cons_ave.values()), hovertemplate=exon_hovertxt), row=1, col=1)\n",
    "fig.add_trace(go.Bar(x=list(intron_cons_ave.keys()), y=list(intron_cons_ave.values()), hovertemplate=intron_hovertxt), row=2, col=1)\n",
    "fig.update_yaxes(range=[0, 1], row=1, col=1)\n",
    "fig.update_yaxes(range=[0, 1], row=2, col=1)\n",
    "fig.update_layout(height=500, width=1200, title_text=\"塩基の保存性の平均値\")\n",
    "fig.show()"
   ]
  },
  {
   "cell_type": "markdown",
   "metadata": {},
   "source": [
    "## 各イントロン末端からnum塩基の各塩基の保存性を可視化"
   ]
  },
  {
   "cell_type": "code",
   "execution_count": null,
   "metadata": {},
   "outputs": [],
   "source": [
    "# 検討するイントロン末端からの塩基数\n",
    "num = 80\n",
    "\n",
    "# 5'側のイントロンn塩基の保存性の平均\n",
    "left_intron_cons = {} \n",
    "for n, i in enumerate(gbk.intron_list()):\n",
    "    left_intron_cons[n+1] = list(cons_df.iloc[i[0]:i[0]+num,0])\n",
    "left_intron_cons_ave_df = pd.DataFrame.from_dict(left_intron_cons).T\n",
    "left_intron_cons_ave_df.columns = [i for i in range(1, num+1)]\n",
    "left_intron_cons_ave_df = left_intron_cons_ave_df.apply(lambda x: round(x,2))\n",
    "# 5'側のイントロンn塩基の保存性の平均\n",
    "right_intron_cons = {} \n",
    "for n, i in enumerate(gbk.intron_list()):\n",
    "    right_intron_cons[n+1] = list(cons_df.iloc[i[1]-num:i[1],0])\n",
    "right_intron_cons_ave_df = pd.DataFrame.from_dict(right_intron_cons).T\n",
    "right_intron_cons_ave_df.columns = [-i for i in range(num, 0, -1)]\n",
    "right_intron_cons_ave_df = right_intron_cons_ave_df.apply(lambda x: round(x,2))"
   ]
  },
  {
   "cell_type": "code",
   "execution_count": null,
   "metadata": {},
   "outputs": [],
   "source": [
    "# 上記データの可視化\n",
    "fig = make_subplots(rows=1, cols=2, subplot_titles=(f\"各イントロンの5'側の{num}塩基の保存性\", f\"各イントロンの3'側の{num}塩基の保存性\"))\n",
    "left_hovertxt = 'Intron: %{y}<br>Base: %{x}<br>Conservation: %{z}<extra></extra>'\n",
    "right_hovertxt = 'Intron: %{y}<br>Base: %{x}<br>Conservation: %{z}<extra></extra>'\n",
    "fig.add_trace(go.Heatmap(x=left_intron_cons_ave_df.columns, y=left_intron_cons_ave_df.index, z=left_intron_cons_ave_df.values, colorscale='Viridis', hovertemplate=left_hovertxt), row=1, col=1)\n",
    "fig.add_trace(go.Heatmap(x=right_intron_cons_ave_df.columns, y=right_intron_cons_ave_df.index, z=right_intron_cons_ave_df.values, colorscale='Viridis', hovertemplate=right_hovertxt), row=1, col=2)\n",
    "fig.update_yaxes(autorange=\"reversed\")\n",
    "fig.update_layout(height=750, width=1200, title_text=\"サブプロットの例\")\n",
    "fig.show()"
   ]
  }
 ],
 "metadata": {
  "kernelspec": {
   "display_name": "Python 3 (ipykernel)",
   "language": "python",
   "name": "python3"
  },
  "language_info": {
   "codemirror_mode": {
    "name": "ipython",
    "version": 3
   },
   "file_extension": ".py",
   "mimetype": "text/x-python",
   "name": "python",
   "nbconvert_exporter": "python",
   "pygments_lexer": "ipython3",
   "version": "3.10.13"
  }
 },
 "nbformat": 4,
 "nbformat_minor": 2
}
