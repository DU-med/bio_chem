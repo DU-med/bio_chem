{
 "cells": [
  {
   "cell_type": "markdown",
   "metadata": {},
   "source": [
    "# memeを使ってmotifの検出\n",
    "**各生物種のTTNイントロン領域からMotif配列の検出を試みる**<br>\n",
    "<br>\n",
    "<検出ツール><br>\n",
    "https://meme-suite.org/meme/<br>\n",
    "MEME(Multiple Em for Motif Elicitation)を使って配列中のモチーフを検出する\n",
    "\n",
    "<マニュアル><br>\n",
    "https://meme-suite.org/meme/doc/meme.html<br>\n",
    "\n",
    "<解析結果><br>\n",
    "result/memeにhtmlファイルとして出力"
   ]
  },
  {
   "cell_type": "code",
   "execution_count": null,
   "metadata": {},
   "outputs": [],
   "source": [
    "# オリジナルモジュールのインポート\n",
    "from lib.gbkparse import Seq_count\n",
    "import subprocess"
   ]
  },
  {
   "cell_type": "markdown",
   "metadata": {},
   "source": [
    "## ヒトTTNのイントロン配列からモチーフを検出する"
   ]
  },
  {
   "cell_type": "code",
   "execution_count": null,
   "metadata": {},
   "outputs": [],
   "source": [
    "# ヒトTTN情報の取得\n",
    "gbk = Seq_count()\n",
    "gbk.get_gbk('7273')\n",
    "\n",
    "# 各イントロンに配列をfasta形式で保存\n",
    "file_path = '../data/fasta/ttn_intron_human.fasta'\n",
    "with open(file_path,'w') as f:\n",
    "    for i in range(gbk.intron_num()):\n",
    "        seq = str(gbk.intron_seq(i+1))\n",
    "        f.write(f'>intron_{i+1}'+'\\n')\n",
    "        f.write(seq+'\\n')    \n",
    "\n",
    "# パラメータ設定 \n",
    "mtf_n = 4\n",
    "min_w = 8\n",
    "max_w = 20\n",
    "mode = \"zoops\"\n",
    "\n",
    "# memeの実行\n",
    "dir = \"../result/meme/human/ttn\"\n",
    "cmd1 = f\"rm -rf {dir}\"\n",
    "cmd2= f\"meme {file_path} -dna -o {dir} -maxsize 200000 -nmotifs {mtf_n} -minw {min_w} -maxw {max_w} -mod {mode}\"\n",
    "subprocess.run(cmd1.split())\n",
    "subprocess.run(cmd2.split())"
   ]
  },
  {
   "cell_type": "markdown",
   "metadata": {},
   "source": [
    "## マウスTTNのイントロン配列からモチーフを検出する"
   ]
  },
  {
   "cell_type": "code",
   "execution_count": null,
   "metadata": {},
   "outputs": [],
   "source": [
    "# マウスTTN情報の取得\n",
    "gbk = Seq_count()\n",
    "gbk.get_gbk('22138')\n",
    "\n",
    "# 各イントロンに配列をfasta形式で保存\n",
    "file_path = '../data/fasta/ttn_intron_mouse.fasta'\n",
    "with open(file_path,'w') as f:\n",
    "    for i in range(gbk.intron_num()):\n",
    "        seq = str(gbk.intron_seq(i+1))\n",
    "        f.write(f'>intron_{i+1}'+'\\n')\n",
    "        f.write(seq+'\\n')    \n",
    "\n",
    "# パラメータ設定 \n",
    "mtf_n = 4\n",
    "min_w = 8\n",
    "max_w = 20\n",
    "mode = \"zoops\"\n",
    "\n",
    "# memeの実行\n",
    "dir = \"../result/meme/mouse/ttn\"\n",
    "cmd1 = f\"rm -rf {dir}\"\n",
    "cmd2= f\"meme {file_path} -dna -o {dir} -maxsize 200000 -nmotifs {mtf_n} -minw {min_w} -maxw {max_w} -mod {mode}\"\n",
    "subprocess.run(cmd1.split())\n",
    "subprocess.run(cmd2.split())"
   ]
  },
  {
   "cell_type": "markdown",
   "metadata": {},
   "source": [
    "## チンパンジーTTNのイントロン配列からモチーフを検出する"
   ]
  },
  {
   "cell_type": "code",
   "execution_count": null,
   "metadata": {},
   "outputs": [],
   "source": [
    "# チンパンジーTTN情報の取得\n",
    "gbk = Seq_count()\n",
    "gbk.get_gbk('459784')\n",
    "\n",
    "\n",
    "# 各イントロンに配列をfasta形式で保存\n",
    "file_path = '../data/fasta/ttn_intron_chimp.fasta'\n",
    "with open(file_path,'w') as f:\n",
    "    for i in range(gbk.intron_num()):\n",
    "        seq = str(gbk.intron_seq(i+1))\n",
    "        f.write(f'>intron_{i+1}'+'\\n')\n",
    "        f.write(seq+'\\n')    \n",
    "\n",
    "# パラメータ設定 \n",
    "mtf_n = 4\n",
    "min_w = 8\n",
    "max_w = 20\n",
    "mode = \"zoops\"\n",
    "\n",
    "# memeの実行\n",
    "dir = \"../result/meme/chimp/ttn\"\n",
    "cmd1 = f\"rm -rf {dir}\"\n",
    "cmd2= f\"meme {file_path} -dna -o {dir} -maxsize 200000 -nmotifs {mtf_n} -minw {min_w} -maxw {max_w} -mod {mode}\"\n",
    "subprocess.run(cmd1.split())\n",
    "subprocess.run(cmd2.split())"
   ]
  },
  {
   "cell_type": "markdown",
   "metadata": {},
   "source": [
    "## ラットTTNのイントロン配列からモチーフを検出する"
   ]
  },
  {
   "cell_type": "code",
   "execution_count": null,
   "metadata": {},
   "outputs": [],
   "source": [
    "# ラットTTN情報の取得\n",
    "gbk = Seq_count()\n",
    "gbk.get_gbk('84015')\n",
    "\n",
    "# 各イントロンに配列をfasta形式で保存\n",
    "file_path = '../data/fasta/ttn_intron_rat.fasta'\n",
    "with open(file_path,'w') as f:\n",
    "    for i in range(gbk.intron_num()):\n",
    "        seq = str(gbk.intron_seq(i+1))\n",
    "        f.write(f'>intron_{i+1}'+'\\n')\n",
    "        f.write(seq+'\\n')    \n",
    "\n",
    "# パラメータ設定 \n",
    "mtf_n = 4\n",
    "min_w = 8\n",
    "max_w = 20\n",
    "mode = \"zoops\"\n",
    "\n",
    "# memeの実行\n",
    "dir = \"../result/meme/rat/ttn\"\n",
    "cmd1 = f\"rm -rf {dir}\"\n",
    "cmd2= f\"meme {file_path} -dna -o {dir} -maxsize 200000 -nmotifs {mtf_n} -minw {min_w} -maxw {max_w} -mod {mode}\"\n",
    "subprocess.run(cmd1.split())\n",
    "subprocess.run(cmd2.split())"
   ]
  },
  {
   "cell_type": "markdown",
   "metadata": {},
   "source": [
    "## チキンTTNのイントロン配列からモチーフを検出する"
   ]
  },
  {
   "cell_type": "code",
   "execution_count": null,
   "metadata": {},
   "outputs": [],
   "source": [
    "# チキンTTN情報の取得\n",
    "gbk = Seq_count()\n",
    "gbk.get_gbk('424126')\n",
    "\n",
    "# 各イントロンに配列をfasta形式で保存\n",
    "file_path = '../data/fasta/ttn_intron_chiken.fasta'\n",
    "with open(file_path,'w') as f:\n",
    "    for i in range(gbk.intron_num()):\n",
    "        seq = str(gbk.intron_seq(i+1))\n",
    "        f.write(f'>intron_{i+1}'+'\\n')\n",
    "        f.write(seq+'\\n')    \n",
    "\n",
    "# パラメータ設定 \n",
    "mtf_n = 4\n",
    "min_w = 8\n",
    "max_w = 20\n",
    "mode = \"zoops\"\n",
    "\n",
    "# memeの実行\n",
    "dir = \"../result/meme/chicken/ttn\"\n",
    "cmd1 = f\"rm -rf {dir}\"\n",
    "cmd2= f\"meme {file_path} -dna -o {dir} -maxsize 200000 -nmotifs {mtf_n} -minw {min_w} -maxw {max_w} -mod {mode}\"\n",
    "subprocess.run(cmd1.split())\n",
    "subprocess.run(cmd2.split())"
   ]
  },
  {
   "cell_type": "markdown",
   "metadata": {},
   "source": [
    "## アカゲザルTTNのイントロン配列からモチーフを検出する"
   ]
  },
  {
   "cell_type": "code",
   "execution_count": null,
   "metadata": {},
   "outputs": [],
   "source": [
    "# アカゲザルTTN情報の取得\n",
    "gbk = Seq_count()\n",
    "gbk.get_gbk('424126')\n",
    "\n",
    "# 各イントロンに配列をfasta形式で保存\n",
    "file_path = '../data/fasta/ttn_intron_macaca.fasta'\n",
    "with open(file_path,'w') as f:\n",
    "    for i in range(gbk.intron_num()):\n",
    "        seq = str(gbk.intron_seq(i+1))\n",
    "        f.write(f'>intron_{i+1}'+'\\n')\n",
    "        f.write(seq+'\\n')    \n",
    "\n",
    "# パラメータ設定 \n",
    "mtf_n = 4\n",
    "min_w = 8\n",
    "max_w = 20\n",
    "mode = \"zoops\"\n",
    "\n",
    "# memeの実行\n",
    "dir = \"../result/meme/macaca/ttn\"\n",
    "cmd1 = f\"rm -rf {dir}\"\n",
    "cmd2= f\"meme {file_path} -dna -o {dir} -maxsize 200000 -nmotifs {mtf_n} -minw {min_w} -maxw {max_w} -mod {mode}\"\n",
    "subprocess.run(cmd1.split())\n",
    "subprocess.run(cmd2.split())"
   ]
  },
  {
   "cell_type": "markdown",
   "metadata": {},
   "source": [
    "## ウシTTNのイントロン配列からモチーフを検出する"
   ]
  },
  {
   "cell_type": "code",
   "execution_count": null,
   "metadata": {},
   "outputs": [],
   "source": [
    "# アカゲザルTTN情報の取得\n",
    "gbk = Seq_count()\n",
    "gbk.get_gbk('540561')\n",
    "\n",
    "# 各イントロンに配列をfasta形式で保存\n",
    "file_path = '../data/fasta/ttn_intron_cattle.fasta'\n",
    "with open(file_path,'w') as f:\n",
    "    for i in range(gbk.intron_num()):\n",
    "        seq = str(gbk.intron_seq(i+1))\n",
    "        f.write(f'>intron_{i+1}'+'\\n')\n",
    "        f.write(seq+'\\n')    \n",
    "\n",
    "# パラメータ設定 \n",
    "mtf_n = 4\n",
    "min_w = 8\n",
    "max_w = 20\n",
    "mode = \"zoops\"\n",
    "\n",
    "# memeの実行\n",
    "dir = \"../result/meme/cattle/ttn\"\n",
    "cmd1 = f\"rm -rf {dir}\"\n",
    "cmd2= f\"meme {file_path} -dna -o {dir} -maxsize 200000 -nmotifs {mtf_n} -minw {min_w} -maxw {max_w} -mod {mode}\"\n",
    "subprocess.run(cmd1.split())\n",
    "subprocess.run(cmd2.split())"
   ]
  }
 ],
 "metadata": {
  "kernelspec": {
   "display_name": "bio",
   "language": "python",
   "name": "python3"
  },
  "language_info": {
   "codemirror_mode": {
    "name": "ipython",
    "version": 3
   },
   "file_extension": ".py",
   "mimetype": "text/x-python",
   "name": "python",
   "nbconvert_exporter": "python",
   "pygments_lexer": "ipython3",
   "version": "3.10.13"
  }
 },
 "nbformat": 4,
 "nbformat_minor": 2
}
