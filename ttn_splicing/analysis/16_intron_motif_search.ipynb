{
 "cells": [
  {
   "cell_type": "markdown",
   "metadata": {},
   "source": [
    "# memeを使ってmotifの検出\n",
    "**各生物種のTTNイントロン領域からMotif配列の検出を試みる**<br>\n",
    "<br>\n",
    "<検出ツール><br>\n",
    "https://meme-suite.org/meme/<br>\n",
    "MEME(Multiple Em for Motif Elicitation)を使って配列中のモチーフを検出する\n",
    "\n",
    "<マニュアル><br>\n",
    "https://meme-suite.org/meme/doc/meme.html<br>\n",
    "\n",
    "<解析結果><br>\n",
    "result/memeにhtmlファイルとして出力"
   ]
  },
  {
   "cell_type": "code",
   "execution_count": 1,
   "metadata": {},
   "outputs": [],
   "source": [
    "# オリジナルモジュールのインポート\n",
    "from lib.gbkparse import Seq_count\n",
    "import subprocess"
   ]
  },
  {
   "cell_type": "markdown",
   "metadata": {},
   "source": [
    "## ヒトTTNのイントロン配列からモチーフを検出する"
   ]
  },
  {
   "cell_type": "code",
   "execution_count": 2,
   "metadata": {},
   "outputs": [
    {
     "name": "stdout",
     "output_type": "stream",
     "text": [
      "デフォルト値として、最もエクソンの多いNM_001267550.2を設定\n"
     ]
    },
    {
     "name": "stderr",
     "output_type": "stream",
     "text": [
      "Writing results to output directory '../result/meme/human/ttn'.\n",
      "Initializing the motif probability tables for 2 to 362 sites...\n",
      "nsites = 362\n",
      "Done initializing.\n",
      "SEEDS: highwater mark: seq 361 pos 232\n",
      "\n",
      "seqs=   362, min=  80, max=11202, total=   172211\n",
      "\n",
      "motif=1\n",
      "SEED WIDTHS: 8 11 15 20\n",
      "em: w=  20, psites= 362, iter=  40     \n",
      "motif=2\n",
      "SEED WIDTHS: 8 11 15 20\n",
      "em: w=  20, psites= 362, iter=  40     \n",
      "motif=3\n",
      "SEED WIDTHS: 8 11 15 20\n",
      "em: w=  20, psites= 362, iter=  40     \n",
      "motif=4\n",
      "SEED WIDTHS: 8 11 15 20\n",
      "em: w=  20, psites= 362, iter=  40     \n"
     ]
    },
    {
     "data": {
      "text/plain": [
       "CompletedProcess(args=['meme', '../data/fasta/ttn_intron_human.fasta', '-dna', '-o', '../result/meme/human/ttn', '-maxsize', '200000', '-nmotifs', '4', '-minw', '8', '-maxw', '20', '-mod', 'zoops'], returncode=0)"
      ]
     },
     "execution_count": 2,
     "metadata": {},
     "output_type": "execute_result"
    }
   ],
   "source": [
    "# ヒトTTN情報の取得\n",
    "gbk = Seq_count()\n",
    "gbk.get_gbk('7273')\n",
    "\n",
    "# 各イントロンに配列をfasta形式で保存\n",
    "file_path = '../data/fasta/ttn_intron_human.fasta'\n",
    "with open(file_path,'w') as f:\n",
    "    for i in range(gbk.intron_num()):\n",
    "        seq = str(gbk.intron_seq(i+1))\n",
    "        f.write(f'>intron_{i+1}'+'\\n')\n",
    "        f.write(seq+'\\n')    \n",
    "\n",
    "# パラメータ設定 \n",
    "mtf_n = 4\n",
    "min_w = 8\n",
    "max_w = 20\n",
    "mode = \"zoops\"\n",
    "\n",
    "# memeの実行\n",
    "dir = \"../result/meme/human/ttn\"\n",
    "cmd1 = f\"rm -rf {dir}\"\n",
    "cmd2= f\"meme {file_path} -dna -o {dir} -maxsize 200000 -nmotifs {mtf_n} -minw {min_w} -maxw {max_w} -mod {mode}\"\n",
    "subprocess.run(cmd1.split())\n",
    "subprocess.run(cmd2.split())"
   ]
  },
  {
   "cell_type": "markdown",
   "metadata": {},
   "source": [
    "## マウスTTNのイントロン配列からモチーフを検出する"
   ]
  },
  {
   "cell_type": "code",
   "execution_count": 3,
   "metadata": {},
   "outputs": [
    {
     "name": "stdout",
     "output_type": "stream",
     "text": [
      "デフォルト値として、最もエクソンの多いNM_001385708.1を設定\n"
     ]
    },
    {
     "name": "stderr",
     "output_type": "stream",
     "text": [
      "Writing results to output directory '../result/meme/mouse/ttn'.\n",
      "Initializing the motif probability tables for 2 to 348 sites...\n",
      "nsites = 348\n",
      "Done initializing.\n",
      "SEEDS: highwater mark: seq 347 pos 805\n",
      "\n",
      "seqs=   348, min=  81, max=11597, total=   170902\n",
      "\n",
      "motif=1\n",
      "SEED WIDTHS: 8 11 15 20\n",
      "starts: w=8, seq=120, l=383           \r"
     ]
    },
    {
     "name": "stderr",
     "output_type": "stream",
     "text": [
      "em: w=  20, psites= 348, iter=  40     \n",
      "motif=2\n",
      "SEED WIDTHS: 8 11 15 20\n",
      "em: w=  20, psites= 348, iter=  40     \n",
      "motif=3\n",
      "SEED WIDTHS: 8 11 15 20\n",
      "em: w=  20, psites= 348, iter=  40     \n",
      "motif=4\n",
      "SEED WIDTHS: 8 11 15 20\n",
      "em: w=  20, psites= 348, iter=  40     \n"
     ]
    },
    {
     "data": {
      "text/plain": [
       "CompletedProcess(args=['meme', '../data/fasta/ttn_intron_mouse.fasta', '-dna', '-o', '../result/meme/mouse/ttn', '-maxsize', '200000', '-nmotifs', '4', '-minw', '8', '-maxw', '20', '-mod', 'zoops'], returncode=0)"
      ]
     },
     "execution_count": 3,
     "metadata": {},
     "output_type": "execute_result"
    }
   ],
   "source": [
    "# マウスTTN情報の取得\n",
    "gbk = Seq_count()\n",
    "gbk.get_gbk('22138')\n",
    "\n",
    "# 各イントロンに配列をfasta形式で保存\n",
    "file_path = '../data/fasta/ttn_intron_mouse.fasta'\n",
    "with open(file_path,'w') as f:\n",
    "    for i in range(gbk.intron_num()):\n",
    "        seq = str(gbk.intron_seq(i+1))\n",
    "        f.write(f'>intron_{i+1}'+'\\n')\n",
    "        f.write(seq+'\\n')    \n",
    "\n",
    "# パラメータ設定 \n",
    "mtf_n = 4\n",
    "min_w = 8\n",
    "max_w = 20\n",
    "mode = \"zoops\"\n",
    "\n",
    "# memeの実行\n",
    "dir = \"../result/meme/mouse/ttn\"\n",
    "cmd1 = f\"rm -rf {dir}\"\n",
    "cmd2= f\"meme {file_path} -dna -o {dir} -maxsize 200000 -nmotifs {mtf_n} -minw {min_w} -maxw {max_w} -mod {mode}\"\n",
    "subprocess.run(cmd1.split())\n",
    "subprocess.run(cmd2.split())"
   ]
  },
  {
   "cell_type": "markdown",
   "metadata": {},
   "source": [
    "## チンパンジーTTNのイントロン配列からモチーフを検出する"
   ]
  },
  {
   "cell_type": "code",
   "execution_count": 5,
   "metadata": {},
   "outputs": [
    {
     "ename": "ValueError",
     "evalue": "invalid literal for int() with base 10: '2B'",
     "output_type": "error",
     "traceback": [
      "\u001b[0;31m---------------------------------------------------------------------------\u001b[0m",
      "\u001b[0;31mValueError\u001b[0m                                Traceback (most recent call last)",
      "\u001b[1;32m/home/du/GitHub/bio_chem/ttn_splicing/analysis/16_intron_motif_search.ipynb セル 8\u001b[0m line \u001b[0;36m3\n\u001b[1;32m      <a href='vscode-notebook-cell://ssh-remote%2Bx1/home/du/GitHub/bio_chem/ttn_splicing/analysis/16_intron_motif_search.ipynb#X12sdnNjb2RlLXJlbW90ZQ%3D%3D?line=0'>1</a>\u001b[0m \u001b[39m# チンパンジーTTN情報の取得\u001b[39;00m\n\u001b[1;32m      <a href='vscode-notebook-cell://ssh-remote%2Bx1/home/du/GitHub/bio_chem/ttn_splicing/analysis/16_intron_motif_search.ipynb#X12sdnNjb2RlLXJlbW90ZQ%3D%3D?line=1'>2</a>\u001b[0m gbk \u001b[39m=\u001b[39m Seq_count()\n\u001b[0;32m----> <a href='vscode-notebook-cell://ssh-remote%2Bx1/home/du/GitHub/bio_chem/ttn_splicing/analysis/16_intron_motif_search.ipynb#X12sdnNjb2RlLXJlbW90ZQ%3D%3D?line=2'>3</a>\u001b[0m gbk\u001b[39m.\u001b[39;49mget_gbk(\u001b[39m'\u001b[39;49m\u001b[39m459784\u001b[39;49m\u001b[39m'\u001b[39;49m)\n\u001b[1;32m      <a href='vscode-notebook-cell://ssh-remote%2Bx1/home/du/GitHub/bio_chem/ttn_splicing/analysis/16_intron_motif_search.ipynb#X12sdnNjb2RlLXJlbW90ZQ%3D%3D?line=4'>5</a>\u001b[0m \u001b[39m# 各イントロンに配列をfasta形式で保存\u001b[39;00m\n\u001b[1;32m      <a href='vscode-notebook-cell://ssh-remote%2Bx1/home/du/GitHub/bio_chem/ttn_splicing/analysis/16_intron_motif_search.ipynb#X12sdnNjb2RlLXJlbW90ZQ%3D%3D?line=5'>6</a>\u001b[0m file_path \u001b[39m=\u001b[39m \u001b[39m'\u001b[39m\u001b[39m../data/fasta/ttn_intron_chimp.fasta\u001b[39m\u001b[39m'\u001b[39m\n",
      "File \u001b[0;32m~/GitHub/bio_chem/ttn_splicing/analysis/lib/gbkparse.py:72\u001b[0m, in \u001b[0;36mSeq_count.get_gbk\u001b[0;34m(self, gene_id)\u001b[0m\n\u001b[1;32m     70\u001b[0m \u001b[39m# 染色体番号の取得\u001b[39;00m\n\u001b[1;32m     71\u001b[0m ls \u001b[39m=\u001b[39m info\u001b[39m.\u001b[39msplit()\n\u001b[0;32m---> 72\u001b[0m chrom \u001b[39m=\u001b[39m \u001b[39mint\u001b[39;49m(ls[ls\u001b[39m.\u001b[39;49mindex(\u001b[39m'\u001b[39;49m\u001b[39mChromosome\u001b[39;49m\u001b[39m'\u001b[39;49m)\u001b[39m+\u001b[39;49m\u001b[39m1\u001b[39;49m])\n\u001b[1;32m     73\u001b[0m \u001b[39m# プラス鎖、マイナス鎖に分けて、遺伝子の開始および終止位置の取得\u001b[39;00m\n\u001b[1;32m     74\u001b[0m \u001b[39mif\u001b[39;00m \u001b[39m\"\u001b[39m\u001b[39mcomplement\u001b[39m\u001b[39m\"\u001b[39m \u001b[39min\u001b[39;00m info:\n",
      "\u001b[0;31mValueError\u001b[0m: invalid literal for int() with base 10: '2B'"
     ]
    }
   ],
   "source": [
    "# チンパンジーTTN情報の取得\n",
    "gbk = Seq_count()\n",
    "gbk.get_gbk('459784')\n",
    "\n",
    "# 各イントロンに配列をfasta形式で保存\n",
    "file_path = '../data/fasta/ttn_intron_chimp.fasta'\n",
    "with open(file_path,'w') as f:\n",
    "    for i in range(gbk.intron_num()):\n",
    "        seq = str(gbk.intron_seq(i+1))\n",
    "        f.write(f'>intron_{i+1}'+'\\n')\n",
    "        f.write(seq+'\\n')    \n",
    "\n",
    "# パラメータ設定 \n",
    "mtf_n = 4\n",
    "min_w = 8\n",
    "max_w = 20\n",
    "mode = \"zoops\"\n",
    "\n",
    "# memeの実行\n",
    "dir = \"../result/meme/chimp/ttn\"\n",
    "cmd1 = f\"rm -rf {dir}\"\n",
    "cmd2= f\"meme {file_path} -dna -o {dir} -maxsize 200000 -nmotifs {mtf_n} -minw {min_w} -maxw {max_w} -mod {mode}\"\n",
    "subprocess.run(cmd1.split())\n",
    "subprocess.run(cmd2.split())"
   ]
  },
  {
   "cell_type": "markdown",
   "metadata": {},
   "source": [
    "## ラットTTNのイントロン配列からモチーフを検出する"
   ]
  },
  {
   "cell_type": "code",
   "execution_count": 6,
   "metadata": {},
   "outputs": [
    {
     "name": "stdout",
     "output_type": "stream",
     "text": [
      "デフォルト値として、最もエクソンの多いXM_039106385.1を設定\n"
     ]
    },
    {
     "name": "stderr",
     "output_type": "stream",
     "text": [
      "Writing results to output directory '../result/meme/rat/ttn'.\n",
      "Initializing the motif probability tables for 2 to 335 sites...\n",
      "nsites = 335\n",
      "Done initializing.\n",
      "SEEDS: highwater mark: seq 334 pos 240\n",
      "\n",
      "seqs=   335, min=  80, max=10889, total=   166245\n",
      "\n",
      "motif=1\n",
      "SEED WIDTHS: 8 11 15 20\n",
      "em: w=  20, psites= 335, iter=  40     \n",
      "motif=2\n",
      "SEED WIDTHS: 8 11 15 20\n",
      "em: w=  20, psites= 335, iter=  40     \n",
      "motif=3\n",
      "SEED WIDTHS: 8 11 15 20\n",
      "em: w=  20, psites= 335, iter=  40     \n",
      "motif=4\n",
      "SEED WIDTHS: 8 11 15 20\n",
      "em: w=  20, psites= 335, iter=  40     \n"
     ]
    },
    {
     "data": {
      "text/plain": [
       "CompletedProcess(args=['meme', '../data/fasta/ttn_intron_rat.fasta', '-dna', '-o', '../result/meme/rat/ttn', '-maxsize', '200000', '-nmotifs', '4', '-minw', '8', '-maxw', '20', '-mod', 'zoops'], returncode=0)"
      ]
     },
     "execution_count": 6,
     "metadata": {},
     "output_type": "execute_result"
    }
   ],
   "source": [
    "# ラットTTN情報の取得\n",
    "gbk = Seq_count()\n",
    "gbk.get_gbk('84015')\n",
    "\n",
    "# 各イントロンに配列をfasta形式で保存\n",
    "file_path = '../data/fasta/ttn_intron_rat.fasta'\n",
    "with open(file_path,'w') as f:\n",
    "    for i in range(gbk.intron_num()):\n",
    "        seq = str(gbk.intron_seq(i+1))\n",
    "        f.write(f'>intron_{i+1}'+'\\n')\n",
    "        f.write(seq+'\\n')    \n",
    "\n",
    "# パラメータ設定 \n",
    "mtf_n = 4\n",
    "min_w = 8\n",
    "max_w = 20\n",
    "mode = \"zoops\"\n",
    "\n",
    "# memeの実行\n",
    "dir = \"../result/meme/rat/ttn\"\n",
    "cmd1 = f\"rm -rf {dir}\"\n",
    "cmd2= f\"meme {file_path} -dna -o {dir} -maxsize 200000 -nmotifs {mtf_n} -minw {min_w} -maxw {max_w} -mod {mode}\"\n",
    "subprocess.run(cmd1.split())\n",
    "subprocess.run(cmd2.split())"
   ]
  },
  {
   "cell_type": "code",
   "execution_count": null,
   "metadata": {},
   "outputs": [],
   "source": []
  }
 ],
 "metadata": {
  "kernelspec": {
   "display_name": "bio",
   "language": "python",
   "name": "python3"
  },
  "language_info": {
   "codemirror_mode": {
    "name": "ipython",
    "version": 3
   },
   "file_extension": ".py",
   "mimetype": "text/x-python",
   "name": "python",
   "nbconvert_exporter": "python",
   "pygments_lexer": "ipython3",
   "version": "3.10.13"
  }
 },
 "nbformat": 4,
 "nbformat_minor": 2
}
