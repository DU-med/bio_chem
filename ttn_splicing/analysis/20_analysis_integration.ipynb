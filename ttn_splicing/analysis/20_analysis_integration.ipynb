{
 "cells": [
  {
   "cell_type": "markdown",
   "metadata": {},
   "source": [
    "# これまでの解析のデータの統合"
   ]
  },
  {
   "cell_type": "markdown",
   "metadata": {},
   "source": [
    "## 準備"
   ]
  },
  {
   "cell_type": "code",
   "execution_count": null,
   "metadata": {},
   "outputs": [],
   "source": [
    "# オリジナルモジュールのインポート\n",
    "from lib.gbkparse import Seq_count\n",
    "from lib.geneinfo import gene_id\n",
    "\n",
    "# モジュールのインポート\n",
    "import logomaker\n",
    "import numpy as np\n",
    "import pandas as pd\n",
    "import matplotlib.pyplot as plt\n",
    "import seaborn as sns\n",
    "import plotly.express as px\n",
    "import plotly.graph_objs as go\n",
    "\n",
    "from plotly.subplots import make_subplots\n",
    "\n",
    "import requests\n",
    "import warnings\n",
    "warnings.simplefilter(action='ignore', category=FutureWarning)"
   ]
  },
  {
   "cell_type": "markdown",
   "metadata": {},
   "source": [
    "## 変数の設定"
   ]
  },
  {
   "cell_type": "code",
   "execution_count": null,
   "metadata": {},
   "outputs": [],
   "source": [
    "gene_name = 'TTN'\n",
    "intron_file = f'../data/intron/human_{gene_name.lower()}_intron.tsv'\n",
    "gid = str(gene_id('TTN').iloc[0,0])\n",
    "gid"
   ]
  },
  {
   "cell_type": "code",
   "execution_count": null,
   "metadata": {},
   "outputs": [],
   "source": [
    "\n",
    "# クラスのインスタンス化\n",
    "gbk = Seq_count()\n",
    "\n",
    "# gbkファイルの読み込み\n",
    "gbk.get_gbk(\"7273\")"
   ]
  },
  {
   "cell_type": "markdown",
   "metadata": {},
   "source": [
    "## intron_featureのデータ整理"
   ]
  },
  {
   "cell_type": "code",
   "execution_count": null,
   "metadata": {},
   "outputs": [],
   "source": [
    "# データの読み込み\n",
    "bed = pd.read_csv(intron_file, sep='\\t', header=None, usecols=[1,2,5])\n",
    "\n",
    "# メジャーなストランドの確認\n",
    "major_strand = bed[5].value_counts().idxmax()\n",
    "\n",
    "# メジャーなストランドのみを抽出\n",
    "bed = bed[bed[5] == major_strand]\n",
    "bed = bed.loc[:,[1,2]]\n",
    "\n",
    "# 遺伝子領域外のイントロンを除外\n",
    "bed = bed[(gbk.start < bed[1]) & (bed[2] < gbk.end)]\n",
    "\n",
    "#\n",
    "if major_strand == '-':\n",
    "    bed = bed.apply(lambda x: gbk.end-x)\n",
    "    bed = bed.loc[:,[2,1]]\n",
    "    bed.columns = [\"start\",\"end\"]\n",
    "    bed = bed.sort_values('start')\n",
    "else:\n",
    "    bed = bed.apply(lambda x: x-gbk.start+1)\n",
    "    bed.columns = [\"start\",\"end\"]\n",
    "    bed = bed.sort_values('start')\n",
    "\n",
    "# イントロンの位置の辞書を作成\n",
    "intron_dic = {}\n",
    "for n,l in enumerate(gbk.intron_list()):\n",
    "    intron_dic[n+1] = l\n",
    "\n",
    "# イントロの位置情報をもとに、イントロン番号を取得\n",
    "def start_pos(x):\n",
    "    for k,v in intron_dic.items():\n",
    "        if x == v[0]:\n",
    "            return k\n",
    "def end_pos(x):\n",
    "    for k,v in intron_dic.items():\n",
    "        if x == v[1]:\n",
    "            return k\n",
    "        \n",
    "bed['start_pos'] = bed['start'].apply(start_pos)\n",
    "bed['end_pos'] = bed['end'].apply(end_pos)\n",
    "bed = bed.dropna()\n",
    "bed['start_pos'].astype(int)\n",
    "bed['end_pos'].astype(int)\n",
    "bed['intron_skip'] = bed['end_pos'] - bed['start_pos']"
   ]
  },
  {
   "cell_type": "markdown",
   "metadata": {},
   "source": [
    "## イントロの起点ののデータ整理"
   ]
  },
  {
   "cell_type": "code",
   "execution_count": null,
   "metadata": {},
   "outputs": [],
   "source": [
    "# 5'側を起点にイントロンの組み合わせの数をカウント\n",
    "s = bed.value_counts('start_pos').to_dict()\n",
    "for i in range(gbk.intron_num()):\n",
    "    if i+1 not in s.keys():\n",
    "        s[i+1] = 0\n",
    "sdf = pd.DataFrame.from_dict(s, orient='index').sort_index()\n"
   ]
  },
  {
   "cell_type": "markdown",
   "metadata": {},
   "source": [
    "## イントロンの終点のデータの整理"
   ]
  },
  {
   "cell_type": "code",
   "execution_count": null,
   "metadata": {},
   "outputs": [],
   "source": [
    "\n",
    "# 3'側を終点にイントロンの組み合わせの数をカウント\n",
    "e = bed.value_counts('end_pos').to_dict()\n",
    "for i in range(gbk.intron_num()):\n",
    "    if i+1 not in e.keys():\n",
    "        e[i+1] = 0\n",
    "edf = pd.DataFrame.from_dict(e, orient='index').sort_index()\n"
   ]
  },
  {
   "cell_type": "markdown",
   "metadata": {},
   "source": [
    "## 各エクソンの塩基数が3の倍数かどうかのデータの整理"
   ]
  },
  {
   "cell_type": "code",
   "execution_count": null,
   "metadata": {},
   "outputs": [],
   "source": [
    "\n",
    "# エクソン配列が3の倍数であるエクソンの表示\n",
    "exon_3x = []\n",
    "for i in range(gbk.exon_num()):\n",
    "    if len(gbk.exon_seq(i+1)) % 3 == 0:\n",
    "        exon_3x.append(1)\n",
    "    else:\n",
    "        exon_3x.append(0.1)\n",
    "df_3x = pd.DataFrame({\"exon\":[i+1 for i in range(gbk.exon_num())], \n",
    "                   \"existence\":exon_3x, \n",
    "                   \"length\":[len(gbk.exon_seq(i+1)) for i in range(gbk.exon_num())], \n",
    "                   \"bar\": [1 for i in range(gbk.exon_num())]})\n"
   ]
  },
  {
   "cell_type": "markdown",
   "metadata": {},
   "source": [
    "## イントロンのスプライスバリアントのデータの整理\n"
   ]
  },
  {
   "cell_type": "code",
   "execution_count": null,
   "metadata": {},
   "outputs": [],
   "source": [
    "\n",
    "# イントロンのスプライスバリアントの作成\n",
    "skip_bed = bed[bed['intron_skip'] > 1]\n",
    "skip_bed = skip_bed.sort_values('intron_skip', ascending=False)\n",
    "skip_bed = skip_bed.sort_values('start_pos')\n",
    "\n",
    "numlst = [[i,j] for i,j in zip(skip_bed['start_pos'], skip_bed['end_pos'])]\n",
    "result = {0:[numlst[0]]}\n",
    "\n",
    "for i in numlst[1:]:\n",
    "    for j in range(len(result.keys())):\n",
    "        if result[j][-1][1] < i[0]:\n",
    "            result[j].append(i)\n",
    "            break\n",
    "    else:\n",
    "        result.setdefault(max(result.keys())+1,[i])           \n",
    "x_arr = np.array([])\n",
    "y_arr = np.array([])\n",
    "for i in range(len(result.keys())):\n",
    "    x_arr = np.concatenate([x_arr, np.array( [i + [None] for i in result[i]]).flatten()])\n",
    "    y_arr = np.concatenate([y_arr, np.full(3*len(result[i]), i)])\n",
    "\n",
    "x_arr"
   ]
  },
  {
   "cell_type": "markdown",
   "metadata": {},
   "source": [
    "## 各イントロンの3'末尾の配列と、特定の配列のマッチング率の算出"
   ]
  },
  {
   "cell_type": "code",
   "execution_count": null,
   "metadata": {},
   "outputs": [],
   "source": [
    "# # 3'側末端に近いほど高いスコアを与える\n",
    "# # 1塩基離れるごとにスコアを1/2にする\n",
    "# def match(seq1, seq2):\n",
    "#     scores = [(0.9)**i for i in range(len(seq1))]\n",
    "#     score = 0\n",
    "#     for i,j,k in zip(seq1, seq2, scores):\n",
    "#         if i == j:\n",
    "#             score += k\n",
    "#     return round(score,2)\n",
    "\n",
    "# # 3'側末端に近いほど高いスコアを与える\n",
    "# # 3'末端に最も高いスコアを与え、1塩基離れるごとにスコアを1減らす\n",
    "# def match(seq1, seq2):\n",
    "#     scores = [len(seq1)-i for i in range(len(seq1))]\n",
    "#     score = 0\n",
    "#     for i,j,k in zip(seq1, seq2, scores):\n",
    "#         if i == j:\n",
    "#             score += k\n",
    "#     return round(score,2)\n",
    "\n",
    "# 各塩基のマッチングに対して均等にスコアリングする\n",
    "def match(seq1, seq2):\n",
    "    match = 0\n",
    "    for i,j in zip(seq1, seq2):\n",
    "        if i == j:\n",
    "            match += 1\n",
    "    return round(match/len(seq1),2)\n",
    "\n",
    "mtf = \"AAAAATACTAATATCTTTCAAG\"\n",
    "# mtf = \"ACTAATATCTTTCAAG\"\n",
    "# mtf = \"CAAAG\"\n",
    "seq = gbk.gDNA_seq()\n",
    "match_result = []\n",
    "for i in gbk.intron_list():\n",
    "    tmp_seq = seq[i[0]:i[1]][-len(mtf):]\n",
    "    match_result.append(match(mtf, tmp_seq))\n"
   ]
  },
  {
   "cell_type": "markdown",
   "metadata": {},
   "source": [
    "## 各イントロンにおける5'側および3'側３塩基パターンが\"GTA\"、\"AGG\"であるイントロンの分布"
   ]
  },
  {
   "cell_type": "code",
   "execution_count": null,
   "metadata": {},
   "outputs": [],
   "source": [
    "\n",
    "# 各イントロンにおける5'側３塩基パターンが\"GTA\"のイントロンの分布\n",
    "motif_gta = \"GTA\"\n",
    "introns5 = []\n",
    "for i in range(gbk.intron_num()):\n",
    "    if gbk.intron_seq(i)[:len(motif_gta)] == motif_gta:\n",
    "        introns5.append(1)\n",
    "    else:\n",
    "        introns5.append(0)\n",
    "df_gta = pd.DataFrame({\"intron\":[i+1 for i in range(len(introns5))], \"existence\":introns5, \"description\": [f\"intron: {i+1}\" for i in range(len(introns5))]})\n",
    "\n",
    "# 各イントロンにおける3'側３塩基パターンが\"AAG\"のイントロンの分布\n",
    "motif_aag= \"AAG\"\n",
    "introns3 = []\n",
    "for i in range(gbk.intron_num()):\n",
    "    if gbk.intron_seq(i)[-len(motif_aag):] == motif_aag:\n",
    "        introns3.append(1)\n",
    "    else:\n",
    "        introns3.append(0)\n",
    "df_aag = pd.DataFrame({\"intron\":[i+1 for i in range(len(introns3))], \"existence\":introns3, \"description\": [f\"intron: {i+1}\" for i in range(len(introns3))]})\n"
   ]
  },
  {
   "cell_type": "markdown",
   "metadata": {},
   "source": [
    "## TTN遺伝子全長における脊椎動物種間のエクソンおよびイントロンの保存性平均値の算出"
   ]
  },
  {
   "cell_type": "code",
   "execution_count": null,
   "metadata": {},
   "outputs": [],
   "source": [
    "# UCSCのデータベースからphastCons100wayの情報を取得\n",
    "api_url = \"https://api.genome.ucsc.edu/getData/track\"\n",
    "params = {\n",
    "    \"genome\": \"hg38\",\n",
    "    \"track\": \"phastCons100way\",  # 適切なトラック名を使用\n",
    "    \"chrom\": f\"{gbk.chrom}\",  # 対象の染色体\n",
    "    \"start\": f\"{gbk.start}\",  # 指定する領域の開始位置\n",
    "    \"end\": f\"{gbk.end}\"  # 指定する領域の終了位置\n",
    "}\n",
    "\n",
    "response = requests.get(api_url, params=params)\n",
    "if response.ok:\n",
    "    cons_verts_data = response.json()\n",
    "else:\n",
    "    print(\"Error: Unable to fetch data\")\n",
    "        \n",
    "# プラス鎖の場合\n",
    "if gbk.strand == 1:\n",
    "    cons_df = pd.DataFrame(cons_verts_data[f'chr{gbk.chrom}']) # 保存性のJSONデータをデータフレームに変換\n",
    "    cons_df = cons_df.loc[:,['start','value']] # 必要な情報のみを抽出\n",
    "    cons_df.columns = ['pos','cons'] # カラム名を変更\n",
    "    cons_df = cons_df.sort_values('pos') # 位置情報順にソート\n",
    "    cons_df['pos'] = cons_df['pos'] - cons_df['pos'].min() # 遺伝子の5'側末端を0として位置情報を変換\n",
    "    cons_df = cons_df.set_index('pos') # 位置情報をインデックスとして変換\n",
    "    tmp = pd.DataFrame({'pos':[i for i in range(gbk.length)]}) # 上記情報は一部欠落があるので穴埋めようのデータフレームを用意\n",
    "    cons_df = pd.merge(tmp, cons_df, left_index=True, right_index=True, how='outer') # 上記のtmpとcons_dfを外部結合\n",
    "    cons_df = cons_df.set_index('pos', drop=True) # 'pos'情報をインデックスに\n",
    "\n",
    "# マイナス鎖の場合\n",
    "elif gbk.strand == 2:\n",
    "    cons_df = pd.DataFrame(cons_verts_data[f'chr{gbk.chrom}']) # 保存性のJSONデータをデータフレームに変換\n",
    "    cons_df = cons_df.loc[:,['start','value']] # 必要な情報のみを抽出\n",
    "    cons_df.columns = ['pos','cons'] # カラム名を変更\n",
    "    cons_df = cons_df.sort_values('pos') # 位置情報順にソート\n",
    "    cons_df['pos'] = cons_df['pos'].max() - cons_df['pos'] # マイナス鎖であることを考慮しながら、遺伝子の5'側末端を0として位置情報を変換\n",
    "    cons_df = cons_df.set_index('pos') # 位置情報をインデックスとして変換\n",
    "    tmp = pd.DataFrame({'pos':[i for i in range(gbk.length)]}) # 上記情報は一部欠落があるので穴埋めようのデータフレームを用意\n",
    "    cons_df = pd.merge(tmp, cons_df, left_index=True, right_index=True, how='outer') # 上記のtmpとcons_dfを外部結合\n",
    "    cons_df = cons_df.set_index('pos', drop=True) # 'pos'情報をインデックスに\n",
    "\n",
    "# エクソンのごとの保存性の平均値を求める\n",
    "exon_cons_ave = {}\n",
    "for i in range(gbk.exon_num()):\n",
    "    r = gbk.exon_list()[i]\n",
    "    ave = round(cons_df.iloc[r[0]:r[1], 0].mean(),2)\n",
    "    exon_cons_ave[i+1] = ave\n",
    "\n",
    "# イントロンのごとの保存性の平均値を求める\n",
    "intron_cons_ave = {}\n",
    "for i in range(gbk.intron_num()):\n",
    "    r = gbk.intron_list()[i]\n",
    "    ave = round(cons_df.iloc[r[0]:r[1], 0].mean(),2)\n",
    "    intron_cons_ave[i+1] = ave"
   ]
  },
  {
   "cell_type": "markdown",
   "metadata": {},
   "source": [
    "## TTN遺伝子全長における脊椎動物種間のイントロン両末端n塩基の保存性平均値の算出"
   ]
  },
  {
   "cell_type": "code",
   "execution_count": null,
   "metadata": {},
   "outputs": [],
   "source": [
    "# 検討するイントロン末端からの塩基数\n",
    "n = 80\n",
    "\n",
    "# 5'側のイントロンn塩基の保存性の平均\n",
    "left_intron_cons = {} \n",
    "for num, i in enumerate(gbk.intron_list()):\n",
    "    left_intron_cons[num+1] = list(cons_df.iloc[i[0]:i[0]+n,0])\n",
    "left_intron_cons_ave_df = pd.DataFrame.from_dict(left_intron_cons)\n",
    "left_intron_cons_ave_df.index = [i for i in range(1, n+1)]\n",
    "left_intron_cons_ave_df = left_intron_cons_ave_df.apply(lambda x: round(x,2))\n",
    "\n",
    "# 5'側のイントロンn塩基の保存性の平均\n",
    "right_intron_cons = {} \n",
    "for num, i in enumerate(gbk.intron_list()):\n",
    "    right_intron_cons[num+1] = list(cons_df.iloc[i[1]-n:i[1],0])\n",
    "right_intron_cons_ave_df = pd.DataFrame.from_dict(right_intron_cons)\n",
    "right_intron_cons_ave_df.index = [-i for i in range(n, 0, -1)]\n",
    "right_intron_cons_ave_df = right_intron_cons_ave_df.apply(lambda x: round(x,2))"
   ]
  },
  {
   "cell_type": "code",
   "execution_count": null,
   "metadata": {},
   "outputs": [],
   "source": [
    "def motif_count(mtf):\n",
    "    mtf_count = []\n",
    "    for i in range(gbk.intron_num()):\n",
    "        loc_count = 0\n",
    "        seq = gbk.intron_seq(i)\n",
    "        loc_list=[]\n",
    "        loc = 0\n",
    "        while True:\n",
    "            try:\n",
    "                loc = seq.index(mtf,loc)\n",
    "                loc += 1\n",
    "                loc_count += 1\n",
    "            except ValueError:\n",
    "                break\n",
    "        mtf_count.append(loc_count)\n",
    "    return mtf_count\n",
    "len(motif_count('TCTT'))\n"
   ]
  },
  {
   "cell_type": "markdown",
   "metadata": {},
   "source": [
    "## 上記情報の可視化"
   ]
  },
  {
   "cell_type": "code",
   "execution_count": null,
   "metadata": {},
   "outputs": [],
   "source": [
    "# グラフ作成\n",
    "def fig_show_all():\n",
    "    threshold = 0.5\n",
    "    titles = [\"3の倍数の塩基数のエクソン(A)\", \"スプライスされたイントロンの起点の数(B)\", \"スプライスされたイントロンの長さ(C)\", \"スプライスされたイントロンの終点の数(D)\",f\"3'側イントロン末端配列と{mtf}配列とのマッチングスコア(E)\",\n",
    "            \"5'側末端の塩基配列がGTAのイントロン(F)\",\"3'側末端の塩基配列がAAGのイントロン(G)\", \"各エクソンの塩基の保存性の平均値(H)\", \"各イントロンの塩基の保存性の平均値(I)\", f\"各イントロンの5'側の{n}塩基の保存性(J)\", \n",
    "            f\"各イントロンの3'側の{n}塩基の保存性(K)\", f\"各イントロンの'TCTT'の数(L)\"]\n",
    "    fig = make_subplots(rows=12, cols=1, shared_xaxes=True, vertical_spacing=0.05, subplot_titles=titles)\n",
    "    fig.add_trace(go.Bar(x=df_3x['exon'], y=df_3x['existence'], customdata=df_3x['length'], hovertemplate=\"Intron%{x}<br>Lenght: %{customdata}<extra></extra>\"), row=1, col=1)\n",
    "    fig.add_trace(go.Bar(x=sdf.index, y=sdf[0], hovertemplate='Intron%{x}<extra></extra>'), row=2, col=1)\n",
    "    fig.add_trace(go.Scatter(x=x_arr, y=y_arr, hovertemplate='Intron edge: Intron%{x}<extra></extra>'), row=3, col=1)\n",
    "    fig.add_trace(go.Bar(x=edf.index, y=edf[0], hovertemplate='Intron%{x}<extra></extra>'), row=4, col=1)\n",
    "    fig.add_trace(go.Bar(x=[i+1 for i in range(len(match_result))], y=match_result, hovertemplate='Intron%{x}<br>Match: %{y}<extra></extra>'), row=5, col=1)\n",
    "    fig.add_trace(go.Scatter(x=[1,gbk.intron_num()], y=[threshold, threshold],line=dict(color='red', dash='dot')), row=5, col=1)\n",
    "    fig.add_trace(go.Bar(x=df_gta['intron'], y=df_gta['existence'], hovertemplate='Intron: %{x}<extra></extra>'), row=6, col=1)\n",
    "    fig.add_trace(go.Bar(x=df_aag['intron'], y=df_aag['existence'], hovertemplate='Intron: %{x}<extra></extra>'), row=7, col=1)\n",
    "    fig.add_trace(go.Bar(x=list(exon_cons_ave.keys()), y=list(exon_cons_ave.values()), hovertemplate= 'Exon: %{x}<br>Conservation: %{y}<extra></extra>'), row=8, col=1)\n",
    "    fig.add_trace(go.Bar(x=list(intron_cons_ave.keys()), y=list(intron_cons_ave.values()), hovertemplate= 'Intron: %{x}<br>Conservation: %{y}<extra></extra>'), row=9, col=1)\n",
    "    fig.add_trace(go.Heatmap(x=left_intron_cons_ave_df.columns, y=left_intron_cons_ave_df.index, z=left_intron_cons_ave_df.values, colorscale='Viridis', hovertemplate='Intron: %{x}<br>Base: %{y}<br>Conservation: %{z}<extra></extra>', showscale=False), row=10, col=1)\n",
    "    fig.add_trace(go.Heatmap(x=right_intron_cons_ave_df.columns, y=right_intron_cons_ave_df.index, z=right_intron_cons_ave_df.values, colorscale='Viridis', hovertemplate='Intron: %{x}<br>Base: %{y}<br>Conservation: %{z}<extra></extra>', showscale=False), row=11, col=1)\n",
    "    fig.add_trace(go.Bar(x=[i+1 for i in range(gbk.intron_num())], y=motif_count('TCTT'), hovertemplate= 'Intron: %{x}<extra></extra>'), row=12, col=1)\n",
    "    fig.update_yaxes(range=[0, 1], row=8, col=1)\n",
    "    fig.update_yaxes(range=[0, 1], row=9, col=1)\n",
    "    fig.update_yaxes(autorange=\"reversed\", row=11, col=1)\n",
    "\n",
    "    # 各サブプロットのタイトルを追加\n",
    "    fig.update_layout(width=1500, height=1500, title_text=f\"各種情報の比較 (NM_001267550.2)\", showlegend=False)\n",
    "    # サブプロットタイトルの位置、フォントサイズの変更\n",
    "    for i in range(len(fig.layout.annotations)):\n",
    "        fig.layout.annotations[i].font.size = 12\n",
    "        fig.layout.annotations[i].x = 0\n",
    "        fig.layout.annotations[i].xanchor = 'left'\n",
    "    fig.show()"
   ]
  },
  {
   "cell_type": "code",
   "execution_count": null,
   "metadata": {},
   "outputs": [],
   "source": [
    "fig_show_all()"
   ]
  },
  {
   "cell_type": "markdown",
   "metadata": {},
   "source": [
    "##　特定の配列がイントロンにどの程度含まれるかを検討"
   ]
  },
  {
   "cell_type": "markdown",
   "metadata": {},
   "source": [
    "## 任意のグラフのみを表示\n",
    "**例** \n",
    "show_fig(list(\"ABC\")): A、B、Cのグラフを順に表示"
   ]
  },
  {
   "cell_type": "code",
   "execution_count": null,
   "metadata": {},
   "outputs": [],
   "source": [
    "def show_fig(lst):\n",
    "    # 設定値\n",
    "    threshold = 0.5\n",
    "    title_dic = {\"A\":\"3の倍数の塩基数のエクソン\", \"B\":\"スプライスされたイントロンの起点の数\", \"C\":\"スプライスされたイントロンの長さ\", \n",
    "                  \"D\":\"スプライスされたイントロンの終点の数\",\"E\":f\"3'側イントロン末端配列と{mtf}配列とのマッチングスコア(E)\",\n",
    "                  \"F\":\"5'側末端の塩基配列がGTAのイントロン\",\"G\":\"3'側末端の塩基配列がAAGのイントロン\", \"H\":\"各エクソンの塩基の保存性の平均値(H)\", \n",
    "                  \"I\":\"各イントロンの塩基の保存性の平均値(I)\", \"J\":f\"各イントロンの5'側の{n}塩基の保存性(J)\", \"K\":f\"各イントロンの3'側の{n}塩基の保存性\", \"L\": \"各イントロンの'TCTT'の数\"}\n",
    "    title_list = [title_dic[i] for i in lst]\n",
    "    fig = make_subplots(rows=len(lst), cols=1, shared_xaxes=True, vertical_spacing=0.1, subplot_titles=title_list)\n",
    "    r = 1\n",
    "    for i in lst:\n",
    "        if i == \"A\":\n",
    "            exec(\"fig.add_trace(go.Bar(x=df_3x['exon'], y=df_3x['existence'], customdata=df_3x['length'], hovertemplate='Intron%{x}<br>Lenght: %{customdata}<extra></extra>'), row=r, col=1)\")\n",
    "            r += 1\n",
    "        elif i == \"B\":\n",
    "            exec(\"fig.add_trace(go.Bar(x=sdf.index, y=sdf[0], hovertemplate='Intron%{x}<extra></extra>'), row=r, col=1)\")\n",
    "            r += 1\n",
    "        elif i == \"C\":\n",
    "            exec(\"fig.add_trace(go.Scatter(x=x_arr, y=y_arr, hovertemplate='Intron edge: Intron%{x}<extra></extra>'), row=r, col=1)\")\n",
    "            r += 1  \n",
    "        elif i == \"D\":\n",
    "            exec(\"fig.add_trace(go.Bar(x=edf.index, y=edf[0], hovertemplate='Intron%{x}<extra></extra>'), row=r, col=1)\")\n",
    "            r += 1\n",
    "        elif i == \"E\":\n",
    "            exec(\"fig.add_trace(go.Bar(x=[i+1 for i in range(len(match_result))], y=match_result, hovertemplate='Intron%{x}<br>Match: %{y}<extra></extra>'), row=r, col=1)\")\n",
    "            exec(\"fig.add_trace(go.Scatter(x=[1,gbk.intron_num()], y=[threshold, threshold],line=dict(color='red', dash='dot')), row=r, col=1)\")\n",
    "            r += 1  \n",
    "        elif i == \"F\":\n",
    "            exec(\"fig.add_trace(go.Bar(x=df_gta['intron'], y=df_gta['existence'], hovertemplate='Intron: %{x}<extra></extra>'), row=r, col=1)\")\n",
    "            r += 1\n",
    "        elif i == \"G\":\n",
    "            exec(\"fig.add_trace(go.Bar(x=df_aag['intron'], y=df_aag['existence'], hovertemplate='Intron: %{x}<extra></extra>'), row=r, col=1)\")\n",
    "            r += 1\n",
    "        elif i == \"H\":\n",
    "            exec(\"fig.add_trace(go.Bar(x=list(exon_cons_ave.keys()), y=list(exon_cons_ave.values()), hovertemplate= 'Exon: %{x}<br>Conservation: %{y}<extra></extra>'), row=r, col=1)\")\n",
    "            exec(\"fig.update_yaxes(range=[0, 1], row=r, col=1)\")\n",
    "            r += 1\n",
    "        elif i == \"I\":\n",
    "            exec(\"fig.add_trace(go.Bar(x=list(intron_cons_ave.keys()), y=list(intron_cons_ave.values()), hovertemplate= 'Intron: %{x}<br>Conservation: %{y}<extra></extra>'), row=r, col=1)\")\n",
    "            exec(\"fig.update_yaxes(range=[0, 1], row=r, col=1)\")\n",
    "            r += 1\n",
    "        elif i == \"J\":\n",
    "            exec(\"fig.add_trace(go.Heatmap(x=left_intron_cons_ave_df.columns, y=left_intron_cons_ave_df.index, z=left_intron_cons_ave_df.values, colorscale='Viridis', hovertemplate='Intron: %{x}<br>Base: %{y}<br>Conservation: %{z}<extra></extra>', showscale=False), row=r, col=1)\")\n",
    "            r += 1\n",
    "        elif i == \"K\":\n",
    "            exec(\"fig.add_trace(go.Heatmap(x=right_intron_cons_ave_df.columns, y=right_intron_cons_ave_df.index, z=right_intron_cons_ave_df.values, colorscale='Viridis', hovertemplate='Intron: %{x}<br>Base: %{y}<br>Conservation: %{z}<extra></extra>', showscale=False), row=r, col=1)\")\n",
    "            exec(\"fig.update_yaxes(autorange='reversed', row=r, col=1)\")\n",
    "            r += 1\n",
    "        elif i == 'L':\n",
    "            exec(\"fig.add_trace(go.Bar(x=[i+1 for i in range(gbk.intron_num())], y=motif_count('TCTT'), hovertemplate= 'Intron: %{x}<extra></extra>'), row=r, col=1)\")\n",
    "            r += 1\n",
    "            \n",
    "    fig.update_layout(width=1500, height=150*len(lst), title_text=f\"各種情報の比較 (NM_001267550.2)\", showlegend=False)\n",
    "    # サブプロットタイトルの位置、フォントサイズの変更\n",
    "    for i in range(len(fig.layout.annotations)):\n",
    "        fig.layout.annotations[i].font.size = 12\n",
    "        fig.layout.annotations[i].x = 0\n",
    "        fig.layout.annotations[i].xanchor = 'left'\n",
    "    fig.show()"
   ]
  },
  {
   "cell_type": "code",
   "execution_count": null,
   "metadata": {},
   "outputs": [],
   "source": [
    "show_fig(list(\"AJCKL\"))"
   ]
  },
  {
   "cell_type": "code",
   "execution_count": null,
   "metadata": {},
   "outputs": [],
   "source": []
  },
  {
   "cell_type": "code",
   "execution_count": null,
   "metadata": {},
   "outputs": [],
<<<<<<< HEAD
=======
   "source": [
    "print(gbk.intron_seq(217)[-60:])\n",
    "print(gbk.intron_seq(218)[-60:])\n",
    "print(gbk.intron_seq(219)[-60:])"
   ]
  },
  {
   "cell_type": "code",
   "execution_count": null,
   "metadata": {},
   "outputs": [],
   "source": [
    "count = 0\n",
    "for i in range(160,220):\n",
    "    seq = gbk.intron_seq(i)[-4:]\n",
    "    if seq == \"TAAG\":\n",
    "        count += 1\n",
    "print(count)"
   ]
  },
  {
   "cell_type": "code",
   "execution_count": null,
   "metadata": {},
   "outputs": [],
>>>>>>> 53e2fbd2e033ffbd937a5bef3d03372e36b5eb80
   "source": []
  }
 ],
 "metadata": {
  "kernelspec": {
   "display_name": "Python 3 (ipykernel)",
   "language": "python",
   "name": "python3"
  },
  "language_info": {
   "codemirror_mode": {
    "name": "ipython",
    "version": 3
   },
   "file_extension": ".py",
   "mimetype": "text/x-python",
   "name": "python",
   "nbconvert_exporter": "python",
   "pygments_lexer": "ipython3",
   "version": "3.10.13"
  }
 },
 "nbformat": 4,
 "nbformat_minor": 2
}
