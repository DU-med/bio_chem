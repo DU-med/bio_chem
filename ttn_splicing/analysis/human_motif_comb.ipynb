{
 "cells": [
  {
   "cell_type": "markdown",
   "metadata": {},
   "source": [
    "# Human TTN遺伝子上のmotif配列の統計および可視化"
   ]
  },
  {
   "cell_type": "markdown",
   "metadata": {},
   "source": [
    "### human_motif_comb.ipynbの内容\n",
    "複数個の塩基を組み合わせた配列を作成し、それらの各イントロン領域における出現頻度を解析\n",
    "\n",
    "### 準備\n",
    "```\n",
    "gbk = Seq_count() # クラスのインスタンス化\n",
    "gbk.read_gbk('data/gbk/human_ttn.gb')　# gbkファイルの読み込み\n",
    "```\n",
    "\n",
    "### 特定のイントロン領域の組み合わせ配列の統計をデータフレームで返す\n",
    "イントロン88のの配列の統計情報\n",
    "組み合わせ配列の塩基数:4\n",
    "```\n",
    "gbk.intron_motif_stats(intron=88, n=4)\n",
    "```\n",
    "\n",
    "### 指定したインロンの配列を返す\n",
    "```\n",
    "gbk.intron_seq(77) # 77番目のイントロン配列を取得\n",
    "```\n"
   ]
  },
  {
   "cell_type": "markdown",
   "metadata": {},
   "source": [
    "## 準備"
   ]
  },
  {
   "cell_type": "code",
   "execution_count": null,
   "metadata": {
    "notebookRunGroups": {
     "groupValue": ""
    }
   },
   "outputs": [],
   "source": [
    "# オリジナルモジュールのインポート\n",
    "from lib.introngap import PileUp\n",
    "from lib.gbkparse import Seq_count\n",
    "\n",
    "# モジュールのインポート\n",
    "import itertools\n",
    "import pandas as pd\n",
    "import matplotlib.pyplot as plt\n",
    "import seaborn as sns\n",
    "import plotly.express as px"
   ]
  },
  {
   "cell_type": "code",
   "execution_count": null,
   "metadata": {},
   "outputs": [],
   "source": [
    "# クラスのインスタンス化\n",
    "gbk = Seq_count()\n",
    "\n",
    "# gbkファイルの読み込み\n",
    "gbk.read_gbk('../data/gbk/human_ttn.gb')"
   ]
  },
  {
   "cell_type": "code",
   "execution_count": null,
   "metadata": {},
   "outputs": [],
   "source": [
    "# 登録されているmRNAのIDを取得\n",
    "for i in gbk.get_mrna_ids():\n",
    "    gbk.set_mrna_id(i)\n",
    "    print(i,gbk.intron_num())"
   ]
  },
  {
   "cell_type": "code",
   "execution_count": null,
   "metadata": {},
   "outputs": [],
   "source": [
    "# トランスクリプトバリアントの設定\n",
    "gbk.set_mrna_id('NM_001267550.2')"
   ]
  },
  {
   "cell_type": "markdown",
   "metadata": {},
   "source": [
    "## n個の塩基の組み合わせ配列を作成、イントロン内のそれぞれの配列の個数を可視化"
   ]
  },
  {
   "cell_type": "code",
   "execution_count": null,
   "metadata": {},
   "outputs": [],
   "source": [
    "# n個の塩基の組み合わせ配列を作成\n",
    "# intron_motif_stats関数で、すべてイントロン領域の配列の個数をカウント\n",
    "# その後、カウントした個数を全体の個数で割ることで、頻度を算出\n",
    "n = 4\n",
    "df = gbk.intron_motif_stats(intron=1, n=n) \n",
    "df.columns = ['intron_1']\n",
    "for i in range(gbk.intron_num()-1):\n",
    "    tmp_df = gbk.intron_motif_stats(intron=i+2, n=n)\n",
    "    tmp_df.columns = [f'intron_{i+2}']\n",
    "    df = pd.merge(df, tmp_df, left_index=True, right_index=True)\n",
    "ndf = df/df.sum(axis=0)"
   ]
  },
  {
   "cell_type": "code",
   "execution_count": null,
   "metadata": {},
   "outputs": [],
   "source": [
    "# ヒートマップで各イントロンの組み合わせ配列の頻度を可視化\n",
    "tndf = ndf.T\n",
    "fig = px.imshow(tndf, text_auto=True)\n",
    "fig.update_layout(width=800, height=800)\n",
    "fig.layout.coloraxis.showscale = False\n",
    "fig.show()"
   ]
  },
  {
   "cell_type": "code",
   "execution_count": null,
   "metadata": {},
   "outputs": [],
   "source": [
    "# クラスタリングを実施\n",
    "g = sns.clustermap(tndf)\n",
    "reordered_index = tndf.index[g.dendrogram_row.reordered_ind]\n",
    "reordered_columns = tndf.columns[g.dendrogram_col.reordered_ind]\n",
    "clustered_tndf = tndf.loc[reordered_index, reordered_columns]\n",
    "clustered_tndf\n",
    "\n",
    "# クラスタリング後のヒートマップを可視化\n",
    "fig = px.imshow(clustered_tndf, text_auto=True)\n",
    "fig.update_layout(width=800, height=800)\n",
    "fig.layout.coloraxis.showscale = False\n",
    "fig.show()"
   ]
  },
  {
   "cell_type": "markdown",
   "metadata": {},
   "source": [
    "## 特定のイントロン領域の配列を表示"
   ]
  },
  {
   "cell_type": "code",
   "execution_count": null,
   "metadata": {},
   "outputs": [],
   "source": [
    "# イントロン172,181,190,203の配列を取得\n",
    "ls = [172, 181, 190, 203]\n",
    "ls.sort()\n",
    "for i in ls:\n",
    "    print(i, gbk.intron_seq(i))\n"
   ]
  },
  {
   "cell_type": "code",
   "execution_count": null,
   "metadata": {},
   "outputs": [],
   "source": [
    "# イントロン176,178,185,187,194,196の配列を取得\n",
    "ls = [176, 178, 185, 187, 194, 196]\n",
    "for i in ls:\n",
    "    print(i, gbk.intron_seq(i))"
   ]
  },
  {
   "cell_type": "code",
   "execution_count": null,
   "metadata": {},
   "outputs": [],
   "source": [
    "# イントロン169,170,198,199,200,201,202の配列を取得\n",
    "ls = [169, 170, 198, 199, 200, 201, 202]\n",
    "ls.sort()\n",
    "for i in ls:\n",
    "    print(i, gbk.intron_seq(i))"
   ]
  },
  {
   "cell_type": "code",
   "execution_count": null,
   "metadata": {},
   "outputs": [],
   "source": [
    "# イントロン235,245,290,297,299,314,323,355の配列を取得\n",
    "ls = [235, 245, 290, 297, 299, 314, 323, 355]\n",
    "ls.sort()\n",
    "for i in ls:\n",
    "    print(i, gbk.intron_seq(i))"
   ]
  },
  {
   "cell_type": "code",
   "execution_count": null,
   "metadata": {},
   "outputs": [],
   "source": []
  }
 ],
 "metadata": {
  "kernelspec": {
   "display_name": "bio",
   "language": "python",
   "name": "python3"
  },
  "language_info": {
   "codemirror_mode": {
    "name": "ipython",
    "version": 3
   },
   "file_extension": ".py",
   "mimetype": "text/x-python",
   "name": "python",
   "nbconvert_exporter": "python",
   "pygments_lexer": "ipython3",
   "version": "3.9.18"
  }
 },
 "nbformat": 4,
 "nbformat_minor": 2
}
