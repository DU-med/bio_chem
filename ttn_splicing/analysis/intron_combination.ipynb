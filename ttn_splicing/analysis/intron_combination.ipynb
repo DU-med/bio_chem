{
 "cells": [
  {
   "cell_type": "code",
   "execution_count": null,
   "metadata": {},
   "outputs": [],
   "source": []
  },
  {
   "cell_type": "code",
   "execution_count": null,
   "metadata": {},
   "outputs": [],
   "source": [
    "# オリジナルモジュールのインポート\n",
    "from lib.introngap import PileUp\n",
    "from lib.gbkparse import Seq_count\n",
    "\n",
    "# モジュールのインポート\n",
    "import itertools\n",
    "import logomaker\n",
    "import numpy as np\n",
    "import pandas as pd\n",
    "import matplotlib.pyplot as plt\n",
    "import seaborn as sns\n",
    "import plotly.express as px\n",
    "\n",
    "from sklearn.decomposition import PCA\n",
    "from sklearn.preprocessing import StandardScaler\n",
    "from xgboost import XGBClassifier\n",
    "from sklearn.model_selection import train_test_split\n",
    "\n",
    "import warnings\n",
    "warnings.simplefilter(action='ignore', category=FutureWarning)"
   ]
  },
  {
   "cell_type": "code",
   "execution_count": null,
   "metadata": {},
   "outputs": [],
   "source": [
    "# クラスのインスタンス化\n",
    "gbk = Seq_count()\n",
    "\n",
    "# gbkファイルの読み込み\n",
    "gbk.read_gbk('../data/gbk/human_ttn.gb')"
   ]
  },
  {
   "cell_type": "code",
   "execution_count": null,
   "metadata": {},
   "outputs": [],
   "source": [
    "n = 5\n",
    "# すべてのイントロンの3-prime側のn塩基の配列を取得\n",
    "right_edges = []\n",
    "for i in range(gbk.intron_num()):\n",
    "    right_edges.append(str(gbk.intron_seq(i+1)[-n:]))\n",
    "\n",
    "# すべてのイントロンの5-prime側のn塩基の配列を取得\n",
    "left_edges = []\n",
    "for i in range(gbk.intron_num()):\n",
    "    left_edges.append(str(gbk.intron_seq(i+1)[:n]))"
   ]
  },
  {
   "cell_type": "code",
   "execution_count": null,
   "metadata": {},
   "outputs": [],
   "source": [
    "n = 5\n",
    "# すべてのイントロンの3-prime側のn塩基の配列を取得\n",
    "right_edges = {}\n",
    "for i in range(gbk.intron_num()):\n",
    "    right_edges[i+1] = str(gbk.intron_seq(i+1)[-n:])\n",
    "# すべてのイントロンの5-prime側のn塩基の配列を取得\n",
    "left_edges = {}\n",
    "for i in range(gbk.intron_num()):\n",
    "    left_edges[i+1] = str(gbk.intron_seq(i+1)[:n])"
   ]
  },
  {
   "cell_type": "code",
   "execution_count": null,
   "metadata": {},
   "outputs": [],
   "source": [
    "key_combinations = list(itertools.product(right_edges.keys(), left_edges.keys()))\n",
    "seq_combinations = list(itertools.product(right_edges.values(), left_edges.values()))\n",
    "\n",
    "intron_numb_combinations = [f\"{i}_{j}\" for i, j in key_combinations]\n",
    "intron_seq_combinations = [f\"{i}_{j}\" for i, j in seq_combinations]"
   ]
  },
  {
   "cell_type": "code",
   "execution_count": null,
   "metadata": {},
   "outputs": [],
   "source": [
    "# ワンホットエンコーディングを行う関数\n",
    "def one_hot_encode(seq):\n",
    "    mapping = {'A': [1, 0, 0, 0], 'T': [0, 1, 0, 0], 'G': [0, 0, 1, 0], 'C': [0, 0, 0, 1]}\n",
    "    return np.array([mapping[s] for s in seq]).flatten()\n",
    "\n",
    "# エンコーディングされた配列を準備\n",
    "encoded_sequences = np.array([one_hot_encode(seq) for seq in intron_seq_combinations])\n",
    "\n",
    "# 主成分分析（PCA）\n",
    "pca = PCA(n_components=2)  # 2つの主成分を取得\n",
    "principal_components = pca.fit_transform(encoded_sequences)\n",
    "\n",
    "# 主成分をデータフレームに変換\n",
    "df_pca = pd.DataFrame(data=principal_components, columns=['PC1', 'PC2'])\n",
    "\n",
    "# 結果をプロット\n",
    "fig = px.scatter(df_pca, x='PC1', y='PC2', hover_name=intron_seq_combinations)\n",
    "fig.show()"
   ]
  },
  {
   "cell_type": "code",
   "execution_count": null,
   "metadata": {},
   "outputs": [],
   "source": []
  }
 ],
 "metadata": {
  "kernelspec": {
   "display_name": "bio",
   "language": "python",
   "name": "python3"
  },
  "language_info": {
   "codemirror_mode": {
    "name": "ipython",
    "version": 3
   },
   "file_extension": ".py",
   "mimetype": "text/x-python",
   "name": "python",
   "nbconvert_exporter": "python",
   "pygments_lexer": "ipython3",
   "version": "3.10.13"
  }
 },
 "nbformat": 4,
 "nbformat_minor": 2
}
