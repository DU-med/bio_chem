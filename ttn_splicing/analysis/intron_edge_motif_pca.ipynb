{
 "cells": [
  {
   "cell_type": "markdown",
   "metadata": {},
   "source": [
    "# TTN遺伝子の両端の配列に着目しmotif配列の検出を行う"
   ]
  },
  {
   "cell_type": "markdown",
   "metadata": {},
   "source": [
    "### intron_edge_motif_pca.ipynbの内容\n",
    "各イントロン両端の特定の領域に存在する特徴的な配列を検出するために主成分分析を行う\n",
    "\n",
    "### 準備\n",
    "```\n",
    "gbk = Seq_count() # クラスのインスタンス化\n",
    "gbk.read_gbk('data/gbk/human_ttn.gb')　# gbkファイルの読み込み\n",
    "```\n",
    "\n",
    "### 特定のイントロン領域の組み合わせ配列の統計をデータフレームで返す\n",
    "イントロン88のの配列の統計情報\n",
    "組み合わせ配列の塩基数:4\n",
    "```\n",
    "gbk.intron_motif_stats(intron=88, n=4)\n",
    "```\n",
    "\n",
    "### 指定したインロンの配列を返す\n",
    "```\n",
    "gbk.intron_seq(77) # 77番目のイントロン配列を取得\n",
    "```"
   ]
  },
  {
   "cell_type": "markdown",
   "metadata": {},
   "source": [
    "## 準備"
   ]
  },
  {
   "cell_type": "code",
   "execution_count": null,
   "metadata": {},
   "outputs": [],
   "source": [
    "# オリジナルモジュールのインポート\n",
    "from lib.introngap import PileUp\n",
    "from lib.gbkparse import Seq_count\n",
    "\n",
    "# モジュールのインポート\n",
    "import itertools\n",
    "import logomaker\n",
    "import numpy as np\n",
    "import pandas as pd\n",
    "import matplotlib.pyplot as plt\n",
    "import seaborn as sns\n",
    "import plotly.express as px\n",
    "\n",
    "from sklearn.decomposition import PCA\n",
    "from sklearn.preprocessing import StandardScaler\n",
    "\n",
    "import warnings\n",
    "warnings.simplefilter(action='ignore', category=FutureWarning)"
   ]
  },
  {
   "cell_type": "code",
   "execution_count": null,
   "metadata": {},
   "outputs": [],
   "source": [
    "# クラスのインスタンス化\n",
    "gbk = Seq_count()\n",
    "\n",
    "# gbkファイルの読み込み\n",
    "gbk.read_gbk('../data/gbk/human_ttn.gb')"
   ]
  },
  {
   "cell_type": "code",
   "execution_count": null,
   "metadata": {},
   "outputs": [],
   "source": [
    "# 各バリアントのエクソン数を取得\n",
    "gbk.variant_exons()"
   ]
  },
  {
   "cell_type": "markdown",
   "metadata": {},
   "source": [
    "## すべてのイントロンの両端n塩基を抽出し、それらをもとに主成分分析を行う"
   ]
  },
  {
   "cell_type": "code",
   "execution_count": null,
   "metadata": {},
   "outputs": [],
   "source": [
    "# 各イントロンの両端n塩基を抽出し\n",
    "n = 30\n",
    "\n",
    "# 各イントロンの5-prime側のn塩基を抽出 \n",
    "left_egdes = []\n",
    "for i in range(gbk.intron_num()):\n",
    "    left_egdes.append(str(gbk.intron_seq(i+1)[:n]))\n",
    "    \n",
    "# 各イントロンの3-prime側のn塩基を抽出\n",
    "right_egdes = []\n",
    "for i in range(gbk.intron_num()):\n",
    "    right_egdes.append(str(gbk.intron_seq(i+1)[-n:]))"
   ]
  },
  {
   "cell_type": "markdown",
   "metadata": {},
   "source": [
    "### 抽出した配列のワンホットエンコーディングと主成分分析\n",
    "各イントロンの5-prime側のn塩基の主成分分析"
   ]
  },
  {
   "cell_type": "code",
   "execution_count": null,
   "metadata": {},
   "outputs": [],
   "source": [
    "# ワンホットエンコーディングを行う関数\n",
    "def one_hot_encode(seq):\n",
    "    mapping = {'A': [1, 0, 0, 0], 'T': [0, 1, 0, 0], 'G': [0, 0, 1, 0], 'C': [0, 0, 0, 1]}\n",
    "    return np.array([mapping[s] for s in seq]).flatten()\n",
    "\n",
    "# エンコーディングされた配列を準備\n",
    "encoded_sequences = np.array([one_hot_encode(seq) for seq in left_egdes])\n",
    "\n",
    "# 主成分分析（PCA）\n",
    "pca_l = PCA(n_components=2)  # 2つの主成分を取得\n",
    "principal_components = pca_l.fit_transform(encoded_sequences)\n",
    "\n",
    "# 主成分をデータフレームに変換\n",
    "df_pca_l = pd.DataFrame(data=principal_components, columns=['PC1', 'PC2'])\n",
    "\n",
    "# 結果をプロット\n",
    "fig = px.scatter(df_pca_l, x='PC1', y='PC2', hover_name=[f\"intron_{i+1}\" for i in range(gbk.intron_num())] )\n",
    "fig.show()\n"
   ]
  },
  {
   "cell_type": "code",
   "execution_count": null,
   "metadata": {},
   "outputs": [],
   "source": [
    "# 各イントロンのPC1の値を棒グラフにする\n",
    "fig = px.bar(x=df_pca_l.index, y=df_pca_l['PC1'])\n",
    "fig.show()"
   ]
  },
  {
   "cell_type": "code",
   "execution_count": null,
   "metadata": {},
   "outputs": [],
   "source": [
    "# 各バリアントのエクソンを表示\n",
    "gbk.transcript_variants()"
   ]
  },
  {
   "cell_type": "code",
   "execution_count": null,
   "metadata": {},
   "outputs": [],
   "source": [
    "# 因子負荷量の計算\n",
    "loadings_l = pca_l.components_.T * np.sqrt(pca_l.explained_variance_)\n",
    "\n",
    "# 因子負荷量を縦軸に棒グラフを作成\n",
    "loadings_ldf = pd.DataFrame(loadings_l, columns=['PC1', 'PC2'])\n",
    "ldf_l = pd.DataFrame(loadings_ldf)\n",
    "ldf_l.sort_values('PC1')\n",
    "fig = px.bar(x=ldf_l.index, y=ldf_l['PC1'])\n",
    "fig.show()"
   ]
  },
  {
   "cell_type": "code",
   "execution_count": null,
   "metadata": {},
   "outputs": [],
   "source": [
    "# ワンホットエンコーディングをデコードする\n",
    "# 負荷量の最も高い塩基を取得し、配列を作成する\n",
    "b_df_l = pd.DataFrame(ldf_l['PC1'].to_numpy().reshape(n,4))\n",
    "b_df_l.columns = ['A','T','G','C']\n",
    "crp_logo = logomaker.Logo(b_df_l, shade_below=.5, fade_below=.5)"
   ]
  },
  {
   "cell_type": "markdown",
   "metadata": {},
   "source": [
    "各イントロンの3-prime側のn塩基の主成分分析"
   ]
  },
  {
   "cell_type": "code",
   "execution_count": null,
   "metadata": {},
   "outputs": [],
   "source": [
    "# ワンホットエンコーディングを行う関数\n",
    "def one_hot_encode(seq):\n",
    "    mapping = {'A': [1, 0, 0, 0], 'T': [0, 1, 0, 0], 'G': [0, 0, 1, 0], 'C': [0, 0, 0, 1]}\n",
    "    return np.array([mapping[s] for s in seq]).flatten()\n",
    "\n",
    "# エンコーディングされた配列を準備\n",
    "encoded_sequences = np.array([one_hot_encode(seq) for seq in right_egdes])\n",
    "\n",
    "# 主成分分析（PCA）\n",
    "pca_r = PCA(n_components=2)  # 2つの主成分を取得\n",
    "principal_components = pca_r.fit_transform(encoded_sequences)\n",
    "\n",
    "# 主成分をデータフレームに変換\n",
    "df_pca_r = pd.DataFrame(data=principal_components, columns=['PC1', 'PC2'])\n",
    "\n",
    "# 結果をプロット\n",
    "fig = px.scatter(df_pca_r, x='PC1', y='PC2', hover_name=[f\"intron_{i+1}\" for i in range(gbk.intron_num())] )\n",
    "fig.show()"
   ]
  },
  {
   "cell_type": "code",
   "execution_count": null,
   "metadata": {},
   "outputs": [],
   "source": [
    "# 各イントロンのPC1の値を棒グラフにする\n",
    "fig = px.bar(x=df_pca_r.index, y=df_pca_r['PC1'])\n",
    "fig.show()"
   ]
  },
  {
   "cell_type": "code",
   "execution_count": null,
   "metadata": {},
   "outputs": [],
   "source": [
    "# 各バリアントのエクソンを表示\n",
    "gbk.transcript_variants()"
   ]
  },
  {
   "cell_type": "code",
   "execution_count": null,
   "metadata": {},
   "outputs": [],
   "source": [
    "# 因子負荷量の計算\n",
    "loadings_r = pca_r.components_.T * np.sqrt(pca_r.explained_variance_)\n",
    "\n",
    "# 因子負荷量を縦軸に棒グラフを作成\n",
    "loadings_rdf = pd.DataFrame(loadings_r, columns=['PC1', 'PC2'])\n",
    "ldf_r = pd.DataFrame(loadings_rdf)\n",
    "ldf_r.sort_values('PC1')\n",
    "fig = px.bar(x=ldf_r.index, y=ldf_r['PC1'])\n",
    "fig.show()"
   ]
  },
  {
   "cell_type": "code",
   "execution_count": null,
   "metadata": {},
   "outputs": [],
   "source": [
    "# ワンホットエンコーディングをデコードする\n",
    "# 負荷量の最も高い塩基を取得し、配列を作成する\n",
    "b_df_r = pd.DataFrame(ldf_r['PC1'].to_numpy().reshape(n,4))\n",
    "b_df_r.columns = ['A','T','G','C']\n",
    "crp_logo = logomaker.Logo(b_df_r, shade_below=.5, fade_below=.5)"
   ]
  },
  {
   "cell_type": "code",
   "execution_count": null,
   "metadata": {},
   "outputs": [],
   "source": [
    "# 上記の配列の一部が末尾n塩基に含まれているイントロンを抽出\n",
    "mtf = \"ACTAATATCTT\"\n",
    "for i in range(gbk.intron_num()):\n",
    "    if mtf in gbk.intron_seq(i+1)[-n:]:\n",
    "        print(f\"intron_{i+1}の末尾{n}塩基\")\n",
    "        seq = str(gbk.intron_seq(i+1)[-n:])\n",
    "        seq = seq.replace(mtf,f\"<{mtf}>\")\n",
    "        print(seq)\n",
    "        print(\"\")"
   ]
  },
  {
   "cell_type": "markdown",
   "metadata": {},
   "source": [
    "## Proporton Sliced In\n",
    "参考論文 [Contribution of Noncanonical Splice Variants to TTN Truncating Variant Cardiomyopathy](https://www.ahajournals.org/doi/full/10.1161/CIRCGEN.121.003389)<br>\n",
    "<br>\n",
    "**Figure 5A:**<br>\n",
    "[GTEX](https://gtexportal.org/home/)データベース情報をもとに骨格筋、左心室心筋、右心房心筋のmRNAのスプライスインされたエクソンの割合を示すFigure"
   ]
  },
  {
   "cell_type": "markdown",
   "metadata": {},
   "source": [
    "![PSI](../data/pic/Figure5A.png)"
   ]
  },
  {
   "cell_type": "code",
   "execution_count": null,
   "metadata": {},
   "outputs": [],
   "source": []
  }
 ],
 "metadata": {
  "kernelspec": {
   "display_name": "bio",
   "language": "python",
   "name": "python3"
  },
  "language_info": {
   "codemirror_mode": {
    "name": "ipython",
    "version": 3
   },
   "file_extension": ".py",
   "mimetype": "text/x-python",
   "name": "python",
   "nbconvert_exporter": "python",
   "pygments_lexer": "ipython3",
   "version": "3.10.13"
  }
 },
 "nbformat": 4,
 "nbformat_minor": 2
}
