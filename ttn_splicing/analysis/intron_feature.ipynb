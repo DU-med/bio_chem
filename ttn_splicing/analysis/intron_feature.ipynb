{
 "cells": [
  {
   "cell_type": "markdown",
   "id": "47867944-9daa-4272-a6c1-00dc89da23c6",
   "metadata": {},
   "source": [
    "## その他の哺乳類のTtn遺伝子のイントロンのスプライシングパターン"
   ]
  },
  {
   "cell_type": "markdown",
   "id": "967b8418",
   "metadata": {},
   "source": [
    "### intron_feature.ipynbの内容\n",
    "NCBIのgenbankから取得したRNA-seq intron features, aggregateのファイルからイントロンのスプライスパターンを可視化\n",
    "\n",
    "### NCBI情報\n",
    "RNA-seq intron features, aggregate (filterd)のファイルを取得<br>\n",
    "![intron_feature](../data/pic/intron_feature.png)\n",
    "[**mouse Ttn**](https://www.ncbi.nlm.nih.gov/nuccore/NC_000068.8?report=graph&from=76492536&to=76854687&strand=true&app_context=Gene&assm_context=GCF_000001635.27)<br>\n",
    "[**rat Ttn**](https://www.ncbi.nlm.nih.gov/nuccore/NC_051338.1?report=graph&from=61611559&to=61965783&strand=true&app_context=Gene&assm_context=GCF_015227675.2)<br>\n",
    "[**rabbit Ttn**](https://www.ncbi.nlm.nih.gov/nuccore/NC_067380.1?report=graph&from=55045025&to=55398485&app_context=Gene&assm_context=GCF_009806435.1)<br>\n",
    "[**human TTN**](https://www.ncbi.nlm.nih.gov/nuccore/NC_000002.12?report=graph&from=178483773&to=178849637&strand=true&app_context=Gene&assm_context=GCF_000001405.40)<br>\n",
    "[**chimp TTN**](https://www.ncbi.nlm.nih.gov/nuccore/NC_072400.1?report=graph&from=80513939&to=80881842&strand=true&app_context=Gene&assm_context=GCF_028858775.1)<br>\n",
    "[**gorilla TTN**](https://www.ncbi.nlm.nih.gov/nuccore/NC_073226.1?report=graph&from=69432214&to=69798206&strand=true&app_context=Gene&assm_context=GCF_029281585.1)\n",
    "\n",
    "### 準備\n",
    "```\n",
    "pile = PileUp() # クラスのインスタンス化\n",
    "pile.set_csv(f\"data/intron/mouse_ttn_intron.tsv\") # NCBIから取得したイントロンに関するデータを読み込み\n",
    "```\n",
    "\n",
    "### 異なる長さのイントロンの分布を表示\n",
    "```\n",
    "pile.set_title(f\"Mouse Ttn intron gap distribution\")　# タイトルの設定\n",
    "pile.show(height=300) # グラフの表示\n",
    "```\n",
    "\n",
    "### エクソン数の多い遺伝子のイントロンのスプライスパターンを可視化\n",
    "```\n",
    "for i in ['obscn','neb','ryr1','ryr2','ryr3','dst','syne1','syne2','col7a1']:\n",
    "    pile = PileUp()\n",
    "    pile.set_csv(f\"data/intron/mouse_other_genes/mouse_{i}_intron.tsv\")\n",
    "    pile.set_title(f\"Mouse {i} intron gap distribution\")\n",
    "    pile.show(height=300)\n",
    "```\n",
    "\n"
   ]
  },
  {
   "cell_type": "code",
   "execution_count": null,
   "id": "01f5d533",
   "metadata": {},
   "outputs": [],
   "source": [
    "from lib.introngap import PileUp"
   ]
  },
  {
   "cell_type": "markdown",
   "id": "ef50e2a7-e910-498c-9524-353eccf4b8a9",
   "metadata": {},
   "source": [
    "### げっ歯類のTtn遺伝子のスプライスパターン\n",
    "**mouse Ttn:**<br>\n",
    "https://www.ncbi.nlm.nih.gov/nuccore/NC_000068.8?report=graph&from=76492536&to=76854687&strand=true&app_context=Gene&assm_context=GCF_000001635.27<br>\n",
    "**rat Ttn:**<br>\n",
    "https://www.ncbi.nlm.nih.gov/nuccore/NC_051338.1?report=graph&from=61611559&to=61965783&strand=true&app_context=Gene&assm_context=GCF_015227675.2<br>\n",
    "**rabbit Ttn:**<br>\n",
    "https://www.ncbi.nlm.nih.gov/nuccore/NC_067380.1?report=graph&from=55045025&to=55398485&app_context=Gene&assm_context=GCF_009806435.1"
   ]
  },
  {
   "cell_type": "code",
   "execution_count": null,
   "id": "002414e7-95b3-48c9-8987-af7156375ea0",
   "metadata": {},
   "outputs": [],
   "source": [
    "for i in ['mouse','rat','rabbit']:\n",
    "    pile = PileUp()\n",
    "    pile.set_csv(f\"../data/intron/{i}_ttn_intron.tsv\")\n",
    "    pile.set_title(f\"{i} Ttn intron gap distribution\")\n",
    "    pile.show(height=300)"
   ]
  },
  {
   "cell_type": "markdown",
   "id": "9940433f-57fe-44c7-b941-b64eb541bf2a",
   "metadata": {},
   "source": [
    "### 霊長類のTtn遺伝子のスプライスパターン\n",
    "**human TTN:**<br>\n",
    "https://www.ncbi.nlm.nih.gov/nuccore/NC_000002.12?report=graph&from=178483773&to=178849637&strand=true&app_context=Gene&assm_context=GCF_000001405.40<br>\n",
    "**chimp TTN:**<br>\n",
    "https://www.ncbi.nlm.nih.gov/nuccore/NC_072400.1?report=graph&from=80513939&to=80881842&strand=true&app_context=Gene&assm_context=GCF_028858775.1<br>\n",
    "**gorilla TTN:**<br>\n",
    "https://www.ncbi.nlm.nih.gov/nuccore/NC_073226.1?report=graph&from=69432214&to=69798206&strand=true&app_context=Gene&assm_context=GCF_029281585.1"
   ]
  },
  {
   "cell_type": "code",
   "execution_count": null,
   "id": "abdf129d-e82f-4b14-be1c-4737523a0513",
   "metadata": {},
   "outputs": [],
   "source": [
    "for i in ['human','chimp','gori']:\n",
    "    pile = PileUp()\n",
    "    pile.set_csv(f\"../data/intron/{i}_ttn_intron.tsv\")\n",
    "    pile.set_title(f\"{i} Ttn intron gap distribution\")\n",
    "    pile.show(height=300)"
   ]
  },
  {
   "cell_type": "markdown",
   "metadata": {},
   "source": [
    "## 種間の保存性の可視化\n",
    "**UCSC genome browser**<br>\n",
    "https://genome.ucsc.edu/cgi-bin/hgTracks?db=hg38&lastVirtModeType=default&lastVirtModeExtraState=&virtModeType=default&virtMode=0&nonVirtPosition=&position=chr2%3A178525989%2D178807423&hgsid=1735195872_llHo1dKi3SVLwkPP3OCN3pMDqYzb"
   ]
  },
  {
   "cell_type": "markdown",
   "id": "047ad1a8-8243-4cbd-9582-cae0f65b834f",
   "metadata": {},
   "source": [
    "## エクソン数の多い遺伝子のイントロンのスプライスパターンを可視化"
   ]
  },
  {
   "cell_type": "code",
   "execution_count": null,
   "id": "63f61e84-f132-45c0-9745-ff0b229cbf3a",
   "metadata": {},
   "outputs": [],
   "source": [
    "for i in ['obscn','neb','ryr1','ryr2','ryr3','dst','syne1','syne2','col7a1']:\n",
    "    pile = PileUp()\n",
    "    pile.set_csv(f\"../data/intron/mouse_other_genes/mouse_{i}_intron.tsv\")\n",
    "    pile.set_title(f\"Mouse {i} intron gap distribution\")\n",
    "    pile.show(height=300)"
   ]
  },
  {
   "cell_type": "markdown",
   "id": "d1fe6e10-c18f-4184-8cd3-faa4bf2884d9",
   "metadata": {},
   "source": [
    "## Guide to the Human Genome\n",
    "http://www.cshlp.org/ghg5_all/section/gene.shtml"
   ]
  },
  {
   "cell_type": "markdown",
   "id": "d86693dc-5cad-4986-b182-f804afc792ba",
   "metadata": {},
   "source": [
    "## 仮説\n",
    "TTN遺伝子のオーソログでは、種間でイントロンのスプライスパターンが異なる<br>\n",
    "哺乳類のなかでも、霊長類とげっ歯類では、それぞれ特徴的な類似したスプライスパターンを持つ<br>\n",
    "TTN遺伝子の塩基配列の保存性は、哺乳類の中でも霊長類（human,chimp,gorilla）とそれ以外の２群に大きく分かれる<br>\n",
    "エクソン数の多い遺伝子の中でも、イントロンのスプライスパターンのホットスポットを持つものと、そうでないものが存在する<br>\n",
    "筋に関連する遺伝子はスプライスパターンのホットスポットを持つ<br>"
   ]
  }
 ],
 "metadata": {
  "kernelspec": {
   "display_name": "Python 3 (ipykernel)",
   "language": "python",
   "name": "python3"
  },
  "language_info": {
   "codemirror_mode": {
    "name": "ipython",
    "version": 3
   },
   "file_extension": ".py",
   "mimetype": "text/x-python",
   "name": "python",
   "nbconvert_exporter": "python",
   "pygments_lexer": "ipython3",
   "version": "3.10.13"
  }
 },
 "nbformat": 4,
 "nbformat_minor": 5
}
