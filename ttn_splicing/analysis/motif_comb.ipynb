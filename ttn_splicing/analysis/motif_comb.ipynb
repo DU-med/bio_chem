{
 "cells": [
  {
   "cell_type": "code",
   "execution_count": null,
   "metadata": {
    "notebookRunGroups": {
     "groupValue": ""
    }
   },
   "outputs": [],
   "source": [
    "# オリジナルモジュールのインポート\n",
    "from introngap import PileUp\n",
    "from gbkparse import Seq_count\n",
    "\n",
    "# モジュールのインポート\n",
    "import glob\n",
    "import pandas as pd\n",
    "import matplotlib.pyplot as plt\n",
    "import seaborn as sns\n",
    "import plotly.express as px"
   ]
  },
  {
   "cell_type": "code",
   "execution_count": null,
   "metadata": {},
   "outputs": [],
   "source": [
    "# クラスのインスタンス化\n",
    "gbk = Seq_count()\n",
    "\n",
    "# gbkファイルの読み込み\n",
    "gbk.read_gbk('../data/gbk/human_ttn.gb')\n",
    "\n",
    "# トランスクリプトバリアントの設定\n",
    "gbk.set_mrna_id('NM_001267550.2')"
   ]
  },
  {
   "cell_type": "code",
   "execution_count": null,
   "metadata": {},
   "outputs": [],
   "source": [
    "for i in gbk.get_mrna_ids():\n",
    "    g = Seq_count()\n",
    "    g.read_gbk('data/gbk/human_ttn.gb')\n",
    "    g.set_mrna_id(i)\n",
    "    print(i,g.intron_num())"
   ]
  },
  {
   "cell_type": "code",
   "execution_count": null,
   "metadata": {},
   "outputs": [],
   "source": [
    "n = 4\n",
    "df = gbk.intron_motif_stats(intron=1, n=n) \n",
    "\n",
    "for i in range(gbk.intron_num()-1):\n",
    "    tmp_df = gbk.intron_motif_stats(intron=i+2, n=n)\n",
    "    tmp_df.columns = [f'intron_{i+2}']\n",
    "    df = pd.merge(df, tmp_df, left_index=True, right_index=True)\n",
    "ndf = df/df.sum(axis=0)"
   ]
  },
  {
   "cell_type": "code",
   "execution_count": null,
   "metadata": {},
   "outputs": [],
   "source": [
    "fig = px.imshow(ndf, text_auto=True)\n",
    "fig.update_layout(width=800, height=800)\n",
    "fig.show()"
   ]
  },
  {
   "cell_type": "code",
   "execution_count": null,
   "metadata": {},
   "outputs": [],
   "source": [
    "g = sns.clustermap(ndf)\n",
    "reordered_index = ndf.index[g.dendrogram_row.reordered_ind]\n",
    "reordered_columns = ndf.columns[g.dendrogram_col.reordered_ind]\n",
    "clustered_ndf = ndf.loc[reordered_index, reordered_columns]\n",
    "clustered_ndf\n",
    "\n",
    "fig = px.imshow(clustered_ndf, text_auto=True)\n",
    "fig.update_layout(width=800, height=800)\n",
    "fig.show()"
   ]
  },
  {
   "cell_type": "code",
   "execution_count": null,
   "metadata": {},
   "outputs": [],
   "source": [
    "ls = [172, 181, 190, 203]\n",
    "ls.sort()\n",
    "for i in ls:\n",
    "    print(i, gbk.intron_seq(i))\n",
    "\n",
    "ls = [196, 178, 187, 194, 176, 185]\n",
    "ls.sort()\n",
    "for i in ls:\n",
    "    print(i, gbk.intron_seq(i))\n",
    "\n",
    "ls = [170, 198, 201, 202, 169, 199, 200]\n",
    "ls.sort()\n",
    "for i in ls:\n",
    "    print(i, gbk.intron_seq(i))\n",
    "\n",
    "ls = [355, 299, 323, 235, 297, 290, 314, 245]\n",
    "ls.sort()\n",
    "for i in ls:\n",
    "    print(i, gbk.intron_seq(i))"
   ]
  }
 ],
 "metadata": {
  "language_info": {
   "name": "python"
  }
 },
 "nbformat": 4,
 "nbformat_minor": 2
}
