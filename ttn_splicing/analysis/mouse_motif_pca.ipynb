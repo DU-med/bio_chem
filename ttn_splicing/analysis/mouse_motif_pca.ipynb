{
 "cells": [
  {
   "cell_type": "markdown",
   "metadata": {},
   "source": [
    "# Mouse TTN遺伝子上のmotif配列の統計および可視化"
   ]
  },
  {
   "cell_type": "markdown",
   "metadata": {},
   "source": [
    "### mouse_motif_comb.ipynbの内容\n",
    "複数個の塩基を組み合わせた配列を作成し、それらの各イントロン領域における出現頻度を解析\n",
    "\n",
    "### 準備\n",
    "```\n",
    "gbk = Seq_count() # クラスのインスタンス化\n",
    "gbk.read_gbk('data/gbk/human_ttn.gb')　# gbkファイルの読み込み\n",
    "```\n",
    "\n",
    "### 特定のイントロン領域の組み合わせ配列の統計をデータフレームで返す\n",
    "イントロン88のの配列の統計情報\n",
    "組み合わせ配列の塩基数:4\n",
    "```\n",
    "gbk.intron_motif_stats(intron=88, n=4)\n",
    "```\n",
    "\n",
    "### 指定したインロンの配列を返す\n",
    "```\n",
    "gbk.intron_seq(77) # 77番目のイントロン配列を取得\n",
    "```\n"
   ]
  },
  {
   "cell_type": "markdown",
   "metadata": {},
   "source": [
    "## 準備"
   ]
  },
  {
   "cell_type": "code",
   "execution_count": null,
   "metadata": {
    "notebookRunGroups": {
     "groupValue": ""
    }
   },
   "outputs": [],
   "source": [
    "# オリジナルモジュールのインポート\n",
    "from lib.introngap import PileUp\n",
    "from lib.gbkparse import Seq_count\n",
    "\n",
    "# モジュールのインポート\n",
    "import itertools\n",
    "import numpy as np\n",
    "import pandas as pd\n",
    "import matplotlib.pyplot as plt\n",
    "import seaborn as sns\n",
    "import plotly.express as px\n",
    "\n",
    "from sklearn.decomposition import PCA\n",
    "from sklearn.preprocessing import StandardScaler"
   ]
  },
  {
   "cell_type": "code",
   "execution_count": null,
   "metadata": {},
   "outputs": [],
   "source": [
    "# クラスのインスタンス化\n",
    "gbk = Seq_count()\n",
    "\n",
    "# gbkファイルの読み込み\n",
    "gbk.read_gbk('../data/gbk/mouse_ttn.gb')"
   ]
  },
  {
   "cell_type": "code",
   "execution_count": null,
   "metadata": {},
   "outputs": [],
   "source": [
    "# 登録されているmRNAのIDを取得\n",
    "for i in gbk.get_mrna_ids():\n",
    "    gbk.set_mrna_id(i)\n",
    "    print(i,gbk.intron_num())"
   ]
  },
  {
   "cell_type": "code",
   "execution_count": null,
   "metadata": {},
   "outputs": [],
   "source": [
    "\n",
    "# トランスクリプトバリアントの設定\n",
    "gbk.set_mrna_id('NM_001385708.1')"
   ]
  },
  {
   "cell_type": "markdown",
   "metadata": {},
   "source": [
    "## n個の塩基の組み合わせ配列を作成"
   ]
  },
  {
   "cell_type": "code",
   "execution_count": null,
   "metadata": {},
   "outputs": [],
   "source": [
    "# n個の塩基の組み合わせ配列を作成\n",
    "# intron_motif_stats関数で、すべてイントロン領域の配列の個数をカウント\n",
    "# その後、カウントした個数を全体の個数で割ることで、頻度を算出\n",
    "n = 4\n",
    "df = gbk.intron_motif_stats(intron=1, n=n) \n",
    "df.columns = ['intron_1']\n",
    "for i in range(gbk.intron_num()-1):\n",
    "    tmp_df = gbk.intron_motif_stats(intron=i+2, n=n)\n",
    "    tmp_df.columns = [f'intron_{i+2}']\n",
    "    df = pd.merge(df, tmp_df, left_index=True, right_index=True)\n",
    "ndf = df/df.sum(axis=0)"
   ]
  },
  {
   "cell_type": "markdown",
   "metadata": {},
   "source": [
    "## 組み合わせ配列の出現頻度をもとにもとに主成分分析を行う"
   ]
  },
  {
   "cell_type": "code",
   "execution_count": null,
   "metadata": {},
   "outputs": [],
   "source": [
    "# データの標準化\n",
    "scaler = StandardScaler()\n",
    "ndf_scaled = scaler.fit_transform(ndf)\n",
    "\n",
    "# PCAの実行\n",
    "pca = PCA(n_components=2)\n",
    "components = pca.fit_transform(ndf_scaled)\n",
    "\n",
    "# PCAの結果をデータフレームに変換\n",
    "pca_ndf = pd.DataFrame(data=components, columns=['PC1', 'PC2'])\n",
    "\n",
    "# 元の特徴量をPCAの結果に結合\n",
    "pca_ndf = pd.concat([pca_ndf, ndf.reset_index()], axis=1)\n",
    "\n",
    "# Plotly Expressを使用した2D散布図の作成\n",
    "# マウスオーバー時に表示する情報を追加\n",
    "fig = px.scatter(\n",
    "    pca_ndf, x='PC1', y='PC2', hover_name='index', \n",
    "    title=\"sequence motif PCA\",\n",
    ")\n",
    "fig.show()"
   ]
  },
  {
   "cell_type": "code",
   "execution_count": null,
   "metadata": {},
   "outputs": [],
   "source": [
    "# データの転置\n",
    "tndf = ndf.T\n",
    "\n",
    "# データの標準化\n",
    "scaler = StandardScaler()\n",
    "tndf_scaled = scaler.fit_transform(tndf)\n",
    "\n",
    "# PCAの実行\n",
    "pca = PCA(n_components=2)\n",
    "components = pca.fit_transform(tndf_scaled)\n",
    "\n",
    "# PCAの結果をデータフレームに変換\n",
    "pca_tndf = pd.DataFrame(data=components, columns=['PC1', 'PC2'])\n",
    "\n",
    "# 元の特徴量をPCAの結果に結合\n",
    "pca_tndf = pd.concat([pca_tndf, tndf.reset_index()], axis=1)\n",
    "\n",
    "# Plotly Expressを使用した2D散布図の作成\n",
    "# マウスオーバー時に表示する情報を追加\n",
    "fig = px.scatter(\n",
    "    pca_tndf, x='PC1', y='PC2', hover_name='index', \n",
    "    title=\"Intron Motif PCA\"\n",
    ")\n",
    "fig.show()"
   ]
  },
  {
   "cell_type": "markdown",
   "metadata": {},
   "source": [
    "## 因子負荷量の計算"
   ]
  },
  {
   "cell_type": "code",
   "execution_count": null,
   "metadata": {},
   "outputs": [],
   "source": [
    "# 因子負荷量の計算\n",
    "loadings = pca.components_.T * np.sqrt(pca.explained_variance_)\n",
    "\n",
    "# 結果の表示\n",
    "loadings_df = pd.DataFrame(loadings, columns=['PC1', 'PC2'], index=tndf.columns)\n",
    "ldf = pd.DataFrame(loadings_df)\n",
    "ldf"
   ]
  }
 ],
 "metadata": {
  "kernelspec": {
   "display_name": "bio",
   "language": "python",
   "name": "python3"
  },
  "language_info": {
   "codemirror_mode": {
    "name": "ipython",
    "version": 3
   },
   "file_extension": ".py",
   "mimetype": "text/x-python",
   "name": "python",
   "nbconvert_exporter": "python",
   "pygments_lexer": "ipython3",
   "version": "3.9.18"
  }
 },
 "nbformat": 4,
 "nbformat_minor": 2
}
