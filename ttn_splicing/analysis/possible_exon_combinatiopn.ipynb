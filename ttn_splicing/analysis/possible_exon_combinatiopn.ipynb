{
 "cells": [
  {
   "cell_type": "code",
   "execution_count": null,
   "metadata": {},
   "outputs": [],
   "source": [
    "# オリジナルモジュールのインポート\n",
    "from lib.introngap import PileUp\n",
    "from lib.gbkparse import Seq_count\n",
    "\n",
    "# モジュールのインポート\n",
    "import itertools\n",
    "import logomaker\n",
    "import numpy as np\n",
    "import pandas as pd\n",
    "import matplotlib.pyplot as plt\n",
    "import seaborn as sns\n",
    "import plotly.express as px\n",
    "\n",
    "from sklearn.decomposition import PCA\n",
    "from sklearn.preprocessing import StandardScaler\n",
    "from xgboost import XGBClassifier\n",
    "from sklearn.model_selection import train_test_split\n",
    "\n",
    "import warnings\n",
    "warnings.simplefilter(action='ignore', category=FutureWarning)"
   ]
  },
  {
   "cell_type": "code",
   "execution_count": null,
   "metadata": {},
   "outputs": [],
   "source": [
    "# クラスのインスタンス化\n",
    "gbk = Seq_count()\n",
    "\n",
    "# gbkファイルの読み込み\n",
    "gbk.read_gbk('../data/gbk/human_ttn.gb')\n",
    "\n",
    "# 各種バリアントの可視化\n",
    "gbk.transcript_variants()"
   ]
  },
  {
   "cell_type": "code",
   "execution_count": null,
   "metadata": {},
   "outputs": [],
   "source": [
    "# すべてのエクソンの配列をvalueとする辞書を作成\n",
    "# エクソン番号は、バリアントに関わらず統一的なナンバリングにする\n",
    "var = gbk.get_mrna_ids()\n",
    "\n",
    "all_exon_list = []\n",
    "for i in var:\n",
    "    gbk.set_mrna_id(i)\n",
    "    for j in gbk.exon_list():\n",
    "        if j not in all_exon_list:\n",
    "            all_exon_list.append(j)\n",
    "\n",
    "all_exon_list.sort(key=lambda x: x[0])\n",
    "\n",
    "exon_dic = {}\n",
    "for i in range(len(all_exon_list)):\n",
    "    exon_dic[i+1] = all_exon_list[i]"
   ]
  },
  {
   "cell_type": "code",
   "execution_count": null,
   "metadata": {},
   "outputs": [],
   "source": [
    "# 各バリンアントのおける統一的エクソンナンバーの組み合わせを作成\n",
    "def get_key(value):\n",
    "    for i in exon_dic.keys():\n",
    "        if exon_dic[i] == value:\n",
    "            return i\n",
    "\n",
    "variant_dic = {}\n",
    "for v in var:\n",
    "    gbk.set_mrna_id(v)\n",
    "    tmp_list = []\n",
    "    for i in gbk.exon_list():\n",
    "            tmp_list.append(get_key(i))\n",
    "    variant_dic[v] = tmp_list\n"
   ]
  },
  {
   "cell_type": "code",
   "execution_count": null,
   "metadata": {},
   "outputs": [],
   "source": [
    "# 存在しうるエクソンの組み合わせを作成\n",
    "exon_comb = []\n",
    "for i in var:\n",
    "    ls = variant_dic[i]\n",
    "    for i in range(len(ls)-1):\n",
    "        exon_comb.append((ls[i], ls[i+1]))\n",
    "exon_comb = set(exon_comb)\n",
    "exon_comb"
   ]
  },
  {
   "cell_type": "code",
   "execution_count": null,
   "metadata": {},
   "outputs": [],
   "source": [
    "# exon40からexon230までの範囲に解析を限定する\n",
    "exon_comb_ltd = []\n",
    "for i,j in exon_comb:\n",
    "    if i >= 40 and j <= 230:\n",
    "        exon_comb_ltd.append((i,j))\n",
    "\n",
    "exon_comb_ltd = sorted(exon_comb_ltd)\n",
    "print(\"exon_comb_ltdの要素数:\", len(exon_comb_ltd))\n",
    "exon_comb_ltd"
   ]
  },
  {
   "cell_type": "code",
   "execution_count": null,
   "metadata": {},
   "outputs": [],
   "source": []
  },
  {
   "cell_type": "code",
   "execution_count": null,
   "metadata": {},
   "outputs": [],
   "source": []
  }
 ],
 "metadata": {
  "kernelspec": {
   "display_name": "bio",
   "language": "python",
   "name": "python3"
  },
  "language_info": {
   "codemirror_mode": {
    "name": "ipython",
    "version": 3
   },
   "file_extension": ".py",
   "mimetype": "text/x-python",
   "name": "python",
   "nbconvert_exporter": "python",
   "pygments_lexer": "ipython3",
   "version": "3.10.13"
  }
 },
 "nbformat": 4,
 "nbformat_minor": 2
}
