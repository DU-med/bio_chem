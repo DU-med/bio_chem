{
 "cells": [
  {
   "cell_type": "code",
   "execution_count": null,
   "metadata": {},
   "outputs": [],
   "source": [
    "# オリジナルモジュールのインポート\n",
    "from lib.introngap import PileUp\n",
    "from lib.gbkparse import Seq_count\n",
    "\n",
    "# モジュールのインポート\n",
    "import itertools\n",
    "import logomaker\n",
    "import numpy as np\n",
    "import pandas as pd\n",
    "import matplotlib.pyplot as plt\n",
    "import seaborn as sns\n",
    "import plotly.express as px\n",
    "\n",
    "from sklearn.decomposition import PCA\n",
    "from sklearn.preprocessing import StandardScaler\n",
    "from xgboost import XGBClassifier\n",
    "from sklearn.model_selection import train_test_split\n",
    "\n",
    "import warnings\n",
    "warnings.simplefilter(action='ignore', category=FutureWarning)"
   ]
  },
  {
   "cell_type": "code",
   "execution_count": null,
   "metadata": {},
   "outputs": [],
   "source": [
    "# クラスのインスタンス化\n",
    "gbk = Seq_count()\n",
    "\n",
    "# gbkファイルの読み込み\n",
    "gbk.read_gbk('../data/gbk/human_ttn.gb')\n",
    "\n",
    "# 各種バリアントの可視化\n",
    "gbk.transcript_variants()"
   ]
  },
  {
   "cell_type": "code",
   "execution_count": null,
   "metadata": {},
   "outputs": [],
   "source": [
    "# バリアントのリストを作成 \n",
    "var = gbk.get_mrna_ids()\n",
    "\n",
    "# 特殊なバリアントを除外する\n",
    "var.remove(\"XM_024453100.2\")\n",
    "var"
   ]
  },
  {
   "cell_type": "code",
   "execution_count": null,
   "metadata": {},
   "outputs": [],
   "source": [
    "# すべてのエクソンの配列をvalueとする辞書を作成\n",
    "# エクソン番号は、バリアントに関わらず統一的なナンバリングにする\n",
    "\n",
    "all_exon_list = []\n",
    "for i in var:\n",
    "    gbk.set_mrna_id(i)\n",
    "    for j in gbk.exon_list():\n",
    "        if j not in all_exon_list:\n",
    "            all_exon_list.append(j)\n",
    "\n",
    "all_exon_list.sort(key=lambda x: x[0])\n",
    "\n",
    "exon_dic = {}\n",
    "for i in range(len(all_exon_list)):\n",
    "    exon_dic[i+1] = all_exon_list[i]"
   ]
  },
  {
   "cell_type": "code",
   "execution_count": null,
   "metadata": {},
   "outputs": [],
   "source": [
    "# 各バリンアントのおける統一的エクソンナンバーの組み合わせを作成\n",
    "def get_key(value):\n",
    "    for i in exon_dic.keys():\n",
    "        if exon_dic[i] == value:\n",
    "            return i\n",
    "\n",
    "variant_dic = {}\n",
    "for v in var:\n",
    "    gbk.set_mrna_id(v)\n",
    "    tmp_list = []\n",
    "    for i in gbk.exon_list():\n",
    "            tmp_list.append(get_key(i))\n",
    "    variant_dic[v] = tmp_list\n"
   ]
  },
  {
   "cell_type": "code",
   "execution_count": null,
   "metadata": {},
   "outputs": [],
   "source": [
    "# 存在しうるエクソンの組み合わせを作成\n",
    "exon_comb = []\n",
    "for i in var:\n",
    "    ls = variant_dic[i]\n",
    "    for i in range(len(ls)-1):\n",
    "        exon_comb.append((ls[i], ls[i+1]))\n",
    "exon_comb = set(exon_comb)"
   ]
  },
  {
   "cell_type": "code",
   "execution_count": null,
   "metadata": {},
   "outputs": [],
   "source": [
    "# exon40からexon230までの範囲に解析を限定する\n",
    "exon_comb_ltd = []\n",
    "for i,j in exon_comb:\n",
    "    if i >= 40 and j <= 230:\n",
    "        exon_comb_ltd.append((i,j))\n",
    "\n",
    "exisistent_comb = sorted(exon_comb_ltd)\n",
    "print(\"exon_comb_ltdの要素数:\", len(exisistent_comb))\n",
    "# exon_comb_ltd"
   ]
  },
  {
   "cell_type": "code",
   "execution_count": null,
   "metadata": {},
   "outputs": [],
   "source": [
    "#  特殊なスプライスを受けるエクソン\n",
    "for i in exon_dic.keys():\n",
    "    if i < len(exon_dic.keys())-1:\n",
    "        if exon_dic[i][1] > exon_dic[i+1][0]:\n",
    "            print(i)"
   ]
  },
  {
   "cell_type": "code",
   "execution_count": null,
   "metadata": {},
   "outputs": [],
   "source": [
    "# エクソンを一つ以上飛ばす組み合わせを作成\n",
    "exon_distant_comb = []\n",
    "for i,j in exisistent_comb:\n",
    "    if j - i > 1:\n",
    "        exon_distant_comb.append((i,j))\n",
    "# exon_distant_comb"
   ]
  },
  {
   "cell_type": "code",
   "execution_count": null,
   "metadata": {},
   "outputs": [],
   "source": [
    "space_filling_comb = []\n",
    "for i,j in exon_distant_comb:\n",
    "    for k in range(j-i):\n",
    "        space_filling_comb.append((i,i+k+1))\n",
    "\n",
    "space_filling_comb = set(space_filling_comb)\n",
    "# space_filling_comb"
   ]
  },
  {
   "cell_type": "code",
   "execution_count": null,
   "metadata": {},
   "outputs": [],
   "source": [
    "non_exisistent_comb = []\n",
    "for i in space_filling_comb:\n",
    "    if i not in exisistent_comb:\n",
    "        non_exisistent_comb.append(i)\n",
    "non_exisistent_comb = sorted(non_exisistent_comb)"
   ]
  },
  {
   "cell_type": "code",
   "execution_count": null,
   "metadata": {},
   "outputs": [],
   "source": [
    "# エクソンの組み合わせがあるイントロンの始点と終点のリスト\n",
    "exisistent_comb_region = []\n",
    "for i,j in exisistent_comb:\n",
    "    exisistent_comb_region.append((exon_dic[i][1], exon_dic[j][0]))\n",
    "# exisistent_comb_region\n",
    "\n",
    "# エクソンの組み合わせが無いイントロンの始点と終点のリスト\n",
    "non_exisistent_comb_region = []\n",
    "for i,j in non_exisistent_comb:\n",
    "    non_exisistent_comb_region.append((exon_dic[i][1], exon_dic[j][0]))\n",
    "# non_exisistent_comb_region"
   ]
  },
  {
   "cell_type": "code",
   "execution_count": null,
   "metadata": {},
   "outputs": [],
   "source": [
    "# TTN遺伝子全長配列\n",
    "seq = str(gbk.gDNA_seq())"
   ]
  },
  {
   "cell_type": "code",
   "execution_count": null,
   "metadata": {},
   "outputs": [],
   "source": [
    "# exisistent_comb_regionのイントロン両端のn塩基の配列を取得\n",
    "n = 15\n",
    "\n",
    "exisistent_comb_region_edges = []\n",
    "for i,j in exisistent_comb_region:\n",
    "    left = seq[i:i+n]\n",
    "    right = seq[j-n:j]\n",
    "    exisistent_comb_region_edges.append((left+right))\n",
    "exisistent_comb_region_edges\n",
    "\n",
    "# non_exisistent_comb_regionのイントロン両端のn塩基の配列を取得\n",
    "non_exisistent_comb_region_edges = []\n",
    "for i,j in non_exisistent_comb_region:\n",
    "    left = seq[i:i+n]\n",
    "    right = seq[j-n:j]\n",
    "    non_exisistent_comb_region_edges.append((left+right))\n",
    "non_exisistent_comb_region_edges"
   ]
  }
 ],
 "metadata": {
  "kernelspec": {
   "display_name": "bio",
   "language": "python",
   "name": "python3"
  },
  "language_info": {
   "codemirror_mode": {
    "name": "ipython",
    "version": 3
   },
   "file_extension": ".py",
   "mimetype": "text/x-python",
   "name": "python",
   "nbconvert_exporter": "python",
   "pygments_lexer": "ipython3",
   "version": "3.10.13"
  }
 },
 "nbformat": 4,
 "nbformat_minor": 2
}
