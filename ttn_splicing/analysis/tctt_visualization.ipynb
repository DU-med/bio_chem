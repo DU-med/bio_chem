{
 "cells": [
  {
   "cell_type": "markdown",
   "id": "c4462f5d-d790-4423-a1ab-3ed8076701fb",
   "metadata": {},
   "source": [
    "## Mouse Ttn遺伝子内のTCTT配列の分布の可視化"
   ]
  },
  {
   "cell_type": "code",
   "execution_count": null,
   "id": "a5273519-69c4-41bd-8c70-5846b2a9368e",
   "metadata": {},
   "outputs": [],
   "source": [
    "# オリジナルモジュールのインポート\n",
    "from lib.gbkparse import Seq_count"
   ]
  },
  {
   "cell_type": "markdown",
   "id": "f128b2cd-dfc4-4466-ad22-37bf4d92d740",
   "metadata": {},
   "source": [
    "### 可視化の準備"
   ]
  },
  {
   "cell_type": "code",
   "execution_count": null,
   "id": "4c4786d0-5534-42b0-a3f9-454cd2317b81",
   "metadata": {},
   "outputs": [],
   "source": [
    "# クラスのインスタンス化\n",
    "gbk = Seq_count()\n",
    "\n",
    "# gbkファイルの読み込み\n",
    "gbk.read_gbk('../data/gbk/human_ttn.gb')\n",
    "\n",
    "# tutorialの表示\n",
    "gbk.tutorial()"
   ]
  },
  {
   "cell_type": "code",
   "execution_count": null,
   "id": "839cb00e-b081-4d07-8a95-5b2a0b24bbd6",
   "metadata": {},
   "outputs": [],
   "source": [
    "# バリアントの表示\n",
    "gbk.get_mrna_ids()"
   ]
  },
  {
   "cell_type": "code",
   "execution_count": null,
   "id": "0c308e16-1184-4edb-a950-804ecd4121d1",
   "metadata": {},
   "outputs": [],
   "source": [
    "# トランスクリプトバリアントの設定\n",
    "gbk.set_mrna_id('NM_001267550.2')"
   ]
  },
  {
   "cell_type": "code",
   "execution_count": null,
   "id": "d852de7c-414c-4a99-9b00-63cc03b15d7f",
   "metadata": {},
   "outputs": [],
   "source": [
    "# 着目する配列の設定\n",
    "gbk.set_interest_seq('TCTT')"
   ]
  },
  {
   "cell_type": "markdown",
   "id": "6c5c2d3c-d718-429b-b095-e6a078177eb2",
   "metadata": {},
   "source": [
    "### Ttn遺伝子内のTCTT配列の分布"
   ]
  },
  {
   "cell_type": "code",
   "execution_count": null,
   "id": "f6f6c148-619a-417c-979c-b2b590acd96a",
   "metadata": {},
   "outputs": [],
   "source": [
    "# TCTT配列の分布の可視化\n",
    "gbk.heatmap_hist()\n",
    "\n",
    "# figureの保存\n",
    "gbk.save_fig()"
   ]
  },
  {
   "cell_type": "markdown",
   "id": "2a92d273-2a45-4e55-b988-7c9e3a7a7a31",
   "metadata": {},
   "source": [
    "### 各エクソン・イントロン内のTCTT配列の個数の分布"
   ]
  },
  {
   "cell_type": "markdown",
   "id": "c5e94eac-5142-42f3-9a62-ee76fcb481a9",
   "metadata": {},
   "source": [
    "#### 各イントロン内のTCTT配列の棒グラフ"
   ]
  },
  {
   "cell_type": "code",
   "execution_count": null,
   "id": "3344cde6-2d35-4656-8026-a004ffacf1a2",
   "metadata": {},
   "outputs": [],
   "source": [
    "# 各イントロン内のTCTT配列の棒グラフ\n",
    "gbk.intron_bar()"
   ]
  },
  {
   "cell_type": "markdown",
   "id": "daf12dfc-f6dc-4919-be96-b7fbd8e31a63",
   "metadata": {},
   "source": [
    "#### 各イントロン内の100塩基あたりのTCTT配列の棒グラフ"
   ]
  },
  {
   "cell_type": "code",
   "execution_count": null,
   "id": "8d289a0d-c150-4f65-9058-9bdf97955482",
   "metadata": {},
   "outputs": [],
   "source": [
    "# 各イントロン内の100塩基あたりのTCTT配列の棒グラフ\n",
    "gbk.intron_bar_base()"
   ]
  },
  {
   "cell_type": "markdown",
   "id": "d06dfdcf-fadd-4193-a28e-7d45af97d12b",
   "metadata": {},
   "source": [
    "#### 各イントロンの両端の５０塩基に存在するTCTT配列の棒グラフ"
   ]
  },
  {
   "cell_type": "code",
   "execution_count": null,
   "id": "6223412b-8e1f-4356-932e-32f7d0250b3c",
   "metadata": {},
   "outputs": [],
   "source": [
    "# 各イントロンの両端の５０塩基に存在するTCTT配列の棒グラフ\n",
    "gbk.interest_seq_count_edge()"
   ]
  },
  {
   "cell_type": "markdown",
   "id": "9b48aacb-63af-42c3-998c-d5c167bbc46f",
   "metadata": {},
   "source": [
    "#### 各エクソン内のTCTT配列の棒グラフ"
   ]
  },
  {
   "cell_type": "code",
   "execution_count": null,
   "id": "ef5feb28-ccd8-4a3f-b7be-f171056ce2bd",
   "metadata": {},
   "outputs": [],
   "source": [
    "# 各エクソン内のTCTT配列の棒グラフ\n",
    "gbk.exon_bar()"
   ]
  },
  {
   "cell_type": "markdown",
   "id": "959ee060-d1de-42a3-903c-ed0aa0e94ae4",
   "metadata": {},
   "source": [
    "#### 各エクソン内の100塩基あたりのTCTT配列の棒グラフ"
   ]
  },
  {
   "cell_type": "code",
   "execution_count": null,
   "id": "6f00be18-964b-4333-8fa6-055308b9b152",
   "metadata": {},
   "outputs": [],
   "source": [
    "# 各エクソン内の100塩基あたりのTCTT配列の棒グラフ\n",
    "gbk.exon_bar_base()"
   ]
  }
 ],
 "metadata": {
  "kernelspec": {
   "display_name": "Python 3 (ipykernel)",
   "language": "python",
   "name": "python3"
  },
  "language_info": {
   "codemirror_mode": {
    "name": "ipython",
    "version": 3
   },
   "file_extension": ".py",
   "mimetype": "text/x-python",
   "name": "python",
   "nbconvert_exporter": "python",
   "pygments_lexer": "ipython3",
   "version": "3.9.18"
  }
 },
 "nbformat": 4,
 "nbformat_minor": 5
}
