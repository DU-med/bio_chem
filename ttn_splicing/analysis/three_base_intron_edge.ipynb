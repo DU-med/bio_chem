{
 "cells": [
  {
   "cell_type": "markdown",
   "metadata": {},
   "source": [
    "# 各イントロンの両端3塩基の配列パターンの分布を可視化\n",
    "**目的:**<br>\n",
    "すべてのイントロンの5'側と3'側の末端3塩基の配列を取得<br>\n",
    "配列の組み合わせごとに分布を可視化<br>"
   ]
  },
  {
   "cell_type": "code",
   "execution_count": null,
   "metadata": {},
   "outputs": [],
   "source": [
    "# オリジナルモジュールのインポート\n",
    "from lib.introngap import PileUp\n",
    "from lib.gbkparse import Seq_count\n",
    "\n",
    "# モジュールのインポート\n",
    "import itertools\n",
    "import logomaker\n",
    "import numpy as np\n",
    "import pandas as pd\n",
    "import matplotlib.pyplot as plt\n",
    "import seaborn as sns\n",
    "import plotly.express as px\n",
    "import plotly.graph_objs as go\n",
    "\n",
    "from plotly.subplots import make_subplots\n",
    "from sklearn.decomposition import PCA\n",
    "from sklearn.preprocessing import StandardScaler\n",
    "from xgboost import XGBClassifier\n",
    "from sklearn.model_selection import train_test_split\n",
    "\n",
    "import warnings\n",
    "warnings.simplefilter(action='ignore', category=FutureWarning)"
   ]
  },
  {
   "cell_type": "code",
   "execution_count": null,
   "metadata": {},
   "outputs": [],
   "source": [
    "# クラスのインスタンス化\n",
    "gbk = Seq_count()\n",
    "\n",
    "# gbkファイルの読み込み\n",
    "gbk.read_gbk('../data/gbk/human_ttn.gb')"
   ]
  },
  {
   "cell_type": "code",
   "execution_count": null,
   "metadata": {},
   "outputs": [],
   "source": [
    "# 各イントロンにおける5'側３塩基パターンの分布\n",
    "fig = make_subplots(rows=4, cols=1, shared_xaxes=True, vertical_spacing=0.02)\n",
    "for n, motif in enumerate([\"GT\"+\"\".join(i) for i in list(\"ATCG\")]):\n",
    "    introns = []\n",
    "    for i in range(gbk.intron_num()):\n",
    "        if gbk.intron_seq(i)[:len(motif)] == motif:\n",
    "            introns.append(1)\n",
    "        else:\n",
    "            introns.append(0)\n",
    "    x = [i+1 for i in range(len(introns))]\n",
    "    y = introns\n",
    "    df = pd.DataFrame({\"introns\": x, \"existence\":y, \"intron\":x})\n",
    "    # ホバーテンプレートの設定\n",
    "    hovertemplate = 'Intron: %{x}<extra></extra>'\n",
    "    fig.add_trace(go.Bar(x=df['introns'], y=df['existence'], name=motif, hovertemplate=hovertemplate), row=n+1, col=1)\n",
    "    # fig = px.bar(df, x=\"introns\", y=\"existence\", hover_data={'introns': False, 'existence': False, 'intron': True}, title=f\"5' intron edge: {motif}\" )\n",
    "fig.update_layout(width=800, height=400, title_text=f\"5' intron edge (NM_001267550.2)\" )\n",
    "fig.show()"
   ]
  },
  {
   "cell_type": "code",
   "execution_count": null,
   "metadata": {},
   "outputs": [],
   "source": [
    "# 各イントロンにおける3'側３塩基パターンの分布\n",
    "fig = make_subplots(rows=4, cols=1, shared_xaxes=True, vertical_spacing=0.02)\n",
    "for n, motif in enumerate([\"\".join(i)+\"AG\" for i in list(\"ATCG\")]):\n",
    "    introns = []\n",
    "    for i in range(gbk.intron_num()):\n",
    "        if gbk.intron_seq(i)[-len(motif):] == motif:\n",
    "            introns.append(1)\n",
    "        else:\n",
    "            introns.append(0)\n",
    "    x = [i+1 for i in range(len(introns))]\n",
    "    y = introns\n",
    "    df = pd.DataFrame({\"introns\": x, \"existence\":y, \"intron\":x})\n",
    "    # ホバーテンプレートの設定\n",
    "    hovertemplate = 'Intron: %{x}<extra></extra>'\n",
    "    fig.add_trace(go.Bar(x=df['introns'], y=df['existence'], name=motif, hovertemplate=hovertemplate), row=n+1, col=1)\n",
    "fig.update_layout(width=800, height=400, title_text=f\"3' intron edge (NM_001267550.2)\" )\n",
    "fig.show()"
   ]
  },
  {
   "cell_type": "code",
   "execution_count": null,
   "metadata": {},
   "outputs": [],
   "source": [
    "# 各イントロンにおける5'側３塩基パターンの分布\n",
    "motif5 = \"GTA\"\n",
    "introns5 = []\n",
    "for i in range(gbk.intron_num()):\n",
    "    if gbk.intron_seq(i)[:len(motif5)] == motif5:\n",
    "        introns5.append(1)\n",
    "    else:\n",
    "        introns5.append(0)\n",
    "df5 = pd.DataFrame({\"intron\":[i+1 for i in range(len(introns5))], \"existence\":introns5, \"description\": [f\"intron: {i+1}\" for i in range(len(introns5))]})\n",
    "\n",
    "# 各イントロンにおける3'側３塩基パターンの分布\n",
    "motif3 = \"AAG\"\n",
    "introns3 = []\n",
    "for i in range(gbk.intron_num()):\n",
    "    if gbk.intron_seq(i)[-len(motif3):] == motif3:\n",
    "        introns3.append(1)\n",
    "    else:\n",
    "        introns3.append(0)\n",
    "df3 = pd.DataFrame({\"intron\":[i+1 for i in range(len(introns3))], \"existence\":introns3, \"description\": [f\"intron: {i+1}\" for i in range(len(introns3))]})\n",
    "\n",
    "fig = make_subplots(rows=2, cols=1, shared_xaxes=True, vertical_spacing=0.02)\n",
    "hovertemplate5 = 'Intron: %{x}<extra></extra>'\n",
    "hovertemplate3 = 'Intron: %{x}<extra></extra>'\n",
    "fig.add_trace(go.Bar(x=df5['intron'], y=df5['existence'], name=f\"5' edge: {motif5}\", hovertemplate=hovertemplate5), row=1, col=1)\n",
    "fig.add_trace(go.Bar(x=df3['intron'], y=df3['existence'], name=f\"3' edge: {motif3}\", hovertemplate=hovertemplate3), row=2, col=1)\n",
    "fig.update_layout(width=800, height=300, title_text=f\"motif in Intron edges\" )\n",
    "fig.show()"
   ]
  },
  {
   "cell_type": "markdown",
   "metadata": {},
   "source": [
    "![PSI](../data/pic/Figure5A.png)"
   ]
  },
  {
   "cell_type": "code",
   "execution_count": null,
   "metadata": {},
   "outputs": [],
   "source": [
    "# エクソン配列が3の倍数であるエクソンの表示\n",
    "exon_3x = []\n",
    "for i in range(gbk.exon_num()):\n",
    "    if len(gbk.exon_seq(i+1)) % 3 == 0:\n",
    "        exon_3x.append(1)\n",
    "    else:\n",
    "        exon_3x.append(0)\n",
    "df = pd.DataFrame({\"exon\":[i+1 for i in range(gbk.exon_num())], \n",
    "                   \"existence\":exon_3x, \n",
    "                   \"length\":[len(gbk.exon_seq(i+1)) for i in range(gbk.exon_num())], \n",
    "                   \"bar\": [1 for i in range(gbk.exon_num())]})\n",
    "\n",
    "fig = px.bar(df, x=\"exon\", y=\"bar\", color='existence', hover_data={'exon': True, 'existence': False, 'length': True, 'bar':False}, \n",
    "             title=f\"Exons with a base number that is a multiple of 3 (NM_001267550.2)\", color_continuous_scale='YlGn')\n",
    "fig.update_layout(width=800, height=250)\n",
    "fig.update_coloraxes(showscale=False)\n",
    "fig.show()"
   ]
  },
  {
   "cell_type": "code",
   "execution_count": null,
   "metadata": {},
   "outputs": [],
   "source": [
    "import plotly.express as px\n",
    "import pandas as pd\n",
    "\n",
    "# サンプルデータの作成\n",
    "data = {\n",
    "    'Category': ['A', 'B', 'C', 'D'],\n",
    "    'Values': [10, 20, 30, 40]\n",
    "}\n",
    "\n",
    "# データフレームの作成\n",
    "df = pd.DataFrame(data)\n",
    "\n",
    "# カテゴリごとに異なる色を割り当てる\n",
    "fig = px.bar(df, x='Category', y='Values', color='Category')\n",
    "\n",
    "# グラフの表示\n",
    "fig.show()\n"
   ]
  }
 ],
 "metadata": {
  "kernelspec": {
   "display_name": "bio",
   "language": "python",
   "name": "python3"
  },
  "language_info": {
   "codemirror_mode": {
    "name": "ipython",
    "version": 3
   },
   "file_extension": ".py",
   "mimetype": "text/x-python",
   "name": "python",
   "nbconvert_exporter": "python",
   "pygments_lexer": "ipython3",
   "version": "3.10.13"
  }
 },
 "nbformat": 4,
 "nbformat_minor": 2
}
