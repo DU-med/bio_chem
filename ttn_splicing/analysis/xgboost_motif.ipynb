{
 "cells": [
  {
   "cell_type": "markdown",
   "metadata": {},
   "source": [
    "# xgboostを用いて、スプライスされやすい領域とそうでない領域の配列の学習を行う\n",
    "\n",
    "**目的:**<br>\n",
    "スプライシングを受けやすいイントロン領域とそうではないイントロン領域の二群に分割する<br>\n",
    "各イントロンの両側n塩基の塩基配列を取得し、学習データとする<br>\n",
    "教師あり学習であるXGBoostアルゴリズムを用いて、この二群のを分離させるような特徴的な塩基配列部位を同定する<br>\n",
    "<br>\n",
    "\n",
    "**略語**<br>\n",
    "HAVSR: highly variable alternatively spliced<br>\n",
    "LAVSR: Lowly variable alternatively spliced<br><br>\n",
    "\n",
    "**注意点:**<br>\n",
    "XGBClassifierのインスタンスおよびtrain_test_split関数のrandom stateを変更すると結果が異なる\n"
   ]
  },
  {
   "cell_type": "markdown",
   "metadata": {},
   "source": [
    "## 準備"
   ]
  },
  {
   "cell_type": "code",
   "execution_count": 1,
   "metadata": {},
   "outputs": [],
   "source": [
    "# オリジナルモジュールのインポート\n",
    "from lib.introngap import PileUp\n",
    "from lib.gbkparse import Seq_count\n",
    "\n",
    "# モジュールのインポート\n",
    "import itertools\n",
    "import logomaker\n",
    "import numpy as np\n",
    "import pandas as pd\n",
    "import matplotlib.pyplot as plt\n",
    "import seaborn as sns\n",
    "import plotly.express as px\n",
    "\n",
    "from sklearn.decomposition import PCA\n",
    "from sklearn.preprocessing import StandardScaler\n",
    "from xgboost import XGBClassifier\n",
    "from sklearn.model_selection import train_test_split\n",
    "\n",
    "import warnings\n",
    "warnings.simplefilter(action='ignore', category=FutureWarning)"
   ]
  },
  {
   "cell_type": "code",
   "execution_count": 2,
   "metadata": {},
   "outputs": [
    {
     "name": "stdout",
     "output_type": "stream",
     "text": [
      "デフォルト値として、最もエクソンの多いNM_001267550.2を設定\n"
     ]
    }
   ],
   "source": [
    "# クラスのインスタンス化\n",
    "gbk = Seq_count()\n",
    "\n",
    "# gbkファイルの読み込み\n",
    "gbk.read_gbk('../data/gbk/human_ttn.gb')"
   ]
  },
  {
   "cell_type": "markdown",
   "metadata": {},
   "source": [
    "# 各イントロンの両端n塩基を抽出し下記の条件でデータを分割する\n",
    "スプライシングを受けやすい領域(highs): intron 120-220<br>\n",
    "スプライシングを受けにくい領域(lows): intron 221-"
   ]
  },
  {
   "cell_type": "markdown",
   "metadata": {},
   "source": [
    "**変数の設定**"
   ]
  },
  {
   "cell_type": "code",
   "execution_count": 3,
   "metadata": {},
   "outputs": [],
   "source": [
    "# 領域の指定\n",
    "high_s, high_e = 120, 220\n",
    "low_s, low_e = 0, 45\n",
    "# low_s, low_e = 50, 90\n",
    "# low_s, low_e = 221, gbk.intron_num()\n",
    "\n",
    "# 各イントロンの両端n塩基を抽出し\n",
    "n = 25\n",
    "\n",
    "# XGBoostに関する変数の設定\n",
    "early_stopping_rounds = 10\n",
    "learning_rate = 0.01\n",
    "max_depth = 8\n",
    "x_random_state = 1\n",
    "s_random_state =  0\n",
    "test_size = 0.2\n"
   ]
  },
  {
   "cell_type": "markdown",
   "metadata": {},
   "source": [
    "**学習データの取得**"
   ]
  },
  {
   "cell_type": "code",
   "execution_count": 4,
   "metadata": {},
   "outputs": [],
   "source": [
    "\n",
    "# 各イントロンの5-prime側のn塩基を抽出 \n",
    "left_edges = []\n",
    "for i in range(gbk.intron_num()):\n",
    "    left_edges.append(str(gbk.intron_seq(i+1)[:n]))\n",
    "\n",
    "# 各イントロンの3-prime側のn塩基を抽出\n",
    "right_edges = []\n",
    "for i in range(gbk.intron_num()):\n",
    "    right_edges.append(str(gbk.intron_seq(i+1)[-n:]))"
   ]
  },
  {
   "cell_type": "markdown",
   "metadata": {},
   "source": [
    "## 各イントロンの5-prime側のn塩基にフォーカスし解析"
   ]
  },
  {
   "cell_type": "code",
   "execution_count": 5,
   "metadata": {},
   "outputs": [],
   "source": [
    "# ラベルに使うイントロンの指定\n",
    "left_edges_high = left_edges[high_s:high_e]\n",
    "left_edges_low = left_edges[low_s:low_e] \n",
    "\n",
    "# ワンホットエンコーディングを行う関数\n",
    "def one_hot_encode(seq):\n",
    "    mapping = {'A': [1, 0, 0, 0], 'T': [0, 1, 0, 0], 'G': [0, 0, 1, 0], 'C': [0, 0, 0, 1]}\n",
    "    return np.array([mapping[s] for s in seq]).flatten()\n",
    "\n",
    "# エンコーディングされた配列を準備\n",
    "encoded_sequences_high_l = np.array([one_hot_encode(seq) for seq in left_edges_high])\n",
    "encoded_sequences_low_l = np.array([one_hot_encode(seq) for seq in left_edges_low])"
   ]
  },
  {
   "cell_type": "code",
   "execution_count": 6,
   "metadata": {},
   "outputs": [
    {
     "data": {
      "text/html": [
       "<style>#sk-container-id-1 {color: black;}#sk-container-id-1 pre{padding: 0;}#sk-container-id-1 div.sk-toggleable {background-color: white;}#sk-container-id-1 label.sk-toggleable__label {cursor: pointer;display: block;width: 100%;margin-bottom: 0;padding: 0.3em;box-sizing: border-box;text-align: center;}#sk-container-id-1 label.sk-toggleable__label-arrow:before {content: \"▸\";float: left;margin-right: 0.25em;color: #696969;}#sk-container-id-1 label.sk-toggleable__label-arrow:hover:before {color: black;}#sk-container-id-1 div.sk-estimator:hover label.sk-toggleable__label-arrow:before {color: black;}#sk-container-id-1 div.sk-toggleable__content {max-height: 0;max-width: 0;overflow: hidden;text-align: left;background-color: #f0f8ff;}#sk-container-id-1 div.sk-toggleable__content pre {margin: 0.2em;color: black;border-radius: 0.25em;background-color: #f0f8ff;}#sk-container-id-1 input.sk-toggleable__control:checked~div.sk-toggleable__content {max-height: 200px;max-width: 100%;overflow: auto;}#sk-container-id-1 input.sk-toggleable__control:checked~label.sk-toggleable__label-arrow:before {content: \"▾\";}#sk-container-id-1 div.sk-estimator input.sk-toggleable__control:checked~label.sk-toggleable__label {background-color: #d4ebff;}#sk-container-id-1 div.sk-label input.sk-toggleable__control:checked~label.sk-toggleable__label {background-color: #d4ebff;}#sk-container-id-1 input.sk-hidden--visually {border: 0;clip: rect(1px 1px 1px 1px);clip: rect(1px, 1px, 1px, 1px);height: 1px;margin: -1px;overflow: hidden;padding: 0;position: absolute;width: 1px;}#sk-container-id-1 div.sk-estimator {font-family: monospace;background-color: #f0f8ff;border: 1px dotted black;border-radius: 0.25em;box-sizing: border-box;margin-bottom: 0.5em;}#sk-container-id-1 div.sk-estimator:hover {background-color: #d4ebff;}#sk-container-id-1 div.sk-parallel-item::after {content: \"\";width: 100%;border-bottom: 1px solid gray;flex-grow: 1;}#sk-container-id-1 div.sk-label:hover label.sk-toggleable__label {background-color: #d4ebff;}#sk-container-id-1 div.sk-serial::before {content: \"\";position: absolute;border-left: 1px solid gray;box-sizing: border-box;top: 0;bottom: 0;left: 50%;z-index: 0;}#sk-container-id-1 div.sk-serial {display: flex;flex-direction: column;align-items: center;background-color: white;padding-right: 0.2em;padding-left: 0.2em;position: relative;}#sk-container-id-1 div.sk-item {position: relative;z-index: 1;}#sk-container-id-1 div.sk-parallel {display: flex;align-items: stretch;justify-content: center;background-color: white;position: relative;}#sk-container-id-1 div.sk-item::before, #sk-container-id-1 div.sk-parallel-item::before {content: \"\";position: absolute;border-left: 1px solid gray;box-sizing: border-box;top: 0;bottom: 0;left: 50%;z-index: -1;}#sk-container-id-1 div.sk-parallel-item {display: flex;flex-direction: column;z-index: 1;position: relative;background-color: white;}#sk-container-id-1 div.sk-parallel-item:first-child::after {align-self: flex-end;width: 50%;}#sk-container-id-1 div.sk-parallel-item:last-child::after {align-self: flex-start;width: 50%;}#sk-container-id-1 div.sk-parallel-item:only-child::after {width: 0;}#sk-container-id-1 div.sk-dashed-wrapped {border: 1px dashed gray;margin: 0 0.4em 0.5em 0.4em;box-sizing: border-box;padding-bottom: 0.4em;background-color: white;}#sk-container-id-1 div.sk-label label {font-family: monospace;font-weight: bold;display: inline-block;line-height: 1.2em;}#sk-container-id-1 div.sk-label-container {text-align: center;}#sk-container-id-1 div.sk-container {/* jupyter's `normalize.less` sets `[hidden] { display: none; }` but bootstrap.min.css set `[hidden] { display: none !important; }` so we also need the `!important` here to be able to override the default hidden behavior on the sphinx rendered scikit-learn.org. See: https://github.com/scikit-learn/scikit-learn/issues/21755 */display: inline-block !important;position: relative;}#sk-container-id-1 div.sk-text-repr-fallback {display: none;}</style><div id=\"sk-container-id-1\" class=\"sk-top-container\"><div class=\"sk-text-repr-fallback\"><pre>XGBClassifier(base_score=None, booster=None, callbacks=None,\n",
       "              colsample_bylevel=None, colsample_bynode=None,\n",
       "              colsample_bytree=None, early_stopping_rounds=10,\n",
       "              enable_categorical=False, eval_metric=None, feature_types=None,\n",
       "              gamma=None, gpu_id=None, grow_policy=None, importance_type=None,\n",
       "              interaction_constraints=None, learning_rate=0.01, max_bin=None,\n",
       "              max_cat_threshold=None, max_cat_to_onehot=None,\n",
       "              max_delta_step=None, max_depth=8, max_leaves=None,\n",
       "              min_child_weight=None, missing=nan, monotone_constraints=None,\n",
       "              n_estimators=100, n_jobs=None, num_parallel_tree=None,\n",
       "              predictor=None, random_state=1, ...)</pre><b>In a Jupyter environment, please rerun this cell to show the HTML representation or trust the notebook. <br />On GitHub, the HTML representation is unable to render, please try loading this page with nbviewer.org.</b></div><div class=\"sk-container\" hidden><div class=\"sk-item\"><div class=\"sk-estimator sk-toggleable\"><input class=\"sk-toggleable__control sk-hidden--visually\" id=\"sk-estimator-id-1\" type=\"checkbox\" checked><label for=\"sk-estimator-id-1\" class=\"sk-toggleable__label sk-toggleable__label-arrow\">XGBClassifier</label><div class=\"sk-toggleable__content\"><pre>XGBClassifier(base_score=None, booster=None, callbacks=None,\n",
       "              colsample_bylevel=None, colsample_bynode=None,\n",
       "              colsample_bytree=None, early_stopping_rounds=10,\n",
       "              enable_categorical=False, eval_metric=None, feature_types=None,\n",
       "              gamma=None, gpu_id=None, grow_policy=None, importance_type=None,\n",
       "              interaction_constraints=None, learning_rate=0.01, max_bin=None,\n",
       "              max_cat_threshold=None, max_cat_to_onehot=None,\n",
       "              max_delta_step=None, max_depth=8, max_leaves=None,\n",
       "              min_child_weight=None, missing=nan, monotone_constraints=None,\n",
       "              n_estimators=100, n_jobs=None, num_parallel_tree=None,\n",
       "              predictor=None, random_state=1, ...)</pre></div></div></div></div></div>"
      ],
      "text/plain": [
       "XGBClassifier(base_score=None, booster=None, callbacks=None,\n",
       "              colsample_bylevel=None, colsample_bynode=None,\n",
       "              colsample_bytree=None, early_stopping_rounds=10,\n",
       "              enable_categorical=False, eval_metric=None, feature_types=None,\n",
       "              gamma=None, gpu_id=None, grow_policy=None, importance_type=None,\n",
       "              interaction_constraints=None, learning_rate=0.01, max_bin=None,\n",
       "              max_cat_threshold=None, max_cat_to_onehot=None,\n",
       "              max_delta_step=None, max_depth=8, max_leaves=None,\n",
       "              min_child_weight=None, missing=nan, monotone_constraints=None,\n",
       "              n_estimators=100, n_jobs=None, num_parallel_tree=None,\n",
       "              predictor=None, random_state=1, ...)"
      ]
     },
     "execution_count": 6,
     "metadata": {},
     "output_type": "execute_result"
    }
   ],
   "source": [
    "# 学習データとしてワンホとエンコーディングされた配列を結合しXとする\n",
    "# ラベルをyとして結合する\n",
    "X = pd.DataFrame(np.concatenate([encoded_sequences_high_l, encoded_sequences_low_l]))\n",
    "y = pd.DataFrame(np.concatenate([np.ones(len(encoded_sequences_high_l)), np.zeros(len(encoded_sequences_low_l))]))\n",
    "\n",
    "# XGBoostのインスタンス化\n",
    "model_l = XGBClassifier(early_stopping_rounds=early_stopping_rounds, learning_rate=learning_rate, max_depth=max_depth, random_state=x_random_state)\n",
    "\n",
    "# データの分割\n",
    "X_train, X_test, y_train, y_test = train_test_split(X, y, test_size=test_size, random_state=s_random_state)\n",
    "\n",
    "# データをモデルにfitさせる\n",
    "eval_set = [(X_test, y_test)]\n",
    "model_l.fit(X_train, y_train, eval_set=eval_set, verbose=False)    "
   ]
  },
  {
   "cell_type": "code",
   "execution_count": 7,
   "metadata": {},
   "outputs": [
    {
     "data": {
      "image/png": "[encoded data removed]",
      "text/plain": [
       "<Figure size 1000x250 with 1 Axes>"
      ]
     },
     "metadata": {},
     "output_type": "display_data"
    }
   ],
   "source": [
    "# logomakerを用いてモチーフを可視化\n",
    "b_df_l = pd.DataFrame(model_l.feature_importances_.reshape(n,4))\n",
    "b_df_l.columns = ['A','T','G','C']\n",
    "crp_logo = logomaker.Logo(b_df_l, shade_below=.5, fade_below=.5)"
   ]
  },
  {
   "cell_type": "code",
   "execution_count": 8,
   "metadata": {},
   "outputs": [
    {
     "name": "stdout",
     "output_type": "stream",
     "text": [
      "high: 0.11\n",
      "low: 0.6444444444444445\n"
     ]
    }
   ],
   "source": [
    "pos = 4\n",
    "base = \"G\"\n",
    "\n",
    "count = 0\n",
    "for i in left_edges_high:\n",
    "    if i[pos] == base:\n",
    "        count += 1\n",
    "print(\"high:\",count/len(left_edges_high))\n",
    "\n",
    "count = 0\n",
    "for i in left_edges_low:\n",
    "    if i[pos] == base:\n",
    "        count += 1\n",
    "print(\"low:\",count/len(left_edges_low))"
   ]
  },
  {
   "cell_type": "markdown",
   "metadata": {},
   "source": [
    "## 各イントロンの3-prime側のn塩基にフォーカスし解析"
   ]
  },
  {
   "cell_type": "code",
   "execution_count": 9,
   "metadata": {},
   "outputs": [],
   "source": [
    "# ラベルに使うイントロンの指定\n",
    "right_edges_high = right_edges[high_s:high_e]\n",
    "right_edges_low = right_edges[low_s:low_e] \n",
    "\n",
    "# ワンホットエンコーディングを行う関数\n",
    "def one_hot_encode(seq):\n",
    "    mapping = {'A': [1, 0, 0, 0], 'T': [0, 1, 0, 0], 'G': [0, 0, 1, 0], 'C': [0, 0, 0, 1]}\n",
    "    return np.array([mapping[s] for s in seq]).flatten()\n",
    "\n",
    "# エンコーディングされた配列を準備\n",
    "encoded_sequences_high_r = np.array([one_hot_encode(seq) for seq in right_edges_high])\n",
    "encoded_sequences_low_r = np.array([one_hot_encode(seq) for seq in right_edges_low])"
   ]
  },
  {
   "cell_type": "code",
   "execution_count": 10,
   "metadata": {},
   "outputs": [
    {
     "data": {
      "text/html": [
       "<style>#sk-container-id-2 {color: black;}#sk-container-id-2 pre{padding: 0;}#sk-container-id-2 div.sk-toggleable {background-color: white;}#sk-container-id-2 label.sk-toggleable__label {cursor: pointer;display: block;width: 100%;margin-bottom: 0;padding: 0.3em;box-sizing: border-box;text-align: center;}#sk-container-id-2 label.sk-toggleable__label-arrow:before {content: \"▸\";float: left;margin-right: 0.25em;color: #696969;}#sk-container-id-2 label.sk-toggleable__label-arrow:hover:before {color: black;}#sk-container-id-2 div.sk-estimator:hover label.sk-toggleable__label-arrow:before {color: black;}#sk-container-id-2 div.sk-toggleable__content {max-height: 0;max-width: 0;overflow: hidden;text-align: left;background-color: #f0f8ff;}#sk-container-id-2 div.sk-toggleable__content pre {margin: 0.2em;color: black;border-radius: 0.25em;background-color: #f0f8ff;}#sk-container-id-2 input.sk-toggleable__control:checked~div.sk-toggleable__content {max-height: 200px;max-width: 100%;overflow: auto;}#sk-container-id-2 input.sk-toggleable__control:checked~label.sk-toggleable__label-arrow:before {content: \"▾\";}#sk-container-id-2 div.sk-estimator input.sk-toggleable__control:checked~label.sk-toggleable__label {background-color: #d4ebff;}#sk-container-id-2 div.sk-label input.sk-toggleable__control:checked~label.sk-toggleable__label {background-color: #d4ebff;}#sk-container-id-2 input.sk-hidden--visually {border: 0;clip: rect(1px 1px 1px 1px);clip: rect(1px, 1px, 1px, 1px);height: 1px;margin: -1px;overflow: hidden;padding: 0;position: absolute;width: 1px;}#sk-container-id-2 div.sk-estimator {font-family: monospace;background-color: #f0f8ff;border: 1px dotted black;border-radius: 0.25em;box-sizing: border-box;margin-bottom: 0.5em;}#sk-container-id-2 div.sk-estimator:hover {background-color: #d4ebff;}#sk-container-id-2 div.sk-parallel-item::after {content: \"\";width: 100%;border-bottom: 1px solid gray;flex-grow: 1;}#sk-container-id-2 div.sk-label:hover label.sk-toggleable__label {background-color: #d4ebff;}#sk-container-id-2 div.sk-serial::before {content: \"\";position: absolute;border-left: 1px solid gray;box-sizing: border-box;top: 0;bottom: 0;left: 50%;z-index: 0;}#sk-container-id-2 div.sk-serial {display: flex;flex-direction: column;align-items: center;background-color: white;padding-right: 0.2em;padding-left: 0.2em;position: relative;}#sk-container-id-2 div.sk-item {position: relative;z-index: 1;}#sk-container-id-2 div.sk-parallel {display: flex;align-items: stretch;justify-content: center;background-color: white;position: relative;}#sk-container-id-2 div.sk-item::before, #sk-container-id-2 div.sk-parallel-item::before {content: \"\";position: absolute;border-left: 1px solid gray;box-sizing: border-box;top: 0;bottom: 0;left: 50%;z-index: -1;}#sk-container-id-2 div.sk-parallel-item {display: flex;flex-direction: column;z-index: 1;position: relative;background-color: white;}#sk-container-id-2 div.sk-parallel-item:first-child::after {align-self: flex-end;width: 50%;}#sk-container-id-2 div.sk-parallel-item:last-child::after {align-self: flex-start;width: 50%;}#sk-container-id-2 div.sk-parallel-item:only-child::after {width: 0;}#sk-container-id-2 div.sk-dashed-wrapped {border: 1px dashed gray;margin: 0 0.4em 0.5em 0.4em;box-sizing: border-box;padding-bottom: 0.4em;background-color: white;}#sk-container-id-2 div.sk-label label {font-family: monospace;font-weight: bold;display: inline-block;line-height: 1.2em;}#sk-container-id-2 div.sk-label-container {text-align: center;}#sk-container-id-2 div.sk-container {/* jupyter's `normalize.less` sets `[hidden] { display: none; }` but bootstrap.min.css set `[hidden] { display: none !important; }` so we also need the `!important` here to be able to override the default hidden behavior on the sphinx rendered scikit-learn.org. See: https://github.com/scikit-learn/scikit-learn/issues/21755 */display: inline-block !important;position: relative;}#sk-container-id-2 div.sk-text-repr-fallback {display: none;}</style><div id=\"sk-container-id-2\" class=\"sk-top-container\"><div class=\"sk-text-repr-fallback\"><pre>XGBClassifier(base_score=None, booster=None, callbacks=None,\n",
       "              colsample_bylevel=None, colsample_bynode=None,\n",
       "              colsample_bytree=None, early_stopping_rounds=10,\n",
       "              enable_categorical=False, eval_metric=None, feature_types=None,\n",
       "              gamma=None, gpu_id=None, grow_policy=None, importance_type=None,\n",
       "              interaction_constraints=None, learning_rate=0.01, max_bin=None,\n",
       "              max_cat_threshold=None, max_cat_to_onehot=None,\n",
       "              max_delta_step=None, max_depth=8, max_leaves=None,\n",
       "              min_child_weight=None, missing=nan, monotone_constraints=None,\n",
       "              n_estimators=100, n_jobs=None, num_parallel_tree=None,\n",
       "              predictor=None, random_state=1, ...)</pre><b>In a Jupyter environment, please rerun this cell to show the HTML representation or trust the notebook. <br />On GitHub, the HTML representation is unable to render, please try loading this page with nbviewer.org.</b></div><div class=\"sk-container\" hidden><div class=\"sk-item\"><div class=\"sk-estimator sk-toggleable\"><input class=\"sk-toggleable__control sk-hidden--visually\" id=\"sk-estimator-id-2\" type=\"checkbox\" checked><label for=\"sk-estimator-id-2\" class=\"sk-toggleable__label sk-toggleable__label-arrow\">XGBClassifier</label><div class=\"sk-toggleable__content\"><pre>XGBClassifier(base_score=None, booster=None, callbacks=None,\n",
       "              colsample_bylevel=None, colsample_bynode=None,\n",
       "              colsample_bytree=None, early_stopping_rounds=10,\n",
       "              enable_categorical=False, eval_metric=None, feature_types=None,\n",
       "              gamma=None, gpu_id=None, grow_policy=None, importance_type=None,\n",
       "              interaction_constraints=None, learning_rate=0.01, max_bin=None,\n",
       "              max_cat_threshold=None, max_cat_to_onehot=None,\n",
       "              max_delta_step=None, max_depth=8, max_leaves=None,\n",
       "              min_child_weight=None, missing=nan, monotone_constraints=None,\n",
       "              n_estimators=100, n_jobs=None, num_parallel_tree=None,\n",
       "              predictor=None, random_state=1, ...)</pre></div></div></div></div></div>"
      ],
      "text/plain": [
       "XGBClassifier(base_score=None, booster=None, callbacks=None,\n",
       "              colsample_bylevel=None, colsample_bynode=None,\n",
       "              colsample_bytree=None, early_stopping_rounds=10,\n",
       "              enable_categorical=False, eval_metric=None, feature_types=None,\n",
       "              gamma=None, gpu_id=None, grow_policy=None, importance_type=None,\n",
       "              interaction_constraints=None, learning_rate=0.01, max_bin=None,\n",
       "              max_cat_threshold=None, max_cat_to_onehot=None,\n",
       "              max_delta_step=None, max_depth=8, max_leaves=None,\n",
       "              min_child_weight=None, missing=nan, monotone_constraints=None,\n",
       "              n_estimators=100, n_jobs=None, num_parallel_tree=None,\n",
       "              predictor=None, random_state=1, ...)"
      ]
     },
     "execution_count": 10,
     "metadata": {},
     "output_type": "execute_result"
    }
   ],
   "source": [
    "# 学習データとしてワンホとエンコーディングされた配列を結合しXとする\n",
    "# ラベルをyとして結合する\n",
    "X = pd.DataFrame(np.concatenate([encoded_sequences_high_r, encoded_sequences_low_r]))\n",
    "y = pd.DataFrame(np.concatenate([np.ones(len(encoded_sequences_high_r)), np.zeros(len(encoded_sequences_low_r))]))\n",
    "\n",
    "# XGBoostのインスタンス化\n",
    "model_r = XGBClassifier(early_stopping_rounds=early_stopping_rounds, learning_rate=learning_rate, max_depth=max_depth, random_state=x_random_state)\n",
    "\n",
    "# データの分割\n",
    "X_train, X_test, y_train, y_test = train_test_split(X, y, test_size=test_size, random_state=s_random_state)\n",
    "\n",
    "# データをモデルにfitさせる\n",
    "eval_set = [(X_test, y_test)]\n",
    "model_r.fit(X_train, y_train, eval_set=eval_set, verbose=False)    "
   ]
  },
  {
   "cell_type": "code",
   "execution_count": 11,
   "metadata": {},
   "outputs": [
    {
     "data": {
      "image/png": "[encoded data removed]",
      "text/plain": [
       "<Figure size 1000x250 with 1 Axes>"
      ]
     },
     "metadata": {},
     "output_type": "display_data"
    }
   ],
   "source": [
    "# logomakerを用いてモチーフを可視化\n",
    "b_df_r = pd.DataFrame(model_r.feature_importances_.reshape(n,4))\n",
    "b_df_r.columns = ['A','T','G','C']\n",
    "crp_logo = logomaker.Logo(b_df_r, shade_below=.5, fade_below=.5)"
   ]
  },
  {
   "cell_type": "code",
   "execution_count": 12,
   "metadata": {},
   "outputs": [
    {
     "name": "stdout",
     "output_type": "stream",
     "text": [
      "high: 0.96\n",
      "low: 0.06666666666666667\n"
     ]
    }
   ],
   "source": [
    "pos = -3\n",
    "base = \"A\"\n",
    "\n",
    "count = 0\n",
    "for i in right_edges_high:\n",
    "    # print(i)\n",
    "    if i[pos] == base:\n",
    "        count += 1\n",
    "print(\"high:\", count/len(right_edges_high))\n",
    "\n",
    "count = 0\n",
    "for i in right_edges_low:\n",
    "    # print(i)\n",
    "    if i[pos] == base:\n",
    "        count += 1\n",
    "print(\"low:\", count/len(right_edges_low))"
   ]
  },
  {
   "cell_type": "markdown",
   "metadata": {},
   "source": [
    "## HVASとLVAS領域のイントロン両端の塩基配列のパターンを可視化"
   ]
  },
  {
   "cell_type": "code",
   "execution_count": 13,
   "metadata": {},
   "outputs": [
    {
     "ename": "NameError",
     "evalue": "name 'vmin' is not defined",
     "output_type": "error",
     "traceback": [
      "\u001b[0;31m---------------------------------------------------------------------------\u001b[0m",
      "\u001b[0;31mNameError\u001b[0m                                 Traceback (most recent call last)",
      "\u001b[1;32m/home/du/GitHub/bio_chem/ttn_splicing/analysis/xgboost_motif.ipynb セル 21\u001b[0m line \u001b[0;36m6\n\u001b[1;32m      <a href='vscode-notebook-cell://ssh-remote%2Bx1/home/du/GitHub/bio_chem/ttn_splicing/analysis/xgboost_motif.ipynb#X26sdnNjb2RlLXJlbW90ZQ%3D%3D?line=3'>4</a>\u001b[0m \u001b[39m# 最初のヒートマップ\u001b[39;00m\n\u001b[1;32m      <a href='vscode-notebook-cell://ssh-remote%2Bx1/home/du/GitHub/bio_chem/ttn_splicing/analysis/xgboost_motif.ipynb#X26sdnNjb2RlLXJlbW90ZQ%3D%3D?line=4'>5</a>\u001b[0m l_df \u001b[39m=\u001b[39m pd\u001b[39m.\u001b[39mDataFrame([\u001b[39mlist\u001b[39m(i) \u001b[39mfor\u001b[39;00m i \u001b[39min\u001b[39;00m left_edges_high])\n\u001b[0;32m----> <a href='vscode-notebook-cell://ssh-remote%2Bx1/home/du/GitHub/bio_chem/ttn_splicing/analysis/xgboost_motif.ipynb#X26sdnNjb2RlLXJlbW90ZQ%3D%3D?line=5'>6</a>\u001b[0m sns\u001b[39m.\u001b[39mheatmap(l_df\u001b[39m.\u001b[39mapply(pd\u001b[39m.\u001b[39mSeries\u001b[39m.\u001b[39mvalue_counts)\u001b[39m.\u001b[39mfillna(\u001b[39m0\u001b[39m)\u001b[39m.\u001b[39mastype(\u001b[39mint\u001b[39m)\u001b[39m/\u001b[39m\u001b[39mlen\u001b[39m(left_edges_high), ax\u001b[39m=\u001b[39max1, cmap\u001b[39m=\u001b[39m\u001b[39m\"\u001b[39m\u001b[39mviridis\u001b[39m\u001b[39m\"\u001b[39m, vmin\u001b[39m=\u001b[39mvmin, vmax\u001b[39m=\u001b[39mvmax, cbar\u001b[39m=\u001b[39m\u001b[39mFalse\u001b[39;00m)\n\u001b[1;32m      <a href='vscode-notebook-cell://ssh-remote%2Bx1/home/du/GitHub/bio_chem/ttn_splicing/analysis/xgboost_motif.ipynb#X26sdnNjb2RlLXJlbW90ZQ%3D%3D?line=6'>7</a>\u001b[0m ax1\u001b[39m.\u001b[39mset_title(\u001b[39m\"\u001b[39m\u001b[39mLeft edge of introns in HVAS regions\u001b[39m\u001b[39m\"\u001b[39m)\n\u001b[1;32m      <a href='vscode-notebook-cell://ssh-remote%2Bx1/home/du/GitHub/bio_chem/ttn_splicing/analysis/xgboost_motif.ipynb#X26sdnNjb2RlLXJlbW90ZQ%3D%3D?line=8'>9</a>\u001b[0m \u001b[39m# 2つ目のヒートマップ\u001b[39;00m\n",
      "\u001b[0;31mNameError\u001b[0m: name 'vmin' is not defined"
     ]
    },
    {
     "data": {
      "image/png": "[encoded data removed]",
      "text/plain": [
       "<Figure size 1200x200 with 2 Axes>"
      ]
     },
     "metadata": {},
     "output_type": "display_data"
    }
   ],
   "source": [
    "# ヒートマップの描画\n",
    "fig, (ax1, ax2) = plt.subplots(ncols=2, figsize=(12, 2))\n",
    "\n",
    "# 最初のヒートマップ\n",
    "l_df = pd.DataFrame([list(i) for i in left_edges_high])\n",
    "sns.heatmap(l_df.apply(pd.Series.value_counts).fillna(0).astype(int)/len(left_edges_high), ax=ax1, cmap=\"viridis\", vmin=vmin, vmax=vmax, cbar=False)\n",
    "ax1.set_title(\"Left edge of introns in HVAS regions\")\n",
    "\n",
    "# 2つ目のヒートマップ\n",
    "r_df = pd.DataFrame([list(i) for i in right_edges_high])\n",
    "cax = fig.add_axes([0.92, 0.12, 0.02, 0.76])  # カラーバーの位置とサイズを調整\n",
    "sns.heatmap(r_df.apply(pd.Series.value_counts).fillna(0).astype(int)/len(right_edges_high), ax=ax2, cmap=\"viridis\",vmin=vmin, vmax=vmax, cbar_ax=cax)\n",
    "ax2.set_title(\"Right edge of introns in HVAS regions\")\n",
    "\n",
    "# Figureの表示\n",
    "fig.show()\n",
    "\n",
    "# ヒートマップの描画\n",
    "fig, (ax1, ax2) = plt.subplots(ncols=2, figsize=(12, 2))\n",
    "\n",
    "# 最初のヒートマップ\n",
    "l_df = pd.DataFrame([list(i) for i in left_edges_low])\n",
    "sns.heatmap(l_df.apply(pd.Series.value_counts).fillna(0).astype(int)/len(left_edges_low), ax=ax1, cmap=\"viridis\", vmin=vmin, vmax=vmax, cbar=False)\n",
    "ax1.set_title(\"Left edge of introns in LVAS regions\")\n",
    "\n",
    "# 2つ目のヒートマップ\n",
    "r_df = pd.DataFrame([list(i) for i in right_edges_low])\n",
    "cax = fig.add_axes([0.92, 0.12, 0.02, 0.76])  # カラーバーの位置とサイズを調整\n",
    "sns.heatmap(r_df.apply(pd.Series.value_counts).fillna(0).astype(int)/len(right_edges_low), ax=ax2, cmap=\"viridis\", vmin=vmin, vmax=vmax, cbar_ax=cax)\n",
    "ax2.set_title(\"Right edge of introns in LVAS regions\")\n",
    "\n",
    "# Figureの表示\n",
    "fig.show()"
   ]
  },
  {
   "cell_type": "code",
   "execution_count": null,
   "metadata": {},
   "outputs": [],
   "source": [
    "l_df = pd.DataFrame([list(i) for i in left_edges_high])\n",
    "l_df"
   ]
  },
  {
   "cell_type": "code",
   "execution_count": null,
   "metadata": {},
   "outputs": [],
   "source": []
  }
 ],
 "metadata": {
  "kernelspec": {
   "display_name": "bio",
   "language": "python",
   "name": "python3"
  },
  "language_info": {
   "codemirror_mode": {
    "name": "ipython",
    "version": 3
   },
   "file_extension": ".py",
   "mimetype": "text/x-python",
   "name": "python",
   "nbconvert_exporter": "python",
   "pygments_lexer": "ipython3",
   "version": "3.10.13"
  }
 },
 "nbformat": 4,
 "nbformat_minor": 2
}
