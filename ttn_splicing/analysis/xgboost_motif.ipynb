{
 "cells": [
  {
   "cell_type": "markdown",
   "metadata": {},
   "source": [
    "# xgboostを用いて、スプライスされやすい領域とそうでない領域の配列の学習を行う\n",
    "\n",
    "**目的:**<br>\n",
    "スプライシングを受けやすいイントロン領域とそうではないイントロン領域の二群に分割する<br>\n",
    "各イントロンの両側n塩基の塩基配列を取得し、学習データとする<br>\n",
    "教師あり学習であるXGBoostアルゴリズムを用いて、この二群のを分離させるような特徴的な塩基配列部位を同定する<br>\n",
    "<br>\n",
    "\n",
    "**略語**<br>\n",
    "HAVSR: highly variable alternatively spliced<br>\n",
    "LAVSR: Lowly variable alternatively spliced<br><br>\n",
    "\n",
    "**注意点:**<br>\n",
    "XGBClassifierのインスタンスおよびtrain_test_split関数のrandom stateを変更すると結果が異なる\n"
   ]
  },
  {
   "cell_type": "markdown",
   "metadata": {},
   "source": [
    "## 準備"
   ]
  },
  {
   "cell_type": "code",
   "execution_count": null,
   "metadata": {},
   "outputs": [],
   "source": [
    "# オリジナルモジュールのインポート\n",
    "from lib.introngap import PileUp\n",
    "from lib.gbkparse import Seq_count\n",
    "\n",
    "# モジュールのインポート\n",
    "import itertools\n",
    "import logomaker\n",
    "import numpy as np\n",
    "import pandas as pd\n",
    "import matplotlib.pyplot as plt\n",
    "import seaborn as sns\n",
    "import plotly.express as px\n",
    "\n",
    "from sklearn.decomposition import PCA\n",
    "from sklearn.preprocessing import StandardScaler\n",
    "from xgboost import XGBClassifier\n",
    "from sklearn.model_selection import train_test_split\n",
    "\n",
    "import warnings\n",
    "warnings.simplefilter(action='ignore', category=FutureWarning)"
   ]
  },
  {
   "cell_type": "code",
   "execution_count": null,
   "metadata": {},
   "outputs": [],
   "source": [
    "# クラスのインスタンス化\n",
    "gbk = Seq_count()\n",
    "\n",
    "# gbkファイルの読み込み\n",
    "gbk.read_gbk('../data/gbk/human_ttn.gb')"
   ]
  },
  {
   "cell_type": "markdown",
   "metadata": {},
   "source": [
    "# 各イントロンの両端n塩基を抽出し下記の条件でデータを分割する\n",
    "スプライシングを受けやすい領域(highs): intron 120-220<br>\n",
    "スプライシングを受けにくい領域(lows): intron 221-"
   ]
  },
  {
   "cell_type": "markdown",
   "metadata": {},
   "source": [
    "**変数の設定**"
   ]
  },
  {
   "cell_type": "code",
   "execution_count": null,
   "metadata": {},
   "outputs": [],
   "source": [
    "# 領域の指定\n",
    "high_s, high_e = 120, 220\n",
    "low_s, low_e = 0, 45\n",
    "# low_s, low_e = 50, 90\n",
    "# low_s, low_e = 221, gbk.intron_num()\n",
    "\n",
    "# 各イントロンの両端n塩基を抽出し\n",
    "n = 25\n",
    "\n",
    "# XGBoostに関する変数の設定\n",
    "early_stopping_rounds = 10\n",
    "learning_rate = 0.01\n",
    "max_depth = 8\n",
    "x_random_state = 1\n",
    "s_random_state =  0\n",
    "test_size = 0.2\n"
   ]
  },
  {
   "cell_type": "markdown",
   "metadata": {},
   "source": [
    "**学習データの取得**"
   ]
  },
  {
   "cell_type": "code",
   "execution_count": null,
   "metadata": {},
   "outputs": [],
   "source": [
    "\n",
    "# 各イントロンの5-prime側のn塩基を抽出 \n",
    "left_edges = []\n",
    "for i in range(gbk.intron_num()):\n",
    "    left_edges.append(str(gbk.intron_seq(i+1)[:n]))\n",
    "\n",
    "# 各イントロンの3-prime側のn塩基を抽出\n",
    "right_edges = []\n",
    "for i in range(gbk.intron_num()):\n",
    "    right_edges.append(str(gbk.intron_seq(i+1)[-n:]))"
   ]
  },
  {
   "cell_type": "markdown",
   "metadata": {},
   "source": [
    "## 各イントロンの5-prime側のn塩基にフォーカスし解析"
   ]
  },
  {
   "cell_type": "code",
   "execution_count": null,
   "metadata": {},
   "outputs": [],
   "source": [
    "# ラベルに使うイントロンの指定\n",
    "left_edges_high = left_edges[high_s:high_e]\n",
    "left_edges_low = left_edges[low_s:low_e] \n",
    "\n",
    "# ワンホットエンコーディングを行う関数\n",
    "def one_hot_encode(seq):\n",
    "    mapping = {'A': [1, 0, 0, 0], 'T': [0, 1, 0, 0], 'G': [0, 0, 1, 0], 'C': [0, 0, 0, 1]}\n",
    "    return np.array([mapping[s] for s in seq]).flatten()\n",
    "\n",
    "# エンコーディングされた配列を準備\n",
    "encoded_sequences_high_l = np.array([one_hot_encode(seq) for seq in left_edges_high])\n",
    "encoded_sequences_low_l = np.array([one_hot_encode(seq) for seq in left_edges_low])"
   ]
  },
  {
   "cell_type": "code",
   "execution_count": null,
   "metadata": {},
   "outputs": [],
   "source": [
    "# 学習データとしてワンホとエンコーディングされた配列を結合しXとする\n",
    "# ラベルをyとして結合する\n",
    "X = pd.DataFrame(np.concatenate([encoded_sequences_high_l, encoded_sequences_low_l]))\n",
    "y = pd.DataFrame(np.concatenate([np.ones(len(encoded_sequences_high_l)), np.zeros(len(encoded_sequences_low_l))]))\n",
    "\n",
    "# XGBoostのインスタンス化\n",
    "model_l = XGBClassifier(early_stopping_rounds=early_stopping_rounds, learning_rate=learning_rate, max_depth=max_depth, random_state=x_random_state)\n",
    "\n",
    "# データの分割\n",
    "X_train, X_test, y_train, y_test = train_test_split(X, y, test_size=test_size, random_state=s_random_state)\n",
    "\n",
    "# データをモデルにfitさせる\n",
    "eval_set = [(X_test, y_test)]\n",
    "model_l.fit(X_train, y_train, eval_set=eval_set, verbose=False)    "
   ]
  },
  {
   "cell_type": "code",
   "execution_count": null,
   "metadata": {},
   "outputs": [],
   "source": [
    "# logomakerを用いてモチーフを可視化\n",
    "b_df_l = pd.DataFrame(model_l.feature_importances_.reshape(n,4))\n",
    "b_df_l.columns = ['A','T','G','C']\n",
    "crp_logo = logomaker.Logo(b_df_l, shade_below=.5, fade_below=.5)"
   ]
  },
  {
   "cell_type": "code",
   "execution_count": null,
   "metadata": {},
   "outputs": [],
   "source": [
    "pos = 4\n",
    "base = \"G\"\n",
    "\n",
    "count = 0\n",
    "for i in left_edges_high:\n",
    "    if i[pos] == base:\n",
    "        count += 1\n",
    "print(\"high:\",count/len(left_edges_high))\n",
    "\n",
    "count = 0\n",
    "for i in left_edges_low:\n",
    "    if i[pos] == base:\n",
    "        count += 1\n",
    "print(\"low:\",count/len(left_edges_low))"
   ]
  },
  {
   "cell_type": "markdown",
   "metadata": {},
   "source": [
    "## 各イントロンの3-prime側のn塩基にフォーカスし解析"
   ]
  },
  {
   "cell_type": "code",
   "execution_count": null,
   "metadata": {},
   "outputs": [],
   "source": [
    "# ラベルに使うイントロンの指定\n",
    "right_edges_high = right_edges[high_s:high_e]\n",
    "right_edges_low = right_edges[low_s:low_e] \n",
    "\n",
    "# ワンホットエンコーディングを行う関数\n",
    "def one_hot_encode(seq):\n",
    "    mapping = {'A': [1, 0, 0, 0], 'T': [0, 1, 0, 0], 'G': [0, 0, 1, 0], 'C': [0, 0, 0, 1]}\n",
    "    return np.array([mapping[s] for s in seq]).flatten()\n",
    "\n",
    "# エンコーディングされた配列を準備\n",
    "encoded_sequences_high_r = np.array([one_hot_encode(seq) for seq in right_edges_high])\n",
    "encoded_sequences_low_r = np.array([one_hot_encode(seq) for seq in right_edges_low])"
   ]
  },
  {
   "cell_type": "code",
   "execution_count": null,
   "metadata": {},
   "outputs": [],
   "source": [
    "# 学習データとしてワンホとエンコーディングされた配列を結合しXとする\n",
    "# ラベルをyとして結合する\n",
    "X = pd.DataFrame(np.concatenate([encoded_sequences_high_r, encoded_sequences_low_r]))\n",
    "y = pd.DataFrame(np.concatenate([np.ones(len(encoded_sequences_high_r)), np.zeros(len(encoded_sequences_low_r))]))\n",
    "\n",
    "# XGBoostのインスタンス化\n",
    "model_r = XGBClassifier(early_stopping_rounds=early_stopping_rounds, learning_rate=learning_rate, max_depth=max_depth, random_state=x_random_state)\n",
    "\n",
    "# データの分割\n",
    "X_train, X_test, y_train, y_test = train_test_split(X, y, test_size=test_size, random_state=s_random_state)\n",
    "\n",
    "# データをモデルにfitさせる\n",
    "eval_set = [(X_test, y_test)]\n",
    "model_r.fit(X_train, y_train, eval_set=eval_set, verbose=False)    "
   ]
  },
  {
   "cell_type": "code",
   "execution_count": null,
   "metadata": {},
   "outputs": [],
   "source": [
    "# logomakerを用いてモチーフを可視化\n",
    "b_df_r = pd.DataFrame(model_r.feature_importances_.reshape(n,4))\n",
    "b_df_r.columns = ['A','T','G','C']\n",
    "crp_logo = logomaker.Logo(b_df_r, shade_below=.5, fade_below=.5)"
   ]
  },
  {
   "cell_type": "code",
   "execution_count": null,
   "metadata": {},
   "outputs": [],
   "source": [
    "pos = -3\n",
    "base = \"A\"\n",
    "\n",
    "count = 0\n",
    "for i in right_edges_high:\n",
    "    # print(i)\n",
    "    if i[pos] == base:\n",
    "        count += 1\n",
    "print(\"high:\", count/len(right_edges_high))\n",
    "\n",
    "count = 0\n",
    "for i in right_edges_low:\n",
    "    # print(i)\n",
    "    if i[pos] == base:\n",
    "        count += 1\n",
    "print(\"low:\", count/len(right_edges_low))"
   ]
  },
  {
   "cell_type": "markdown",
   "metadata": {},
   "source": [
    "## HVASとLVAS領域のイントロン両端の塩基配列のパターンを可視化\n",
    "それぞれの領域に含まれるイントロンの両端を揃え、塩基の出現頻度をヒートマップ化"
   ]
  },
  {
   "cell_type": "code",
   "execution_count": null,
   "metadata": {},
   "outputs": [],
   "source": [
    "vmin, vmax = 0, 1\n",
    "\n",
    "# ヒートマップの描画\n",
    "fig, (ax1, ax2) = plt.subplots(ncols=2, figsize=(12, 2))\n",
    "\n",
    "# 最初のヒートマップ\n",
    "l_df = pd.DataFrame([list(i) for i in left_edges_high])\n",
    "sns.heatmap(l_df.apply(pd.Series.value_counts).fillna(0).astype(int)/len(left_edges_high), ax=ax1, cmap=\"viridis\", vmin=vmin, vmax=vmax, cbar=False)\n",
    "ax1.set_title(\"Left edge of introns in HVAS regions\")\n",
    "\n",
    "# 2つ目のヒートマップ\n",
    "r_df = pd.DataFrame([list(i) for i in right_edges_high])\n",
    "cax = fig.add_axes([0.92, 0.12, 0.02, 0.76])  # カラーバーの位置とサイズを調整\n",
    "sns.heatmap(r_df.apply(pd.Series.value_counts).fillna(0).astype(int)/len(right_edges_high), ax=ax2, cmap=\"viridis\",vmin=vmin, vmax=vmax, cbar_ax=cax)\n",
    "ax2.set_title(\"Right edge of introns in HVAS regions\")\n",
    "\n",
    "# Figureの表示\n",
    "fig.show()\n",
    "\n",
    "# ヒートマップの描画\n",
    "fig, (ax1, ax2) = plt.subplots(ncols=2, figsize=(12, 2))\n",
    "\n",
    "# 最初のヒートマップ\n",
    "l_df = pd.DataFrame([list(i) for i in left_edges_low])\n",
    "sns.heatmap(l_df.apply(pd.Series.value_counts).fillna(0).astype(int)/len(left_edges_low), ax=ax1, cmap=\"viridis\", vmin=vmin, vmax=vmax, cbar=False)\n",
    "ax1.set_title(\"Left edge of introns in LVAS regions\")\n",
    "\n",
    "# 2つ目のヒートマップ\n",
    "r_df = pd.DataFrame([list(i) for i in right_edges_low])\n",
    "cax = fig.add_axes([0.92, 0.12, 0.02, 0.76])  # カラーバーの位置とサイズを調整\n",
    "sns.heatmap(r_df.apply(pd.Series.value_counts).fillna(0).astype(int)/len(right_edges_low), ax=ax2, cmap=\"viridis\", vmin=vmin, vmax=vmax, cbar_ax=cax)\n",
    "ax2.set_title(\"Right edge of introns in LVAS regions\")\n",
    "\n",
    "# Figureの表示\n",
    "fig.show()"
   ]
  },
  {
   "cell_type": "code",
   "execution_count": null,
   "metadata": {},
   "outputs": [],
   "source": []
  }
 ],
 "metadata": {
  "kernelspec": {
   "display_name": "bio",
   "language": "python",
   "name": "python3"
  },
  "language_info": {
   "codemirror_mode": {
    "name": "ipython",
    "version": 3
   },
   "file_extension": ".py",
   "mimetype": "text/x-python",
   "name": "python",
   "nbconvert_exporter": "python",
   "pygments_lexer": "ipython3",
   "version": "3.10.13"
  }
 },
 "nbformat": 4,
 "nbformat_minor": 2
}
