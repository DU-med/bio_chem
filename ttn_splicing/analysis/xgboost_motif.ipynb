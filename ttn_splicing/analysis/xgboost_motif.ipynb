{
 "cells": [
  {
   "cell_type": "markdown",
   "metadata": {},
   "source": [
    "# xgboostを用いて、スプライスされやすい領域とそうでない領域の配列の学習を行う"
   ]
  },
  {
   "cell_type": "markdown",
   "metadata": {},
   "source": [
    "## 準備"
   ]
  },
  {
   "cell_type": "code",
   "execution_count": 99,
   "metadata": {},
   "outputs": [],
   "source": [
    "# オリジナルモジュールのインポート\n",
    "from lib.introngap import PileUp\n",
    "from lib.gbkparse import Seq_count\n",
    "\n",
    "# モジュールのインポート\n",
    "import itertools\n",
    "import logomaker\n",
    "import numpy as np\n",
    "import pandas as pd\n",
    "import matplotlib.pyplot as plt\n",
    "import seaborn as sns\n",
    "import plotly.express as px\n",
    "\n",
    "from sklearn.decomposition import PCA\n",
    "from sklearn.preprocessing import StandardScaler\n",
    "from xgboost import XGBClassifier\n",
    "from sklearn.model_selection import train_test_split\n",
    "\n",
    "import warnings\n",
    "warnings.simplefilter(action='ignore', category=FutureWarning)"
   ]
  },
  {
   "cell_type": "code",
   "execution_count": 100,
   "metadata": {},
   "outputs": [
    {
     "name": "stdout",
     "output_type": "stream",
     "text": [
      "デフォルト値として、最もエクソンの多いNM_001267550.2を設定\n"
     ]
    }
   ],
   "source": [
    "# クラスのインスタンス化\n",
    "gbk = Seq_count()\n",
    "\n",
    "# gbkファイルの読み込み\n",
    "gbk.read_gbk('../data/gbk/human_ttn.gb')"
   ]
  },
  {
   "cell_type": "markdown",
   "metadata": {},
   "source": [
    "# 各イントロンの両端n塩基を抽出し下記の条件でデータを分割する\n",
    "スプライシングを受けやすい領域(highs): intron 120-220<br>\n",
    "スプライシングを受けにくい領域(lows): intron 221-"
   ]
  },
  {
   "cell_type": "markdown",
   "metadata": {},
   "source": [
    "## 各イントロンの5-prime側のn塩基にフォーカスし解析"
   ]
  },
  {
   "cell_type": "code",
   "execution_count": 101,
   "metadata": {},
   "outputs": [],
   "source": [
    "# 各イントロンの両端n塩基を抽出し\n",
    "n = 30\n",
    "\n",
    "# 各イントロンの5-prime側のn塩基を抽出 \n",
    "left_edges = []\n",
    "for i in range(gbk.intron_num()):\n",
    "    left_edges.append(str(gbk.intron_seq(i+1)[:n]))"
   ]
  },
  {
   "cell_type": "code",
   "execution_count": 102,
   "metadata": {},
   "outputs": [],
   "source": [
    "# 領域の切り出し\n",
    "high_s, high_e = 120, 220\n",
    "low_s, low_e = 0, 45\n",
    "# low_s, low_e = 220, gbk.intron_num()\n",
    "left_edges_high = left_edges[high_s:high_e]\n",
    "left_edge_low = left_edges[low_s:low_e] \n",
    "\n",
    "# ワンホットエンコーディングを行う関数\n",
    "def one_hot_encode(seq):\n",
    "    mapping = {'A': [1, 0, 0, 0], 'T': [0, 1, 0, 0], 'G': [0, 0, 1, 0], 'C': [0, 0, 0, 1]}\n",
    "    return np.array([mapping[s] for s in seq]).flatten()\n",
    "\n",
    "# エンコーディングされた配列を準備\n",
    "encoded_sequences_high = np.array([one_hot_encode(seq) for seq in left_edges_high])\n",
    "encoded_sequences_low = np.array([one_hot_encode(seq) for seq in left_edge_low])"
   ]
  },
  {
   "cell_type": "code",
   "execution_count": 103,
   "metadata": {},
   "outputs": [
    {
     "data": {
      "text/html": [
       "<style>#sk-container-id-15 {color: black;}#sk-container-id-15 pre{padding: 0;}#sk-container-id-15 div.sk-toggleable {background-color: white;}#sk-container-id-15 label.sk-toggleable__label {cursor: pointer;display: block;width: 100%;margin-bottom: 0;padding: 0.3em;box-sizing: border-box;text-align: center;}#sk-container-id-15 label.sk-toggleable__label-arrow:before {content: \"▸\";float: left;margin-right: 0.25em;color: #696969;}#sk-container-id-15 label.sk-toggleable__label-arrow:hover:before {color: black;}#sk-container-id-15 div.sk-estimator:hover label.sk-toggleable__label-arrow:before {color: black;}#sk-container-id-15 div.sk-toggleable__content {max-height: 0;max-width: 0;overflow: hidden;text-align: left;background-color: #f0f8ff;}#sk-container-id-15 div.sk-toggleable__content pre {margin: 0.2em;color: black;border-radius: 0.25em;background-color: #f0f8ff;}#sk-container-id-15 input.sk-toggleable__control:checked~div.sk-toggleable__content {max-height: 200px;max-width: 100%;overflow: auto;}#sk-container-id-15 input.sk-toggleable__control:checked~label.sk-toggleable__label-arrow:before {content: \"▾\";}#sk-container-id-15 div.sk-estimator input.sk-toggleable__control:checked~label.sk-toggleable__label {background-color: #d4ebff;}#sk-container-id-15 div.sk-label input.sk-toggleable__control:checked~label.sk-toggleable__label {background-color: #d4ebff;}#sk-container-id-15 input.sk-hidden--visually {border: 0;clip: rect(1px 1px 1px 1px);clip: rect(1px, 1px, 1px, 1px);height: 1px;margin: -1px;overflow: hidden;padding: 0;position: absolute;width: 1px;}#sk-container-id-15 div.sk-estimator {font-family: monospace;background-color: #f0f8ff;border: 1px dotted black;border-radius: 0.25em;box-sizing: border-box;margin-bottom: 0.5em;}#sk-container-id-15 div.sk-estimator:hover {background-color: #d4ebff;}#sk-container-id-15 div.sk-parallel-item::after {content: \"\";width: 100%;border-bottom: 1px solid gray;flex-grow: 1;}#sk-container-id-15 div.sk-label:hover label.sk-toggleable__label {background-color: #d4ebff;}#sk-container-id-15 div.sk-serial::before {content: \"\";position: absolute;border-left: 1px solid gray;box-sizing: border-box;top: 0;bottom: 0;left: 50%;z-index: 0;}#sk-container-id-15 div.sk-serial {display: flex;flex-direction: column;align-items: center;background-color: white;padding-right: 0.2em;padding-left: 0.2em;position: relative;}#sk-container-id-15 div.sk-item {position: relative;z-index: 1;}#sk-container-id-15 div.sk-parallel {display: flex;align-items: stretch;justify-content: center;background-color: white;position: relative;}#sk-container-id-15 div.sk-item::before, #sk-container-id-15 div.sk-parallel-item::before {content: \"\";position: absolute;border-left: 1px solid gray;box-sizing: border-box;top: 0;bottom: 0;left: 50%;z-index: -1;}#sk-container-id-15 div.sk-parallel-item {display: flex;flex-direction: column;z-index: 1;position: relative;background-color: white;}#sk-container-id-15 div.sk-parallel-item:first-child::after {align-self: flex-end;width: 50%;}#sk-container-id-15 div.sk-parallel-item:last-child::after {align-self: flex-start;width: 50%;}#sk-container-id-15 div.sk-parallel-item:only-child::after {width: 0;}#sk-container-id-15 div.sk-dashed-wrapped {border: 1px dashed gray;margin: 0 0.4em 0.5em 0.4em;box-sizing: border-box;padding-bottom: 0.4em;background-color: white;}#sk-container-id-15 div.sk-label label {font-family: monospace;font-weight: bold;display: inline-block;line-height: 1.2em;}#sk-container-id-15 div.sk-label-container {text-align: center;}#sk-container-id-15 div.sk-container {/* jupyter's `normalize.less` sets `[hidden] { display: none; }` but bootstrap.min.css set `[hidden] { display: none !important; }` so we also need the `!important` here to be able to override the default hidden behavior on the sphinx rendered scikit-learn.org. See: https://github.com/scikit-learn/scikit-learn/issues/21755 */display: inline-block !important;position: relative;}#sk-container-id-15 div.sk-text-repr-fallback {display: none;}</style><div id=\"sk-container-id-15\" class=\"sk-top-container\"><div class=\"sk-text-repr-fallback\"><pre>XGBClassifier(base_score=None, booster=None, callbacks=None,\n",
       "              colsample_bylevel=None, colsample_bynode=None,\n",
       "              colsample_bytree=None, early_stopping_rounds=10,\n",
       "              enable_categorical=False, eval_metric=None, feature_types=None,\n",
       "              gamma=None, gpu_id=None, grow_policy=None, importance_type=None,\n",
       "              interaction_constraints=None, learning_rate=0.05, max_bin=None,\n",
       "              max_cat_threshold=None, max_cat_to_onehot=None,\n",
       "              max_delta_step=None, max_depth=8, max_leaves=None,\n",
       "              min_child_weight=None, missing=nan, monotone_constraints=None,\n",
       "              n_estimators=100, n_jobs=None, num_parallel_tree=None,\n",
       "              predictor=None, random_state=None, ...)</pre><b>In a Jupyter environment, please rerun this cell to show the HTML representation or trust the notebook. <br />On GitHub, the HTML representation is unable to render, please try loading this page with nbviewer.org.</b></div><div class=\"sk-container\" hidden><div class=\"sk-item\"><div class=\"sk-estimator sk-toggleable\"><input class=\"sk-toggleable__control sk-hidden--visually\" id=\"sk-estimator-id-15\" type=\"checkbox\" checked><label for=\"sk-estimator-id-15\" class=\"sk-toggleable__label sk-toggleable__label-arrow\">XGBClassifier</label><div class=\"sk-toggleable__content\"><pre>XGBClassifier(base_score=None, booster=None, callbacks=None,\n",
       "              colsample_bylevel=None, colsample_bynode=None,\n",
       "              colsample_bytree=None, early_stopping_rounds=10,\n",
       "              enable_categorical=False, eval_metric=None, feature_types=None,\n",
       "              gamma=None, gpu_id=None, grow_policy=None, importance_type=None,\n",
       "              interaction_constraints=None, learning_rate=0.05, max_bin=None,\n",
       "              max_cat_threshold=None, max_cat_to_onehot=None,\n",
       "              max_delta_step=None, max_depth=8, max_leaves=None,\n",
       "              min_child_weight=None, missing=nan, monotone_constraints=None,\n",
       "              n_estimators=100, n_jobs=None, num_parallel_tree=None,\n",
       "              predictor=None, random_state=None, ...)</pre></div></div></div></div></div>"
      ],
      "text/plain": [
       "XGBClassifier(base_score=None, booster=None, callbacks=None,\n",
       "              colsample_bylevel=None, colsample_bynode=None,\n",
       "              colsample_bytree=None, early_stopping_rounds=10,\n",
       "              enable_categorical=False, eval_metric=None, feature_types=None,\n",
       "              gamma=None, gpu_id=None, grow_policy=None, importance_type=None,\n",
       "              interaction_constraints=None, learning_rate=0.05, max_bin=None,\n",
       "              max_cat_threshold=None, max_cat_to_onehot=None,\n",
       "              max_delta_step=None, max_depth=8, max_leaves=None,\n",
       "              min_child_weight=None, missing=nan, monotone_constraints=None,\n",
       "              n_estimators=100, n_jobs=None, num_parallel_tree=None,\n",
       "              predictor=None, random_state=None, ...)"
      ]
     },
     "execution_count": 103,
     "metadata": {},
     "output_type": "execute_result"
    }
   ],
   "source": [
    "# 学習データとしてワンホとエンコーディングされた配列を結合しXとする\n",
    "# ラベルをyとして結合する\n",
    "X = pd.DataFrame(np.concatenate([encoded_sequences_high, encoded_sequences_low]))\n",
    "y = pd.DataFrame(np.concatenate([np.ones(len(encoded_sequences_high)), np.zeros(len(encoded_sequences_low))]))\n",
    "\n",
    "# XGBoostのインスタンス化\n",
    "model = XGBClassifier(early_stopping_rounds=10, learning_rate=0.05, max_depth=8)\n",
    "\n",
    "# データの分割\n",
    "X_train, X_test, y_train, y_test = train_test_split(X, y, test_size=0.2)\n",
    "\n",
    "# データをモデルにfitさせる\n",
    "eval_set = [(X_test, y_test)]\n",
    "model.fit(X_train, y_train, eval_set=eval_set, verbose=False)    "
   ]
  },
  {
   "cell_type": "code",
   "execution_count": 104,
   "metadata": {},
   "outputs": [
    {
     "data": {
      "image/png": "[encoded data removed]",
      "text/plain": [
       "<Figure size 1000x250 with 1 Axes>"
      ]
     },
     "metadata": {},
     "output_type": "display_data"
    }
   ],
   "source": [
    "# logomakerを用いてモチーフを可視化\n",
    "b_df_r = pd.DataFrame(model.feature_importances_.reshape(30,4))\n",
    "b_df_r.columns = ['A','T','G','C']\n",
    "crp_logo = logomaker.Logo(b_df_r, shade_below=.5, fade_below=.5)"
   ]
  },
  {
   "cell_type": "code",
   "execution_count": 105,
   "metadata": {},
   "outputs": [
    {
     "name": "stdout",
     "output_type": "stream",
     "text": [
      "0.09\n",
      "0.6888888888888889\n"
     ]
    }
   ],
   "source": [
    "g_count = 0\n",
    "for i in left_edges_high:\n",
    "    if i[3] == \"A\":\n",
    "        g_count += 1\n",
    "print(g_count/len(left_edges_high))\n",
    "\n",
    "g_count = 0\n",
    "for i in left_edge_low:\n",
    "    if i[3] == \"A\":\n",
    "        g_count += 1\n",
    "print(g_count/len(left_edge_low))"
   ]
  },
  {
   "cell_type": "markdown",
   "metadata": {},
   "source": [
    "## 各イントロンの5-prime側のn塩基にフォーカスし解析"
   ]
  },
  {
   "cell_type": "code",
   "execution_count": 106,
   "metadata": {},
   "outputs": [],
   "source": [
    "    \n",
    "# 各イントロンの3-prime側のn塩基を抽出\n",
    "right_edges = []\n",
    "for i in range(gbk.intron_num()):\n",
    "    right_edges.append(str(gbk.intron_seq(i+1)[-n:]))"
   ]
  },
  {
   "cell_type": "code",
   "execution_count": 107,
   "metadata": {},
   "outputs": [],
   "source": [
    "# 領域の切り出し\n",
    "high_s, high_e = 120, 220\n",
    "low_s, low_e = 0, 45\n",
    "# low_s, low_e = 220, gbk.intron_num()\n",
    "right_edges_high = right_edges[high_s:high_e]\n",
    "right_edges_low = right_edges[low_s:low_e] \n",
    "\n",
    "# ワンホットエンコーディングを行う関数\n",
    "def one_hot_encode(seq):\n",
    "    mapping = {'A': [1, 0, 0, 0], 'T': [0, 1, 0, 0], 'G': [0, 0, 1, 0], 'C': [0, 0, 0, 1]}\n",
    "    return np.array([mapping[s] for s in seq]).flatten()\n",
    "\n",
    "# エンコーディングされた配列を準備\n",
    "encoded_sequences_high = np.array([one_hot_encode(seq) for seq in right_edges_high])\n",
    "encoded_sequences_low = np.array([one_hot_encode(seq) for seq in right_edge_low])"
   ]
  },
  {
   "cell_type": "code",
   "execution_count": 108,
   "metadata": {},
   "outputs": [
    {
     "data": {
      "text/html": [
       "<style>#sk-container-id-16 {color: black;}#sk-container-id-16 pre{padding: 0;}#sk-container-id-16 div.sk-toggleable {background-color: white;}#sk-container-id-16 label.sk-toggleable__label {cursor: pointer;display: block;width: 100%;margin-bottom: 0;padding: 0.3em;box-sizing: border-box;text-align: center;}#sk-container-id-16 label.sk-toggleable__label-arrow:before {content: \"▸\";float: left;margin-right: 0.25em;color: #696969;}#sk-container-id-16 label.sk-toggleable__label-arrow:hover:before {color: black;}#sk-container-id-16 div.sk-estimator:hover label.sk-toggleable__label-arrow:before {color: black;}#sk-container-id-16 div.sk-toggleable__content {max-height: 0;max-width: 0;overflow: hidden;text-align: left;background-color: #f0f8ff;}#sk-container-id-16 div.sk-toggleable__content pre {margin: 0.2em;color: black;border-radius: 0.25em;background-color: #f0f8ff;}#sk-container-id-16 input.sk-toggleable__control:checked~div.sk-toggleable__content {max-height: 200px;max-width: 100%;overflow: auto;}#sk-container-id-16 input.sk-toggleable__control:checked~label.sk-toggleable__label-arrow:before {content: \"▾\";}#sk-container-id-16 div.sk-estimator input.sk-toggleable__control:checked~label.sk-toggleable__label {background-color: #d4ebff;}#sk-container-id-16 div.sk-label input.sk-toggleable__control:checked~label.sk-toggleable__label {background-color: #d4ebff;}#sk-container-id-16 input.sk-hidden--visually {border: 0;clip: rect(1px 1px 1px 1px);clip: rect(1px, 1px, 1px, 1px);height: 1px;margin: -1px;overflow: hidden;padding: 0;position: absolute;width: 1px;}#sk-container-id-16 div.sk-estimator {font-family: monospace;background-color: #f0f8ff;border: 1px dotted black;border-radius: 0.25em;box-sizing: border-box;margin-bottom: 0.5em;}#sk-container-id-16 div.sk-estimator:hover {background-color: #d4ebff;}#sk-container-id-16 div.sk-parallel-item::after {content: \"\";width: 100%;border-bottom: 1px solid gray;flex-grow: 1;}#sk-container-id-16 div.sk-label:hover label.sk-toggleable__label {background-color: #d4ebff;}#sk-container-id-16 div.sk-serial::before {content: \"\";position: absolute;border-left: 1px solid gray;box-sizing: border-box;top: 0;bottom: 0;left: 50%;z-index: 0;}#sk-container-id-16 div.sk-serial {display: flex;flex-direction: column;align-items: center;background-color: white;padding-right: 0.2em;padding-left: 0.2em;position: relative;}#sk-container-id-16 div.sk-item {position: relative;z-index: 1;}#sk-container-id-16 div.sk-parallel {display: flex;align-items: stretch;justify-content: center;background-color: white;position: relative;}#sk-container-id-16 div.sk-item::before, #sk-container-id-16 div.sk-parallel-item::before {content: \"\";position: absolute;border-left: 1px solid gray;box-sizing: border-box;top: 0;bottom: 0;left: 50%;z-index: -1;}#sk-container-id-16 div.sk-parallel-item {display: flex;flex-direction: column;z-index: 1;position: relative;background-color: white;}#sk-container-id-16 div.sk-parallel-item:first-child::after {align-self: flex-end;width: 50%;}#sk-container-id-16 div.sk-parallel-item:last-child::after {align-self: flex-start;width: 50%;}#sk-container-id-16 div.sk-parallel-item:only-child::after {width: 0;}#sk-container-id-16 div.sk-dashed-wrapped {border: 1px dashed gray;margin: 0 0.4em 0.5em 0.4em;box-sizing: border-box;padding-bottom: 0.4em;background-color: white;}#sk-container-id-16 div.sk-label label {font-family: monospace;font-weight: bold;display: inline-block;line-height: 1.2em;}#sk-container-id-16 div.sk-label-container {text-align: center;}#sk-container-id-16 div.sk-container {/* jupyter's `normalize.less` sets `[hidden] { display: none; }` but bootstrap.min.css set `[hidden] { display: none !important; }` so we also need the `!important` here to be able to override the default hidden behavior on the sphinx rendered scikit-learn.org. See: https://github.com/scikit-learn/scikit-learn/issues/21755 */display: inline-block !important;position: relative;}#sk-container-id-16 div.sk-text-repr-fallback {display: none;}</style><div id=\"sk-container-id-16\" class=\"sk-top-container\"><div class=\"sk-text-repr-fallback\"><pre>XGBClassifier(base_score=None, booster=None, callbacks=None,\n",
       "              colsample_bylevel=None, colsample_bynode=None,\n",
       "              colsample_bytree=None, early_stopping_rounds=10,\n",
       "              enable_categorical=False, eval_metric=None, feature_types=None,\n",
       "              gamma=None, gpu_id=None, grow_policy=None, importance_type=None,\n",
       "              interaction_constraints=None, learning_rate=0.1, max_bin=None,\n",
       "              max_cat_threshold=None, max_cat_to_onehot=None,\n",
       "              max_delta_step=None, max_depth=8, max_leaves=None,\n",
       "              min_child_weight=None, missing=nan, monotone_constraints=None,\n",
       "              n_estimators=100, n_jobs=None, num_parallel_tree=None,\n",
       "              predictor=None, random_state=None, ...)</pre><b>In a Jupyter environment, please rerun this cell to show the HTML representation or trust the notebook. <br />On GitHub, the HTML representation is unable to render, please try loading this page with nbviewer.org.</b></div><div class=\"sk-container\" hidden><div class=\"sk-item\"><div class=\"sk-estimator sk-toggleable\"><input class=\"sk-toggleable__control sk-hidden--visually\" id=\"sk-estimator-id-16\" type=\"checkbox\" checked><label for=\"sk-estimator-id-16\" class=\"sk-toggleable__label sk-toggleable__label-arrow\">XGBClassifier</label><div class=\"sk-toggleable__content\"><pre>XGBClassifier(base_score=None, booster=None, callbacks=None,\n",
       "              colsample_bylevel=None, colsample_bynode=None,\n",
       "              colsample_bytree=None, early_stopping_rounds=10,\n",
       "              enable_categorical=False, eval_metric=None, feature_types=None,\n",
       "              gamma=None, gpu_id=None, grow_policy=None, importance_type=None,\n",
       "              interaction_constraints=None, learning_rate=0.1, max_bin=None,\n",
       "              max_cat_threshold=None, max_cat_to_onehot=None,\n",
       "              max_delta_step=None, max_depth=8, max_leaves=None,\n",
       "              min_child_weight=None, missing=nan, monotone_constraints=None,\n",
       "              n_estimators=100, n_jobs=None, num_parallel_tree=None,\n",
       "              predictor=None, random_state=None, ...)</pre></div></div></div></div></div>"
      ],
      "text/plain": [
       "XGBClassifier(base_score=None, booster=None, callbacks=None,\n",
       "              colsample_bylevel=None, colsample_bynode=None,\n",
       "              colsample_bytree=None, early_stopping_rounds=10,\n",
       "              enable_categorical=False, eval_metric=None, feature_types=None,\n",
       "              gamma=None, gpu_id=None, grow_policy=None, importance_type=None,\n",
       "              interaction_constraints=None, learning_rate=0.1, max_bin=None,\n",
       "              max_cat_threshold=None, max_cat_to_onehot=None,\n",
       "              max_delta_step=None, max_depth=8, max_leaves=None,\n",
       "              min_child_weight=None, missing=nan, monotone_constraints=None,\n",
       "              n_estimators=100, n_jobs=None, num_parallel_tree=None,\n",
       "              predictor=None, random_state=None, ...)"
      ]
     },
     "execution_count": 108,
     "metadata": {},
     "output_type": "execute_result"
    }
   ],
   "source": [
    "# 学習データとしてワンホとエンコーディングされた配列を結合しXとする\n",
    "# ラベルをyとして結合する\n",
    "X = pd.DataFrame(np.concatenate([encoded_sequences_high, encoded_sequences_low]))\n",
    "y = pd.DataFrame(np.concatenate([np.ones(len(encoded_sequences_high)), np.zeros(len(encoded_sequences_low))]))\n",
    "\n",
    "# XGBoostのインスタンス化\n",
    "model = XGBClassifier(early_stopping_rounds=10, learning_rate=0.1, max_depth=8)\n",
    "\n",
    "# データの分割\n",
    "X_train, X_test, y_train, y_test = train_test_split(X, y, test_size=0.2)\n",
    "\n",
    "# データをモデルにfitさせる\n",
    "eval_set = [(X_test, y_test)]\n",
    "model.fit(X_train, y_train, eval_set=eval_set, verbose=False)    "
   ]
  },
  {
   "cell_type": "code",
   "execution_count": 109,
   "metadata": {},
   "outputs": [
    {
     "data": {
      "image/png": "[encoded data removed]",
      "text/plain": [
       "<Figure size 1000x250 with 1 Axes>"
      ]
     },
     "metadata": {},
     "output_type": "display_data"
    }
   ],
   "source": [
    "# logomakerを用いてモチーフを可視化\n",
    "b_df_r = pd.DataFrame(model.feature_importances_.reshape(30,4))\n",
    "b_df_r.columns = ['A','T','G','C']\n",
    "crp_logo = logomaker.Logo(b_df_r, shade_below=.5, fade_below=.5)"
   ]
  },
  {
   "cell_type": "code",
   "execution_count": 110,
   "metadata": {},
   "outputs": [
    {
     "name": "stdout",
     "output_type": "stream",
     "text": [
      "GAACTAACATTGTGTTTCAAAAACTTTAAG\n",
      "TAAAGTCAATTCTAAAAATGTCTCTTCAAG\n",
      "AAATTTTAAAATTCAATACTATCCTTTAAG\n",
      "AATTTCTAAAAGTGCATAATGTCTCTAAAG\n",
      "TTAAACTTCAACTTTAACACTTTCTTAAAG\n",
      "TGAATTTAAATGAAACCTTATCTTTTAAAG\n",
      "TTATCTTCTTTAAAACTGCTGTCTTTAAAG\n",
      "TCTACAAACATATTTTATAATCTTTTCAAG\n",
      "CTCATATTCTTAAACCTAATCTTTCTAAAG\n",
      "GTTTGATGGTATTGCCTGGTATCTTTTAAG\n",
      "AACTCCCTAATCCTAAAATTATCTTTTAAG\n",
      "AATACTTTAAAGTGAAATCTCTCTTTAAAG\n",
      "AATTCACTTTTAATAATTACTCCTTTAAAG\n",
      "AAGTGCTGCCTGTTGTTAATATTGTTTCAG\n",
      "ACATGAAATACCTTGTATGTACTTTTAAAG\n",
      "TTAAAATCTCTTAATATTGATATTTTGAAG\n",
      "AATGCTCTTTAATAATTAATATCTTTAAAG\n",
      "ATAAAATTTCCTTATACTTCATATTTCAAG\n",
      "ATGTCCAACTTAAAGATAATATCTTTAAAG\n",
      "TTTCCAACATTCTTAATAATATCTTTAAAG\n",
      "AGAACTTAACAATAAACAATATCTTTAAAG\n",
      "TGACACTAACTCTATTTGATATCTTTGAAG\n",
      "AAAATTTTTCTCTAAATCATTTCGTTAAAG\n",
      "TATTCCTAAATATAAATAATATCTTTAAAG\n",
      "GTTTGTACCCTTGAATAAATATCTTTAAAG\n",
      "TTTAATGCCTTCAAATGAAATGTTTTTAAG\n",
      "AATCCTTATCATGAAATGATGTCTTTAAAG\n",
      "AACTTATAAAATAAAATAATATTTTTAAAG\n",
      "AAGTGTCTAAAATAATCAATGTCTCTCAAG\n",
      "ATAATTTACAAAATAATAATCTTTTTAAAG\n",
      "TTTCAAAATGTTCATAAAATTTCTTTTAAG\n",
      "AGCTAACTAAAACACCTAATATCTTTAAAG\n",
      "GTCCTAAATATTAAAACTGTATCTTTAAAG\n",
      "AAATAAGTCTTAAAATAGATGCTCTTTCAG\n",
      "TTCTAAACCAAAATACTAATATCTTTGAAG\n",
      "TAAAAGAAATTATTACTATTATCTTTAAAG\n",
      "AAAAAATAAGATAAATAAATATCTTTAAAG\n",
      "GTAACAATTAATATACTAATATCTTTAAAG\n",
      "CTAATTATTTAAATACTAATATCTTTAAAG\n",
      "ATAAATATAACTATACTCATATCTTTTAAG\n",
      "TTAAATGTAAACCTACTAATATCTTTAAAG\n",
      "CAATTAAAAAAAATACTAATATCTTTAAAG\n",
      "CCAAAGTACAATGCATTCATATCTTTAAAG\n",
      "CCTCTAACCATAATACTAATATCTTCAAAG\n",
      "CTTAAATGTGAATTGCTAATATCTTTCAAG\n",
      "ACTAAACATAAAACTACTAATTTCTTAAAG\n",
      "CTAAATGTAAAATTATTAATATCTTCAAAG\n",
      "CTGAGTGTAAAAATACTAATATCTTTCAAG\n",
      "CTAAATGTAATTTCACTAATATCTTTCAAG\n",
      "CTGAATGTAATTTTGCTAATATCTTTTAAG\n",
      "CTAAATGTAATTTCACTAATATCTTTCAAG\n",
      "CTAATAATGAAAATACTAATATCTTTAAAG\n",
      "TCTAAACACAAATTACAAATATCTTTGAAG\n",
      "TCTAACTAAAAGATACTAATATCTTCAAAG\n",
      "TAAATTATAAAAATACTAATATCTTTCAAG\n",
      "CTAAGTATAAAACTACTAATATCTTTCAAG\n",
      "TTAAGTCTAAAACTACTAATATCTTTCAAG\n",
      "CTAAGTGAAAAACTACTAATATCTTTCAAG\n",
      "CCACATGTAACTTTACTAATATCTTTTAAG\n",
      "CTAAATGTAATTTCACTAATATCTTTCAAG\n",
      "CTAATAATGAAAATACTAATATCTTTAAAG\n",
      "TCTAAACACAAATTACAAATATCTTTGAAG\n",
      "TCTAACTAAAAGATACTAATATCTTCAAAG\n",
      "TAAATTATAAAAATACTAATATCTTTCAAG\n",
      "CTAAGTATAAAACTACTAATATCTTTCAAG\n",
      "TTAAGTCTAAAACTACTAATATCTTTCAAG\n",
      "CTAAGTGAAAAACTACTAATATCTTTCAAG\n",
      "CCACATGTAACTTTACTAATATCTTTTAAG\n",
      "CTAAATGTAATTTCACTAATATCTTTCAAG\n",
      "CTAATAATGAAAATACTAATATCTTTAAAG\n",
      "TCTAAACACAAATTACAAATATCTTTGAAG\n",
      "TCTAACTAAAAGATACTAATATCTTCAAAG\n",
      "TAAATTATAAAAATACTAATATCTTTCAAG\n",
      "CTAAGTATAAAACTACTAATATCTTTCAAG\n",
      "TTAAGTCTAAAACTACTAATATCTTTCAAG\n",
      "CTAAGTGAAAAACTACTAATATCTTTCAAG\n",
      "CTACATGTAACTTTACTAATATCTTTTAAG\n",
      "TAAATGTAATTTTACCTAATATCTTTTAAG\n",
      "CTAAATGTAATTTCACTAATATCTTTTAAG\n",
      "CTAAATGTAATTTCACTAATATCTTTTAAG\n",
      "CTAAATGTAATTTCACTAATATCTTTTAAG\n",
      "CTAAATGTAATTTCACTATTATCTTTCAAG\n",
      "TAACAATGAAAATAATAATATCTTTTAAAG\n",
      "TGGCATTAAAATGAGCTCATGTCTTTAAAG\n",
      "CTTTCTAAAACATACCTTCTAATTCTTTAG\n",
      "AGCTTAAACAACTACTAATATCTTTTATAG\n",
      "TCTAATGTTAAAATACTAATATATTTGAAG\n",
      "CATAAGAAAAATGAATTAATATCTTTAAAG\n",
      "TTGAAATAAAATTAACTAATATCTTTAAAG\n",
      "TAATTCTAAAAGAAATTCCTATTATTCAAG\n",
      "TATTATTAAATGCTACTGATATCTTTAAAG\n",
      "ATTTTTAAAACAAAACTAATATCTTCAAAG\n",
      "TTAATAGTAAACAAAATCATATCTTTAAAG\n",
      "GTCTAAAATAAAATACTATGTTTTTTAAAG\n",
      "CCTCATCTCCTTTGTCAACATTCTTTAAAG\n",
      "ATACTAACACCTCTGAAATACTCTTTCAAG\n",
      "ATAACAAAAGTAAAATCATATTCTTTAAAG\n",
      "CTTCAAAATTTGAAATCATATTCTTTTAAG\n",
      "GTTTACATATAAACCTTTTTGTCTTTAAAG\n",
      "TAACACTGAAAAAATAATCTTATCTTAAAG\n",
      "0.96\n"
     ]
    }
   ],
   "source": [
    "g_count = 0\n",
    "for i in right_edges_high:\n",
    "    print(i)\n",
    "    if i[27] == \"A\":\n",
    "        g_count += 1\n",
    "print(g_count/len(right_edges_high))"
   ]
  },
  {
   "cell_type": "code",
   "execution_count": 111,
   "metadata": {},
   "outputs": [
    {
     "name": "stdout",
     "output_type": "stream",
     "text": [
      "CACCCTAATTTATTTTCTCTTCTTTTTCAG\n",
      "ACATAAAGGTGAATTGTTCTTGCTCTTCAG\n",
      "ACTCTTGACTTTGTTCTCTTGTCCCCGCAG\n",
      "TCCCAAACATTCATCTTTCCCTTCCCACAG\n",
      "CAACGTGGGCTTTGTTTTAATCTTTTACAG\n",
      "CATTCTTGACCTCTGCCTTTTGGTTTTCAG\n",
      "AAGTAATCTACTTGGTCATTTCTAATCTAG\n",
      "GTGTTTTCTTCCTTTCTCTATGAAAAGCAG\n",
      "TAAAGTTTTTTCTTAAATCATTCTTTGCAG\n",
      "CTCAAATCTTTATTTTACTCTAAACATCAG\n",
      "CTATTTTCTTACTTTCTTTTGTATGATCAG\n",
      "CTTAAATCTTGATTTTACTGTAATAATCAG\n",
      "ATGTATTAATTCTGGAAACCTTGTCTCCAG\n",
      "ATGGTATCACTGAGTTTCATTTCAATGCAG\n",
      "ACTTTATTTTCTGACTCTGTTTCCATGTAG\n",
      "CATTTTGTAATATAATTTGTAAAAATCTAG\n",
      "ATCATTATTTATTTTTTCTCCTCTCTTCAG\n",
      "TCTCAATGAGAAACTTTTGTCTTCTTTTAG\n",
      "AAGCTAATATGAGGGGAATTCTCTTTCCAG\n",
      "GATTTTTAAATTTTGTACATTTACATAAAG\n",
      "TAAAAATTAACTGATGTTCTTAACTCTTAG\n",
      "TTTTTAACAGACCATAATCTTTTTGCATAG\n",
      "TTATTCATACATGCATGGTATTCTTTGCAG\n",
      "ACGAAAGTATTGTGTGTCTTTGTTTTGCAG\n",
      "ATCTACTTTCTTTTAAACATATTTTCACAG\n",
      "TCCCTCTAAATCATGACCTTTCTCTTTCAG\n",
      "TTGATTATTCCCTCCCCCAACTTTTTATAG\n",
      "TCCCCTTTTTCCCCCACCTTTTTCTTGTAG\n",
      "ATTGATTTATCTTTCTGTTATACACTTCAG\n",
      "TAACATTCTTTTTCTCCCCATATTTCACAG\n",
      "CATTCATCTTGTGTGTGTATGATTTTGCAG\n",
      "AACCAAGAGATTATTTTATTTTTTCCCCAG\n",
      "GACTCATACTGTACATCTCTTGTTCCAAAG\n",
      "TTTCTAACCCAATCATAAATTTGTCTTTAG\n",
      "ATCACTGAATTGCTCCAATTTTCCTCTTAG\n",
      "TTAACTGAAGTGCTCTTTGATTTTACCAAG\n",
      "CTTGGGTGTTTTTTCTTTTCTCCTTTGCAG\n",
      "ATGTTAATTTTTCTACATGCTATTTTCCAG\n",
      "GGTAAACTCGAATTTCCATTTCATCCATAG\n",
      "TGTTGTTTTTTTATGTTGTTCCATCAACAG\n",
      "CATGGGCTATTTGTCAACATTTACTCCTAG\n",
      "CATGACAAATCTTGTGGTTTCTTTCTTTAG\n",
      "TTGAAGTATCTCTTTTCTTTTGTGTCGCAG\n",
      "GACATTAAAAATTGGTATGCTTCTTTTCAG\n",
      "TTTTCTTTTTCTTGTCACTTGATTATACAG\n",
      "0.06666666666666667\n"
     ]
    }
   ],
   "source": [
    "\n",
    "g_count = 0\n",
    "for i in right_edges_low:\n",
    "    print(i)\n",
    "    if i[27] == \"A\":\n",
    "        g_count += 1\n",
    "print(g_count/len(right_edge_low))"
   ]
  },
  {
   "cell_type": "code",
   "execution_count": null,
   "metadata": {},
   "outputs": [],
   "source": []
  }
 ],
 "metadata": {
  "kernelspec": {
   "display_name": "bio",
   "language": "python",
   "name": "python3"
  },
  "language_info": {
   "codemirror_mode": {
    "name": "ipython",
    "version": 3
   },
   "file_extension": ".py",
   "mimetype": "text/x-python",
   "name": "python",
   "nbconvert_exporter": "python",
   "pygments_lexer": "ipython3",
   "version": "3.10.13"
  }
 },
 "nbformat": 4,
 "nbformat_minor": 2
}
