{
 "cells": [
  {
   "cell_type": "code",
   "execution_count": null,
   "metadata": {
    "notebookRunGroups": {
     "groupValue": ""
    }
   },
   "outputs": [],
   "source": [
    "# オリジナルモジュールのインポート\n",
    "from introngap import PileUp\n",
    "from gbkparse import Seq_count\n",
    "\n",
    "# モジュールのインポート\n",
    "import glob\n",
    "import pandas as pd\n",
    "import matplotlib.pyplot as plt\n",
    "import seaborn as sns\n",
    "import plotly.express as px"
   ]
  },
  {
   "cell_type": "code",
   "execution_count": null,
   "metadata": {},
   "outputs": [],
   "source": [
    "# クラスのインスタンス化\n",
    "gbk = Seq_count()\n",
    "\n",
    "# gbkファイルの読み込み\n",
    "gbk.read_gbk('data/gbk/human_ttn.gb')\n",
    "\n",
    "# トランスクリプトバリアントの設定\n",
    "gbk.set_mrna_id('NM_001267550.2')"
   ]
  },
  {
   "cell_type": "code",
   "execution_count": null,
   "metadata": {},
   "outputs": [],
   "source": [
    "g = Seq_count()\n",
    "g.read_gbk('data/gbk/human_ttn.gb')\n",
    "for i in gbk.get_mrna_ids():\n",
    "    g.set_mrna_id(i)\n",
    "    print(i,g.intron_num())"
   ]
  },
  {
   "cell_type": "code",
   "execution_count": null,
   "metadata": {},
   "outputs": [],
   "source": [
    "n = 4\n",
    "df = gbk.intron_motif_stats(intron=1, n=n) \n",
    "\n",
    "for i in range(gbk.intron_num()-1):\n",
    "    tmp_df = gbk.intron_motif_stats(intron=i+2, n=n)\n",
    "    tmp_df.columns = [f'intron_{i+2}']\n",
    "    df = pd.merge(df, tmp_df, left_index=True, right_index=True)\n",
    "ndf = df/df.sum(axis=0)\n",
    "ndf.head()"
   ]
  },
  {
   "cell_type": "code",
   "execution_count": null,
   "metadata": {},
   "outputs": [],
   "source": [
    "fig = px.imshow(ndf.T, text_auto=True)\n",
    "fig.update_layout(width=800, height=800)\n",
    "fig.show()"
   ]
  },
  {
   "cell_type": "code",
   "execution_count": null,
   "metadata": {},
   "outputs": [],
   "source": [
    "g = sns.clustermap(ndf.T)"
   ]
  },
  {
   "cell_type": "code",
   "execution_count": null,
   "metadata": {},
   "outputs": [],
   "source": [
    "reordered_index = ndf.index[g.dendrogram_col.reordered_ind]\n",
    "reordered_columns = ndf.columns[g.dendrogram_row.reordered_ind]\n",
    "clustered_ndf = ndf.loc[reordered_index, reordered_columns]\n",
    "clustered_ndf"
   ]
  },
  {
   "cell_type": "code",
   "execution_count": null,
   "metadata": {},
   "outputs": [],
   "source": [
    "list(clustered_ndf.columns).index('intron_189')"
   ]
  },
  {
   "cell_type": "code",
   "execution_count": null,
   "metadata": {},
   "outputs": [],
   "source": [
    "fig = px.imshow(clustered_ndf.T, text_auto=True)\n",
    "fig.update_layout(width=800, height=800)\n",
    "fig.show()"
   ]
  },
  {
   "cell_type": "code",
   "execution_count": null,
   "metadata": {},
   "outputs": [],
   "source": [
    "ls = [172, 181, 190, 203]\n",
    "ls.sort()\n",
    "for i in ls:\n",
    "    (\"intron_\"+str(i), gbk.intron_seq(i))"
   ]
  },
  {
   "cell_type": "code",
   "execution_count": null,
   "metadata": {},
   "outputs": [],
   "source": [
    "ls = [196, 178, 187, 194, 176, 185]\n",
    "ls.sort()\n",
    "for i in ls:\n",
    "    print(\"intron_\"+str(i), gbk.intron_seq(i))"
   ]
  },
  {
   "cell_type": "code",
   "execution_count": null,
   "metadata": {},
   "outputs": [],
   "source": [
    "ls = [170, 198, 201, 202, 169, 199, 200]\n",
    "ls.sort()\n",
    "for i in ls:\n",
    "    print(\"intron_\"+str(i), gbk.intron_seq(i))"
   ]
  },
  {
   "cell_type": "code",
   "execution_count": null,
   "metadata": {},
   "outputs": [],
   "source": [
    "ls = [355, 299, 323, 235, 297, 290, 314, 245]\n",
    "ls.sort()\n",
    "for i in ls:\n",
    "    print(\"intron_\"+str(i), gbk.intron_seq(i))"
   ]
  },
  {
   "cell_type": "code",
   "execution_count": null,
   "metadata": {},
   "outputs": [],
   "source": [
    "ls = [185, 176]\n",
    "ls.sort()\n",
    "for i in ls:\n",
    "    print(\"intron_\"+str(i), gbk.intron_seq(i))"
   ]
  },
  {
   "cell_type": "code",
   "execution_count": null,
   "metadata": {},
   "outputs": [],
   "source": [
    "for j,k,l in zip([200 -i for i in range(12)], [191 -i for i in range(12)], [182-i for i in range(12)]):\n",
    "    print(j, gbk.intron_seq(j)[:100])\n",
    "    print(k, gbk.intron_seq(k)[:100])\n",
    "    print(l, gbk.intron_seq(l)[:100])\n",
    "    print(\"\")"
   ]
  },
  {
   "cell_type": "code",
   "execution_count": null,
   "metadata": {},
   "outputs": [],
   "source": []
  },
  {
   "cell_type": "code",
   "execution_count": null,
   "metadata": {},
   "outputs": [],
   "source": [
    "ndf.loc[:,'intron_189'].sort_values()"
   ]
  },
  {
   "cell_type": "code",
   "execution_count": null,
   "metadata": {},
   "outputs": [],
   "source": [
    "ndf.loc[:,'intron_180'].sort_values()"
   ]
  },
  {
   "cell_type": "code",
   "execution_count": null,
   "metadata": {},
   "outputs": [],
   "source": [
    "ndf.loc[:,'intron_200'].sort_values()"
   ]
  },
  {
   "cell_type": "code",
   "execution_count": null,
   "metadata": {},
   "outputs": [],
   "source": [
    "ndf.loc[:,'intron_201'].sort_values()"
   ]
  },
  {
   "cell_type": "code",
   "execution_count": null,
   "metadata": {},
   "outputs": [],
   "source": [
    "ndf.loc[:,'intron_202'].sort_values()"
   ]
  },
  {
   "cell_type": "code",
   "execution_count": null,
   "metadata": {},
   "outputs": [],
   "source": [
    "ndf.loc[:,'intron_203'].sort_values()"
   ]
  },
  {
   "cell_type": "code",
   "execution_count": null,
   "metadata": {},
   "outputs": [],
   "source": []
  }
 ],
 "metadata": {
  "kernelspec": {
   "display_name": "Python 3 (ipykernel)",
   "language": "python",
   "name": "python3"
  },
  "language_info": {
   "codemirror_mode": {
    "name": "ipython",
    "version": 3
   },
   "file_extension": ".py",
   "mimetype": "text/x-python",
   "name": "python",
   "nbconvert_exporter": "python",
   "pygments_lexer": "ipython3",
   "version": "3.9.18"
  }
 },
 "nbformat": 4,
 "nbformat_minor": 4
}
