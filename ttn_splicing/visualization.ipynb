{
 "cells": [
  {
   "cell_type": "markdown",
   "id": "c4462f5d-d790-4423-a1ab-3ed8076701fb",
   "metadata": {},
   "source": [
    "## Mouse Ttn遺伝子内のTCTT配列の分布の可視化"
   ]
  },
  {
   "cell_type": "code",
   "execution_count": null,
   "id": "a5273519-69c4-41bd-8c70-5846b2a9368e",
   "metadata": {},
   "outputs": [],
   "source": [
    "# オリジナルモジュールのインポート\n",
    "from introngap import PileUp\n",
    "from gbkparse import Seq_count\n",
    "\n",
    "# モジュールのインポート\n",
    "import glob"
   ]
  },
  {
   "cell_type": "markdown",
   "id": "f128b2cd-dfc4-4466-ad22-37bf4d92d740",
   "metadata": {},
   "source": [
    "### 可視化の準備"
   ]
  },
  {
   "cell_type": "code",
   "execution_count": null,
   "id": "4c4786d0-5534-42b0-a3f9-454cd2317b81",
   "metadata": {},
   "outputs": [],
   "source": [
    "# クラスのインスタンス化\n",
    "gbk = Seq_count()\n",
    "\n",
    "# gbkファイルの読み込み\n",
    "gbk.read_gbk('data/gbk/human_ttn.gb')\n",
    "\n",
    "# tutorialの表示\n",
    "gbk.tutorial()"
   ]
  },
  {
   "cell_type": "code",
   "execution_count": null,
   "id": "839cb00e-b081-4d07-8a95-5b2a0b24bbd6",
   "metadata": {},
   "outputs": [],
   "source": [
    "# バリアントの表示\n",
    "gbk.get_mrna_ids()"
   ]
  },
  {
   "cell_type": "code",
   "execution_count": null,
   "id": "0c308e16-1184-4edb-a950-804ecd4121d1",
   "metadata": {},
   "outputs": [],
   "source": [
    "# トランスクリプトバリアントの設定\n",
    "gbk.set_mrna_id('NM_001267550.2')"
   ]
  },
  {
   "cell_type": "code",
   "execution_count": null,
   "id": "d852de7c-414c-4a99-9b00-63cc03b15d7f",
   "metadata": {},
   "outputs": [],
   "source": [
    "# 着目する配列の設定\n",
    "gbk.set_interest_seq('TCTT')"
   ]
  },
  {
   "cell_type": "markdown",
   "id": "6c5c2d3c-d718-429b-b095-e6a078177eb2",
   "metadata": {},
   "source": [
    "### Ttn遺伝子内のTCTT配列の分布"
   ]
  },
  {
   "cell_type": "code",
   "execution_count": null,
   "id": "f6f6c148-619a-417c-979c-b2b590acd96a",
   "metadata": {},
   "outputs": [],
   "source": [
    "# TCTT配列の分布の可視化\n",
    "gbk.heatmap_hist()\n",
    "\n",
    "# figureの保存\n",
    "gbk.save_fig()"
   ]
  },
  {
   "cell_type": "markdown",
   "id": "2a92d273-2a45-4e55-b988-7c9e3a7a7a31",
   "metadata": {},
   "source": [
    "### 各エクソン・イントロン内のTCTT配列の個数の分布"
   ]
  },
  {
   "cell_type": "markdown",
   "id": "c5e94eac-5142-42f3-9a62-ee76fcb481a9",
   "metadata": {},
   "source": [
    "#### 各イントロン内のTCTT配列の棒グラフ"
   ]
  },
  {
   "cell_type": "code",
   "execution_count": null,
   "id": "3344cde6-2d35-4656-8026-a004ffacf1a2",
   "metadata": {},
   "outputs": [],
   "source": [
    "# 各イントロン内のTCTT配列の棒グラフ\n",
    "gbk.intron_bar()"
   ]
  },
  {
   "cell_type": "markdown",
   "id": "daf12dfc-f6dc-4919-be96-b7fbd8e31a63",
   "metadata": {},
   "source": [
    "#### 各イントロン内の100塩基あたりのTCTT配列の棒グラフ"
   ]
  },
  {
   "cell_type": "code",
   "execution_count": null,
   "id": "8d289a0d-c150-4f65-9058-9bdf97955482",
   "metadata": {},
   "outputs": [],
   "source": [
    "# 各イントロン内の100塩基あたりのTCTT配列の棒グラフ\n",
    "gbk.intron_bar_base()"
   ]
  },
  {
   "cell_type": "markdown",
   "id": "d06dfdcf-fadd-4193-a28e-7d45af97d12b",
   "metadata": {},
   "source": [
    "#### 各イントロンの両端の５０塩基に存在するTCTT配列の棒グラフ"
   ]
  },
  {
   "cell_type": "code",
   "execution_count": null,
   "id": "6223412b-8e1f-4356-932e-32f7d0250b3c",
   "metadata": {},
   "outputs": [],
   "source": [
    "# 各イントロンの両端の５０塩基に存在するTCTT配列の棒グラフ\n",
    "gbk.interest_seq_count_edge()"
   ]
  },
  {
   "cell_type": "markdown",
   "id": "9b48aacb-63af-42c3-998c-d5c167bbc46f",
   "metadata": {},
   "source": [
    "#### 各エクソン内のTCTT配列の棒グラフ"
   ]
  },
  {
   "cell_type": "code",
   "execution_count": null,
   "id": "ef5feb28-ccd8-4a3f-b7be-f171056ce2bd",
   "metadata": {},
   "outputs": [],
   "source": [
    "# 各エクソン内のTCTT配列の棒グラフ\n",
    "gbk.exon_bar()"
   ]
  },
  {
   "cell_type": "markdown",
   "id": "959ee060-d1de-42a3-903c-ed0aa0e94ae4",
   "metadata": {},
   "source": [
    "#### 各エクソン内の100塩基あたりのTCTT配列の棒グラフ"
   ]
  },
  {
   "cell_type": "code",
   "execution_count": null,
   "id": "6f00be18-964b-4333-8fa6-055308b9b152",
   "metadata": {},
   "outputs": [],
   "source": [
    "# 各エクソン内の100塩基あたりのTCTT配列の棒グラフ\n",
    "gbk.exon_bar_base()"
   ]
  },
  {
   "cell_type": "markdown",
   "id": "47867944-9daa-4272-a6c1-00dc89da23c6",
   "metadata": {},
   "source": [
    "## その他の哺乳類のTtn遺伝子のイントロンのスプライシングパターン"
   ]
  },
  {
   "cell_type": "markdown",
   "id": "ef50e2a7-e910-498c-9524-353eccf4b8a9",
   "metadata": {},
   "source": [
    "### げっ歯類のTtn遺伝子のスプライスパターン\n",
    "**mouse Ttn:**<br>\n",
    "https://www.ncbi.nlm.nih.gov/nuccore/NC_000068.8?report=graph&from=76492536&to=76854687&strand=true&app_context=Gene&assm_context=GCF_000001635.27<br>\n",
    "**rat Ttn:**<br>\n",
    "https://www.ncbi.nlm.nih.gov/nuccore/NC_051338.1?report=graph&from=61611559&to=61965783&strand=true&app_context=Gene&assm_context=GCF_015227675.2<br>\n",
    "**rabbit Ttn:**<br>\n",
    "https://www.ncbi.nlm.nih.gov/nuccore/NC_067380.1?report=graph&from=55045025&to=55398485&app_context=Gene&assm_context=GCF_009806435.1"
   ]
  },
  {
   "cell_type": "code",
   "execution_count": null,
   "id": "002414e7-95b3-48c9-8987-af7156375ea0",
   "metadata": {},
   "outputs": [],
   "source": [
    "for i in ['mouse','rat','rabbit']:\n",
    "    pile = PileUp()\n",
    "    pile.set_csv(f\"data/intron/{i}_ttn_intron.tsv\")\n",
    "    pile.set_title(f\"{i} Ttn intron gap distribution\")\n",
    "    pile.show(height=300)"
   ]
  },
  {
   "cell_type": "markdown",
   "id": "9940433f-57fe-44c7-b941-b64eb541bf2a",
   "metadata": {},
   "source": [
    "### 霊長類のTtn遺伝子のスプライスパターン\n",
    "**human TTN:**<br>\n",
    "https://www.ncbi.nlm.nih.gov/nuccore/NC_000002.12?report=graph&from=178483773&to=178849637&strand=true&app_context=Gene&assm_context=GCF_000001405.40<br>\n",
    "**chimp TTN:**<br>\n",
    "https://www.ncbi.nlm.nih.gov/nuccore/NC_072400.1?report=graph&from=80513939&to=80881842&strand=true&app_context=Gene&assm_context=GCF_028858775.1<br>\n",
    "**gorilla TTN:**<br>\n",
    "https://www.ncbi.nlm.nih.gov/nuccore/NC_073226.1?report=graph&from=69432214&to=69798206&strand=true&app_context=Gene&assm_context=GCF_029281585.1"
   ]
  },
  {
   "cell_type": "code",
   "execution_count": null,
   "id": "abdf129d-e82f-4b14-be1c-4737523a0513",
   "metadata": {},
   "outputs": [],
   "source": [
    "for i in ['human','chimp','gori']:\n",
    "    pile = PileUp()\n",
    "    pile.set_csv(f\"data/intron/{i}_ttn_intron.tsv\")\n",
    "    pile.set_title(f\"{i} Ttn intron gap distribution\")\n",
    "    pile.show(height=300)"
   ]
  },
  {
   "cell_type": "markdown",
   "id": "7892c99a-e3d8-494e-8eb3-972627687646",
   "metadata": {},
   "source": [
    "## 種間の保存性の可視化\n",
    "**UCSC genome browser**<br>\n",
    "https://genome.ucsc.edu/cgi-bin/hgTracks?db=hg38&lastVirtModeType=default&lastVirtModeExtraState=&virtModeType=default&virtMode=0&nonVirtPosition=&position=chr2%3A178525989%2D178807423&hgsid=1735195872_llHo1dKi3SVLwkPP3OCN3pMDqYzb"
   ]
  },
  {
   "cell_type": "markdown",
   "id": "047ad1a8-8243-4cbd-9582-cae0f65b834f",
   "metadata": {},
   "source": [
    "## エクソン数の多い遺伝子のイントロンのスプライスパターンを可視化"
   ]
  },
  {
   "cell_type": "code",
   "execution_count": null,
   "id": "63f61e84-f132-45c0-9745-ff0b229cbf3a",
   "metadata": {},
   "outputs": [],
   "source": [
    "for i in ['obscn','neb','ryr1','ryr2','ryr3','dst','syne1','syne2','col7a1']:\n",
    "    pile = PileUp()\n",
    "    pile.set_csv(f\"data/intron/mouse_other_genes/mouse_{i}_intron.tsv\")\n",
    "    pile.set_title(f\"Mouse {i} intron gap distribution\")\n",
    "    pile.show(height=300)"
   ]
  },
  {
   "cell_type": "markdown",
   "id": "d1fe6e10-c18f-4184-8cd3-faa4bf2884d9",
   "metadata": {},
   "source": [
    "## Guide to the Human Genome\n",
    "http://www.cshlp.org/ghg5_all/section/gene.shtml"
   ]
  },
  {
   "cell_type": "markdown",
   "id": "d86693dc-5cad-4986-b182-f804afc792ba",
   "metadata": {},
   "source": [
    "## 仮説\n",
    "TTN遺伝子のオーソログでは、種間でイントロンのスプライスパターンが異なる<br>\n",
    "哺乳類のなかでも、霊長類とげっ歯類では、それぞれ特徴的な類似したスプライスパターンを持つ<br>\n",
    "TTN遺伝子の塩基配列の保存性は、哺乳類の中でも霊長類（human,chimp,gorilla）とそれ以外の２群に大きく分かれる<br>\n",
    "エクソン数の多い遺伝子の中でも、イントロンのスプライスパターンのホットスポットを持つものと、そうでないものが存在する<br>\n",
    "筋に関連する遺伝子はスプライスパターンのホットスポットを持つ<br>"
   ]
  },
  {
   "cell_type": "code",
   "execution_count": null,
   "id": "436c8ad9-3c28-4b94-b44f-ff210131609e",
   "metadata": {},
   "outputs": [],
   "source": []
  }
 ],
 "metadata": {
  "kernelspec": {
   "display_name": "Python 3 (ipykernel)",
   "language": "python",
   "name": "python3"
  },
  "language_info": {
   "codemirror_mode": {
    "name": "ipython",
    "version": 3
   },
   "file_extension": ".py",
   "mimetype": "text/x-python",
   "name": "python",
   "nbconvert_exporter": "python",
   "pygments_lexer": "ipython3",
   "version": "3.9.18"
  }
 },
 "nbformat": 4,
 "nbformat_minor": 5
}
